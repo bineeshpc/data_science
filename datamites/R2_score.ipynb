{
 "cells": [
  {
   "cell_type": "code",
   "execution_count": 8,
   "metadata": {},
   "outputs": [
    {
     "name": "stdout",
     "output_type": "stream",
     "text": [
      "1\n",
      "2\n",
      "0.5\n"
     ]
    }
   ],
   "source": [
    "y_test = [1, 2, 3]\n",
    "y_predict = [1, 2, 4]\n",
    "\n",
    "SSR = 0**2 + 0**2 + 1**2\n",
    "\n",
    "mu = 2\n",
    "\n",
    "SST = (1 - 2)**2 + (2-2)**2 + (3-2)**2\n",
    "\n",
    "R2 = 1 - (SSR / SST)\n",
    "print(SSR)\n",
    "print(SST)\n",
    "print(R2)"
   ]
  },
  {
   "cell_type": "code",
   "execution_count": 9,
   "metadata": {},
   "outputs": [
    {
     "data": {
      "text/plain": [
       "0.5"
      ]
     },
     "execution_count": 9,
     "metadata": {},
     "output_type": "execute_result"
    }
   ],
   "source": [
    "from sklearn.metrics import r2_score\n",
    "r2_score(y_test, y_predict)"
   ]
  },
  {
   "cell_type": "markdown",
   "metadata": {},
   "source": [
    "R2 -> -inf to 1\n",
    "\n",
    "R2 < 0 usually means model is bad\n",
    "\n",
    "R2 score near to 1 means good model\n",
    "\n",
    "R2 0 means we have a mean model\n",
    "\n",
    "R2 score negative does not always mean a bad model\n",
    "\n",
    "Sometimes because of an outlier the square of the point error is huge and r2 score becomes negative\n",
    "\n"
   ]
  }
 ],
 "metadata": {
  "kernelspec": {
   "display_name": "Python 3",
   "language": "python",
   "name": "python3"
  },
  "language_info": {
   "codemirror_mode": {
    "name": "ipython",
    "version": 3
   },
   "file_extension": ".py",
   "mimetype": "text/x-python",
   "name": "python",
   "nbconvert_exporter": "python",
   "pygments_lexer": "ipython3",
   "version": "3.7.3"
  }
 },
 "nbformat": 4,
 "nbformat_minor": 2
}
