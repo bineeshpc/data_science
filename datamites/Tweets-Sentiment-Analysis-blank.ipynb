{
 "cells": [
  {
   "cell_type": "code",
   "execution_count": 2,
   "metadata": {},
   "outputs": [],
   "source": [
    "#!pip install tweepy\n",
    "#!pip install textblob"
   ]
  },
  {
   "cell_type": "code",
   "execution_count": 3,
   "metadata": {},
   "outputs": [],
   "source": [
    "import re # regular expression / regex\n",
    "import tweepy #Collect tweets\n",
    "from tweepy import OAuthHandler # Authentication\n",
    "from textblob import TextBlob # provides text mining, text analysis and text processing modules"
   ]
  },
  {
   "cell_type": "code",
   "execution_count": 4,
   "metadata": {},
   "outputs": [],
   "source": [
    "class TwitterClient(object):\n",
    "    '''\n",
    "    Generic Twitter Class for sentiment analysis.\n",
    "    '''\n",
    "    def __init__(self):\n",
    "        '''\n",
    "        Class constructor or initialization method.\n",
    "        '''\n",
    "        # keys and tokens from the Twitter Dev Console\n",
    "        consumer_key = 'ts8RhO1B1qIzdSLaDsaise89a'\n",
    "        consumer_secret = 'A4ZawHMrKiAaoxfQhmjrW5F2gWwgjh9jhCuvczy8cymLaTJfES'\n",
    "        access_token = '929606650415136768-Ok0ca8lkQk7oD8xNUqKWKg9VyoEXJRV'\n",
    "        access_token_secret = '5mJm07yiPpvFB7M4Z9l4yaip4k6gvSpL2mEMMs6sEXjqX'\n",
    " \n",
    "        # attempt authentication\n",
    "        try:\n",
    "            # create OAuthHandler object\n",
    "            self.auth = OAuthHandler(consumer_key, consumer_secret)\n",
    "            # set access token and secret\n",
    "            self.auth.set_access_token(access_token, access_token_secret)\n",
    "            # create tweepy API object to fetch tweets\n",
    "            self.api = tweepy.API(self.auth)\n",
    "        except:\n",
    "            print(\"Error: Authentication Failed\")\n",
    " \n",
    "    def clean_tweet(self, tweet):\n",
    "        '''\n",
    "        Utility function to clean tweet text by removing links, special characters\n",
    "        using simple regex statements.\n",
    "        '''\n",
    "        return ' '.join(re.sub(\"/@%&\", \" \", tweet).split())\n",
    " \n",
    "    def get_tweet_sentiment(self, tweet):\n",
    "        '''\n",
    "        Utility function to classify sentiment of passed tweet\n",
    "        using textblob's sentiment method\n",
    "        '''\n",
    "        # create TextBlob object of passed tweet text\n",
    "        analysis = TextBlob(self.clean_tweet(tweet))\n",
    "        # set sentiment\n",
    "        if analysis.sentiment.polarity > 0:\n",
    "            return 'positive'\n",
    "        elif analysis.sentiment.polarity == 0:\n",
    "            return 'neutral'\n",
    "        else:\n",
    "            return 'negative'\n",
    " \n",
    "    def get_tweets(self, query, count = 1000):\n",
    "        '''\n",
    "        Main function to fetch tweets and parse them.\n",
    "        '''\n",
    "        # empty list to store parsed tweets\n",
    "        tweets = []\n",
    " \n",
    "        try:\n",
    "            # call twitter api to fetch tweets\n",
    "            fetched_tweets = self.api.search(q = query, count = count)\n",
    " \n",
    "            # parsing tweets one by one\n",
    "            for tweet in fetched_tweets:\n",
    "                # empty dictionary to store required params of a tweet\n",
    "                parsed_tweet = {}\n",
    " \n",
    "                # saving text of tweet\n",
    "                parsed_tweet['text'] = tweet.text\n",
    "                # saving sentiment of tweet\n",
    "                parsed_tweet['sentiment'] = self.get_tweet_sentiment(tweet.text)\n",
    " \n",
    "                # appending parsed tweet to tweets list\n",
    "                if tweet.retweet_count > 0:\n",
    "                    # if tweet has retweets, ensure that it is appended only once\n",
    "                    if parsed_tweet not in tweets:\n",
    "                        tweets.append(parsed_tweet)\n",
    "                else:\n",
    "                    tweets.append(parsed_tweet)\n",
    " \n",
    "            # return parsed tweets\n",
    "            return tweets\n",
    " \n",
    "        except tweepy.TweepError as e:\n",
    "            # print error (if any)\n",
    "            print(\"Error : \" + str(e))"
   ]
  },
  {
   "cell_type": "code",
   "execution_count": 5,
   "metadata": {},
   "outputs": [],
   "source": [
    "def main(querytext):\n",
    "    # creating object of TwitterClient Class\n",
    "    api = TwitterClient()\n",
    "    # calling function to get tweets\n",
    "    tweets = api.get_tweets(query = querytext, count = 1000)\n",
    "    print(\"Queries Text : \", querytext)\n",
    "    # picking positive tweets from tweets\n",
    "    ptweets = [tweet for tweet in tweets if tweet['sentiment'] == 'positive']\n",
    "    # percentage of positive tweets\n",
    "    print(\"Positive tweets percentage: {} %\".format(100*len(ptweets)/len(tweets)))\n",
    "    # picking negative tweets from tweets\n",
    "    ntweets = [tweet for tweet in tweets if tweet['sentiment'] == 'negative']\n",
    "    # percentage of negative tweets\n",
    "    print(\"Negative tweets percentage: {} %\".format(100*len(ntweets)/len(tweets)))\n",
    "    # percentage of neutral tweets\n",
    "    print(\"Neutral tweets percentage: {} %\".format(100*(len(tweets) - len(ntweets) - len(ptweets))/len(tweets)))\n",
    "    print(\"\\n\\n Total Tweets:\",len(tweets))\n",
    "    # printing first 5 positive tweets\n",
    "    print(\"\\n\\nPositive tweets:\")\n",
    "    for tweet in ptweets[:5]:\n",
    "        print(tweet['text'])\n",
    " \n",
    "    # printing first 5 negative tweets\n",
    "    print(\"\\n\\nNegative tweets:\")\n",
    "    for tweet in ntweets[:5]:\n",
    "        print(tweet['text'])"
   ]
  },
  {
   "cell_type": "code",
   "execution_count": 6,
   "metadata": {},
   "outputs": [
    {
     "name": "stdout",
     "output_type": "stream",
     "text": [
      "Queries Text :  kashmir\n",
      "Positive tweets percentage: 28.75 %\n",
      "Negative tweets percentage: 17.5 %\n",
      "Neutral tweets percentage: 53.75 %\n",
      "\n",
      "\n",
      " Total Tweets: 80\n",
      "\n",
      "\n",
      "Positive tweets:\n",
      "RT @geonews_english: Senate chairman cancels #UAE visit as Modi honoured amid Kashmir crisis\n",
      "\n",
      "Read more: https://t.co/47Fp3iPXwI\n",
      "\n",
      "#GeoNews\n",
      "RT @Dr_Uditraj: The very act of j&amp;k admn not  to allow Rahul ji &amp; other leaders to  enter &amp; see the situations in Kashmir &amp; the media was h…\n",
      "RT @priyankagandhi: there is NOTHING more ‘political’ and ‘anti national’ than the shutting down of all democratic rights that is taking pl…\n",
      "RT @SirJadeja: Liberal media will never show you this video. The moment they show any single positive news from #Kashmir, employers like Ab…\n",
      "RT @ashoswai: A Senior and Popular Government Civil Servant in India resigns from his job in protest against regime's denial of basic right…\n",
      "\n",
      "\n",
      "Negative tweets:\n",
      "RT @OpIndia_com: Pakistan uses India Today journalist who created a drama at Srinagar airport to show India in bad light\n",
      "\n",
      "https://t.co/ji9O…\n",
      "RT @alisalmanalvi: These pics are going down in history with this bitter fact that as the curfew and other draconian restrictions continued…\n",
      "RT @AnwarLodhi: Situation in Kashmir is so bad that Mr Rahul Ghandi, the opposition leader of India, was not allowed to visit any area of K…\n",
      "RT @itsNaafey: every Intl publication is writing about the injustices in Kashmir, the detentions, the humiliation, the anger. Indian 'acces…\n",
      "RT @pid_gov: Government of Pakistan and people of Pakistan firmly stand with the people of Kashmir against the oppressive Indian regime. Pe…\n"
     ]
    }
   ],
   "source": [
    "main('kashmir')"
   ]
  },
  {
   "cell_type": "code",
   "execution_count": null,
   "metadata": {},
   "outputs": [],
   "source": []
  },
  {
   "cell_type": "code",
   "execution_count": null,
   "metadata": {},
   "outputs": [],
   "source": []
  },
  {
   "cell_type": "code",
   "execution_count": null,
   "metadata": {},
   "outputs": [],
   "source": []
  },
  {
   "cell_type": "code",
   "execution_count": 7,
   "metadata": {},
   "outputs": [
    {
     "name": "stdout",
     "output_type": "stream",
     "text": [
      "Queries Text :  modi\n",
      "Positive tweets percentage: 15.584415584415584 %\n",
      "Negative tweets percentage: 18.181818181818183 %\n",
      "Neutral tweets percentage: 66.23376623376623 %\n",
      "\n",
      "\n",
      " Total Tweets: 77\n",
      "\n",
      "\n",
      "Positive tweets:\n",
      "RT @geonews_english: Senate chairman cancels #UAE visit as Modi honoured amid Kashmir crisis\n",
      "\n",
      "Read more: https://t.co/47Fp3iPXwI\n",
      "\n",
      "#GeoNews\n",
      "RT @8ap: R.I.P Arun Jaitleyji.. you will be remembered... \n",
      "5 Major Achievements Of Arun Jaitley As India’s Finance Minister: The \"Troublesh…\n",
      "@aajtak There should be one day given to modi and it should be called modi day, the best journalist bhakt channel s… https://t.co/uMdT0cYGVj\n",
      "RT @desimojito: Babri Masjid litigant Iqbal Ansari slams Rahul Gandhi: Modi govt right in abrogating Article 370, visit PoK and ‘resolve is…\n",
      "RT @srivatsayb: Nirmala Sitharaman will use our taxes and buy herself a new Innova 🚘 to apparently save the Auto Industry!\n",
      "\n",
      "This is the bes…\n",
      "\n",
      "\n",
      "Negative tweets:\n",
      "RT @mshaanshahid: https://t.co/vBEQWsm8JE . India this man is leading you to a death trap full of hate , terrorism and disrespect. Save Ind…\n",
      "@indiantweeter Also heard that when Modi ji was sent out of Gujarat to Delhi as Gen. Sec. (On recommendation of Kes… https://t.co/WkmocLtuWp\n",
      "RT @OpIndia_com: Abusive ‘Journalist’ Swati Chaturvedi spreads fake news, tweets photoshopped image of PM Modi wearing Arabic attire\n",
      "\n",
      "https…\n",
      "RT @UnSubtleDesi: Abusive 'journalist' Swati Chaturvedi spreads fake news, tweets photoshopped image of PM Modi wearing Arabic attire  http…\n",
      "RT @BhaavnaArora: Mom: shaadi kar le. \n",
      "Me : single log jyada khush rehte hain aur tarakki karte hain. Dekho Modi ji ko, dekho Yogi ji ko, d…\n",
      "Error : Failed to send request: HTTPSConnectionPool(host='api.twitter.com', port=443): Read timed out.\n",
      "Queries Text :  modi\n"
     ]
    },
    {
     "ename": "TypeError",
     "evalue": "'NoneType' object is not iterable",
     "output_type": "error",
     "traceback": [
      "\u001b[1;31m---------------------------------------------------------------------------\u001b[0m",
      "\u001b[1;31mTypeError\u001b[0m                                 Traceback (most recent call last)",
      "\u001b[1;32m<ipython-input-7-86484069f739>\u001b[0m in \u001b[0;36m<module>\u001b[1;34m\u001b[0m\n\u001b[0;32m      1\u001b[0m \u001b[1;32mimport\u001b[0m \u001b[0mtime\u001b[0m\u001b[1;33m\u001b[0m\u001b[1;33m\u001b[0m\u001b[0m\n\u001b[0;32m      2\u001b[0m \u001b[1;32mfor\u001b[0m \u001b[0mi\u001b[0m \u001b[1;32min\u001b[0m \u001b[0mrange\u001b[0m\u001b[1;33m(\u001b[0m\u001b[1;36m10\u001b[0m\u001b[1;33m)\u001b[0m\u001b[1;33m:\u001b[0m\u001b[1;33m\u001b[0m\u001b[1;33m\u001b[0m\u001b[0m\n\u001b[1;32m----> 3\u001b[1;33m     \u001b[0mmain\u001b[0m\u001b[1;33m(\u001b[0m\u001b[1;34m\"modi\"\u001b[0m\u001b[1;33m)\u001b[0m\u001b[1;33m\u001b[0m\u001b[1;33m\u001b[0m\u001b[0m\n\u001b[0m\u001b[0;32m      4\u001b[0m     \u001b[0mtime\u001b[0m\u001b[1;33m.\u001b[0m\u001b[0msleep\u001b[0m\u001b[1;33m(\u001b[0m\u001b[1;36m2\u001b[0m\u001b[1;33m)\u001b[0m\u001b[1;33m\u001b[0m\u001b[1;33m\u001b[0m\u001b[0m\n",
      "\u001b[1;32m<ipython-input-5-18428a9cd7e6>\u001b[0m in \u001b[0;36mmain\u001b[1;34m(querytext)\u001b[0m\n\u001b[0;32m      6\u001b[0m     \u001b[0mprint\u001b[0m\u001b[1;33m(\u001b[0m\u001b[1;34m\"Queries Text : \"\u001b[0m\u001b[1;33m,\u001b[0m \u001b[0mquerytext\u001b[0m\u001b[1;33m)\u001b[0m\u001b[1;33m\u001b[0m\u001b[1;33m\u001b[0m\u001b[0m\n\u001b[0;32m      7\u001b[0m     \u001b[1;31m# picking positive tweets from tweets\u001b[0m\u001b[1;33m\u001b[0m\u001b[1;33m\u001b[0m\u001b[1;33m\u001b[0m\u001b[0m\n\u001b[1;32m----> 8\u001b[1;33m     \u001b[0mptweets\u001b[0m \u001b[1;33m=\u001b[0m \u001b[1;33m[\u001b[0m\u001b[0mtweet\u001b[0m \u001b[1;32mfor\u001b[0m \u001b[0mtweet\u001b[0m \u001b[1;32min\u001b[0m \u001b[0mtweets\u001b[0m \u001b[1;32mif\u001b[0m \u001b[0mtweet\u001b[0m\u001b[1;33m[\u001b[0m\u001b[1;34m'sentiment'\u001b[0m\u001b[1;33m]\u001b[0m \u001b[1;33m==\u001b[0m \u001b[1;34m'positive'\u001b[0m\u001b[1;33m]\u001b[0m\u001b[1;33m\u001b[0m\u001b[1;33m\u001b[0m\u001b[0m\n\u001b[0m\u001b[0;32m      9\u001b[0m     \u001b[1;31m# percentage of positive tweets\u001b[0m\u001b[1;33m\u001b[0m\u001b[1;33m\u001b[0m\u001b[1;33m\u001b[0m\u001b[0m\n\u001b[0;32m     10\u001b[0m     \u001b[0mprint\u001b[0m\u001b[1;33m(\u001b[0m\u001b[1;34m\"Positive tweets percentage: {} %\"\u001b[0m\u001b[1;33m.\u001b[0m\u001b[0mformat\u001b[0m\u001b[1;33m(\u001b[0m\u001b[1;36m100\u001b[0m\u001b[1;33m*\u001b[0m\u001b[0mlen\u001b[0m\u001b[1;33m(\u001b[0m\u001b[0mptweets\u001b[0m\u001b[1;33m)\u001b[0m\u001b[1;33m/\u001b[0m\u001b[0mlen\u001b[0m\u001b[1;33m(\u001b[0m\u001b[0mtweets\u001b[0m\u001b[1;33m)\u001b[0m\u001b[1;33m)\u001b[0m\u001b[1;33m)\u001b[0m\u001b[1;33m\u001b[0m\u001b[1;33m\u001b[0m\u001b[0m\n",
      "\u001b[1;31mTypeError\u001b[0m: 'NoneType' object is not iterable"
     ]
    }
   ],
   "source": [
    "import time\n",
    "for i in range(10):\n",
    "    main(\"modi\")\n",
    "    time.sleep(2)"
   ]
  },
  {
   "cell_type": "code",
   "execution_count": null,
   "metadata": {},
   "outputs": [],
   "source": []
  },
  {
   "cell_type": "code",
   "execution_count": null,
   "metadata": {},
   "outputs": [],
   "source": []
  },
  {
   "cell_type": "code",
   "execution_count": null,
   "metadata": {},
   "outputs": [],
   "source": []
  },
  {
   "cell_type": "code",
   "execution_count": null,
   "metadata": {},
   "outputs": [],
   "source": []
  }
 ],
 "metadata": {
  "kernelspec": {
   "display_name": "Python 3",
   "language": "python",
   "name": "python3"
  },
  "language_info": {
   "codemirror_mode": {
    "name": "ipython",
    "version": 3
   },
   "file_extension": ".py",
   "mimetype": "text/x-python",
   "name": "python",
   "nbconvert_exporter": "python",
   "pygments_lexer": "ipython3",
   "version": "3.7.3"
  }
 },
 "nbformat": 4,
 "nbformat_minor": 2
}
