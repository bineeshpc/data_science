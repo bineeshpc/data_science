{
 "cells": [
  {
   "cell_type": "markdown",
   "metadata": {},
   "source": [
    "# Numpy - Numerical python"
   ]
  },
  {
   "cell_type": "code",
   "execution_count": 2,
   "metadata": {},
   "outputs": [
    {
     "data": {
      "text/plain": [
       "array(['4.5', '5', '6', 'data'], dtype='<U32')"
      ]
     },
     "execution_count": 2,
     "metadata": {},
     "output_type": "execute_result"
    }
   ],
   "source": [
    "# Numpy array is homogeneous\n",
    "\n",
    "import numpy as np\n",
    "\n",
    "a = np.array([4.5, 5, 6, 'data'])\n",
    "a"
   ]
  },
  {
   "cell_type": "code",
   "execution_count": 3,
   "metadata": {},
   "outputs": [
    {
     "data": {
      "text/plain": [
       "array(['abcd', '5', '6'], dtype='<U4')"
      ]
     },
     "execution_count": 3,
     "metadata": {},
     "output_type": "execute_result"
    }
   ],
   "source": [
    "c = np.array(['abcd', '5', 6])\n",
    "c"
   ]
  },
  {
   "cell_type": "code",
   "execution_count": 4,
   "metadata": {},
   "outputs": [
    {
     "name": "stdout",
     "output_type": "stream",
     "text": [
      "[4 5 6 8]\n",
      "size of array:  4\n",
      "datatype of the array int32\n",
      "Dimension of the array 1\n",
      "Shape of the array (4,)\n",
      "type of the array <class 'numpy.ndarray'>\n"
     ]
    }
   ],
   "source": [
    "a = np.array([4, 5, 6, 8])\n",
    "print(a)\n",
    "print('size of array: ', a.size)\n",
    "print('datatype of the array', a.dtype)\n",
    "print('Dimension of the array', a.ndim)\n",
    "print('Shape of the array', a.shape)\n",
    "\n",
    "print('type of the array', type(a))"
   ]
  },
  {
   "cell_type": "markdown",
   "metadata": {},
   "source": [
    "2d array is a collection of one dimensional array"
   ]
  },
  {
   "cell_type": "code",
   "execution_count": 5,
   "metadata": {},
   "outputs": [
    {
     "name": "stdout",
     "output_type": "stream",
     "text": [
      "[[ 4  5  6  8]\n",
      " [ 8  4 26 18]\n",
      " [ 8 52 16 22]]\n",
      "size of array:  12\n",
      "datatype of the array int32\n",
      "Dimension of the array 2\n",
      "Shape of the array (3, 4)\n",
      "type of the array <class 'numpy.ndarray'>\n"
     ]
    }
   ],
   "source": [
    "a = np.array([[4, 5, 6, 8], [8, 4, 26, 18], [8, 52, 16, 22] ])\n",
    "print(a)\n",
    "print('size of array: ', a.size)\n",
    "print('datatype of the array', a.dtype)\n",
    "print('Dimension of the array', a.ndim)\n",
    "print('Shape of the array', a.shape)\n",
    "\n",
    "print('type of the array', type(a))"
   ]
  },
  {
   "cell_type": "markdown",
   "metadata": {},
   "source": [
    "collection of one dimensional arrays\n",
    "Dont think about this as rows and columns\n",
    "Rows and columns are in pandas.\n",
    "Do not get confused"
   ]
  },
  {
   "cell_type": "code",
   "execution_count": 6,
   "metadata": {},
   "outputs": [
    {
     "name": "stdout",
     "output_type": "stream",
     "text": [
      "[list([4, 5, 6, 8]) list([5])]\n",
      "size of array:  2\n",
      "datatype of the array object\n",
      "Dimension of the array 1\n",
      "Shape of the array (2,)\n",
      "type of the array <class 'numpy.ndarray'>\n"
     ]
    }
   ],
   "source": [
    "a = np.array([[4, 5, 6, 8], [5]])\n",
    "print(a)\n",
    "print('size of array: ', a.size)\n",
    "print('datatype of the array', a.dtype)\n",
    "print('Dimension of the array', a.ndim)\n",
    "print('Shape of the array', a.shape)\n",
    "\n",
    "print('type of the array', type(a))"
   ]
  },
  {
   "cell_type": "markdown",
   "metadata": {},
   "source": [
    "In the above case it is not a 2 d array anymore\n",
    "because one of the lists contains only 1 element.\n",
    "\n",
    "It becomes a 1 dimensional array with 1 object\n",
    "\n",
    "3 dimensional array is a collection of 2 d array and so on\n"
   ]
  },
  {
   "cell_type": "code",
   "execution_count": 7,
   "metadata": {},
   "outputs": [
    {
     "name": "stdout",
     "output_type": "stream",
     "text": [
      "[[[ 4  5  6  8]\n",
      "  [ 8  4 26 18]\n",
      "  [ 8 52 16 22]]\n",
      "\n",
      " [[ 4  5  6  8]\n",
      "  [ 8  4 26 18]\n",
      "  [ 8 52 16 22]]]\n",
      "size of array:  24\n",
      "datatype of the array int32\n",
      "Dimension of the array 3\n",
      "Shape of the array (2, 3, 4)\n",
      "type of the array <class 'numpy.ndarray'>\n"
     ]
    }
   ],
   "source": [
    "a = np.array([\n",
    "    \n",
    "   [ [4, 5, 6, 8], [8, 4, 26, 18], [8, 52, 16, 22] ],\n",
    "\n",
    "   [  [4, 5, 6, 8], [8, 4, 26, 18], [8, 52, 16, 22] ]\n",
    "\n",
    "\n",
    "])\n",
    "print(a)\n",
    "print('size of array: ', a.size)\n",
    "print('datatype of the array', a.dtype)\n",
    "print('Dimension of the array', a.ndim)\n",
    "print('Shape of the array', a.shape)\n",
    "\n",
    "print('type of the array', type(a))"
   ]
  },
  {
   "cell_type": "code",
   "execution_count": 8,
   "metadata": {},
   "outputs": [
    {
     "data": {
      "text/plain": [
       "array([[ 4,  5,  6,  8],\n",
       "       [ 8,  4, 26, 18],\n",
       "       [ 8, 52, 16, 22]])"
      ]
     },
     "execution_count": 8,
     "metadata": {},
     "output_type": "execute_result"
    }
   ],
   "source": [
    "a[1]"
   ]
  },
  {
   "cell_type": "code",
   "execution_count": 9,
   "metadata": {},
   "outputs": [
    {
     "data": {
      "text/plain": [
       "array([4, 5, 6, 8])"
      ]
     },
     "execution_count": 9,
     "metadata": {},
     "output_type": "execute_result"
    }
   ],
   "source": [
    "a[1][0]"
   ]
  },
  {
   "cell_type": "code",
   "execution_count": 10,
   "metadata": {},
   "outputs": [
    {
     "data": {
      "text/plain": [
       "4"
      ]
     },
     "execution_count": 10,
     "metadata": {},
     "output_type": "execute_result"
    }
   ],
   "source": [
    "a[1][0][0]"
   ]
  },
  {
   "cell_type": "code",
   "execution_count": 11,
   "metadata": {},
   "outputs": [
    {
     "data": {
      "text/plain": [
       "4"
      ]
     },
     "execution_count": 11,
     "metadata": {},
     "output_type": "execute_result"
    }
   ],
   "source": [
    "a[1,0,0]"
   ]
  },
  {
   "cell_type": "markdown",
   "metadata": {},
   "source": [
    "Any kind of data used for artificial intelligence finally ends up in numpy in python\n",
    "\n",
    "April fool joke of communicating with plants by google\n",
    "\n"
   ]
  },
  {
   "cell_type": "code",
   "execution_count": 12,
   "metadata": {},
   "outputs": [
    {
     "name": "stdout",
     "output_type": "stream",
     "text": [
      "[0 1 2 3 4 5 6 7 8 9]\n"
     ]
    }
   ],
   "source": [
    "print(np.arange(10))"
   ]
  },
  {
   "cell_type": "code",
   "execution_count": 13,
   "metadata": {},
   "outputs": [
    {
     "name": "stdout",
     "output_type": "stream",
     "text": [
      "[10 11 12 13 14 15 16 17 18 19]\n"
     ]
    }
   ],
   "source": [
    "print(np.arange(10, 20))"
   ]
  },
  {
   "cell_type": "markdown",
   "metadata": {},
   "source": [
    "starting position is included, excludes the end position"
   ]
  },
  {
   "cell_type": "code",
   "execution_count": 14,
   "metadata": {},
   "outputs": [
    {
     "name": "stdout",
     "output_type": "stream",
     "text": [
      "[10 12 14 16 18]\n"
     ]
    }
   ],
   "source": [
    "print(np.arange(10, 20, 2))"
   ]
  },
  {
   "cell_type": "markdown",
   "metadata": {},
   "source": [
    "# np.linspace() Linear space"
   ]
  },
  {
   "cell_type": "code",
   "execution_count": 15,
   "metadata": {},
   "outputs": [
    {
     "data": {
      "text/plain": [
       "array([10., 30., 50.])"
      ]
     },
     "execution_count": 15,
     "metadata": {},
     "output_type": "execute_result"
    }
   ],
   "source": [
    "np.linspace(10, 50, 3)"
   ]
  },
  {
   "cell_type": "markdown",
   "metadata": {},
   "source": [
    "give me 41 numbers equally spaced between 10 and 50 including both numbers\n",
    "\n",
    "linspace is useful to generate sample space\n",
    "\n"
   ]
  },
  {
   "cell_type": "code",
   "execution_count": 16,
   "metadata": {},
   "outputs": [
    {
     "data": {
      "text/plain": [
       "array([10., 11., 12., 13., 14., 15., 16., 17., 18., 19., 20., 21., 22.,\n",
       "       23., 24., 25., 26., 27., 28., 29., 30., 31., 32., 33., 34., 35.,\n",
       "       36., 37., 38., 39., 40., 41., 42., 43., 44., 45., 46., 47., 48.,\n",
       "       49., 50.])"
      ]
     },
     "execution_count": 16,
     "metadata": {},
     "output_type": "execute_result"
    }
   ],
   "source": [
    "np.linspace(10, 50, 41)"
   ]
  },
  {
   "cell_type": "code",
   "execution_count": 17,
   "metadata": {},
   "outputs": [
    {
     "data": {
      "text/plain": [
       "array([ 0,  1,  2,  3,  4,  5,  6,  7,  8,  9, 10, 11, 12, 13, 14, 15, 16,\n",
       "       17, 18, 19, 20, 21, 22, 23])"
      ]
     },
     "execution_count": 17,
     "metadata": {},
     "output_type": "execute_result"
    }
   ],
   "source": [
    "np.arange(24)"
   ]
  },
  {
   "cell_type": "code",
   "execution_count": 18,
   "metadata": {},
   "outputs": [
    {
     "data": {
      "text/plain": [
       "array([[ 0,  1,  2,  3,  4,  5],\n",
       "       [ 6,  7,  8,  9, 10, 11],\n",
       "       [12, 13, 14, 15, 16, 17],\n",
       "       [18, 19, 20, 21, 22, 23]])"
      ]
     },
     "execution_count": 18,
     "metadata": {},
     "output_type": "execute_result"
    }
   ],
   "source": [
    "b = np.arange(24).reshape(4, 6) # . is also used for piping\n",
    "b"
   ]
  },
  {
   "cell_type": "code",
   "execution_count": 19,
   "metadata": {},
   "outputs": [
    {
     "data": {
      "text/plain": [
       "(4, 6)"
      ]
     },
     "execution_count": 19,
     "metadata": {},
     "output_type": "execute_result"
    }
   ],
   "source": [
    "b.shape"
   ]
  },
  {
   "cell_type": "code",
   "execution_count": 20,
   "metadata": {},
   "outputs": [
    {
     "data": {
      "text/plain": [
       "array([[[ 0,  1,  2,  3],\n",
       "        [ 4,  5,  6,  7],\n",
       "        [ 8,  9, 10, 11]],\n",
       "\n",
       "       [[12, 13, 14, 15],\n",
       "        [16, 17, 18, 19],\n",
       "        [20, 21, 22, 23]]])"
      ]
     },
     "execution_count": 20,
     "metadata": {},
     "output_type": "execute_result"
    }
   ],
   "source": [
    "b.reshape(2, 3, 4)"
   ]
  },
  {
   "cell_type": "code",
   "execution_count": 21,
   "metadata": {},
   "outputs": [
    {
     "data": {
      "text/plain": [
       "array([[[[[ 0,  1],\n",
       "          [ 2,  3]],\n",
       "\n",
       "         [[ 4,  5],\n",
       "          [ 6,  7]]],\n",
       "\n",
       "\n",
       "        [[[ 8,  9],\n",
       "          [10, 11]],\n",
       "\n",
       "         [[12, 13],\n",
       "          [14, 15]]],\n",
       "\n",
       "\n",
       "        [[[16, 17],\n",
       "          [18, 19]],\n",
       "\n",
       "         [[20, 21],\n",
       "          [22, 23]]]]])"
      ]
     },
     "execution_count": 21,
     "metadata": {},
     "output_type": "execute_result"
    }
   ],
   "source": [
    "c = b.reshape(1,3,2,2,2)\n",
    "c"
   ]
  },
  {
   "cell_type": "code",
   "execution_count": 22,
   "metadata": {},
   "outputs": [
    {
     "data": {
      "text/plain": [
       "(1, 3, 2, 2, 2)"
      ]
     },
     "execution_count": 22,
     "metadata": {},
     "output_type": "execute_result"
    }
   ],
   "source": [
    "c.shape"
   ]
  },
  {
   "cell_type": "code",
   "execution_count": 23,
   "metadata": {},
   "outputs": [
    {
     "data": {
      "text/plain": [
       "array([[[[[[ 0]],\n",
       "\n",
       "          [[ 1]],\n",
       "\n",
       "          [[ 2]]],\n",
       "\n",
       "\n",
       "         [[[ 3]],\n",
       "\n",
       "          [[ 4]],\n",
       "\n",
       "          [[ 5]]]],\n",
       "\n",
       "\n",
       "\n",
       "        [[[[ 6]],\n",
       "\n",
       "          [[ 7]],\n",
       "\n",
       "          [[ 8]]],\n",
       "\n",
       "\n",
       "         [[[ 9]],\n",
       "\n",
       "          [[10]],\n",
       "\n",
       "          [[11]]]]],\n",
       "\n",
       "\n",
       "\n",
       "\n",
       "       [[[[[12]],\n",
       "\n",
       "          [[13]],\n",
       "\n",
       "          [[14]]],\n",
       "\n",
       "\n",
       "         [[[15]],\n",
       "\n",
       "          [[16]],\n",
       "\n",
       "          [[17]]]],\n",
       "\n",
       "\n",
       "\n",
       "        [[[[18]],\n",
       "\n",
       "          [[19]],\n",
       "\n",
       "          [[20]]],\n",
       "\n",
       "\n",
       "         [[[21]],\n",
       "\n",
       "          [[22]],\n",
       "\n",
       "          [[23]]]]]])"
      ]
     },
     "execution_count": 23,
     "metadata": {},
     "output_type": "execute_result"
    }
   ],
   "source": [
    "d = b.reshape(2, 2, 2, 3, 1, 1)\n",
    "d"
   ]
  },
  {
   "cell_type": "code",
   "execution_count": 24,
   "metadata": {},
   "outputs": [
    {
     "data": {
      "text/plain": [
       "(2, 2, 2, 3, 1, 1)"
      ]
     },
     "execution_count": 24,
     "metadata": {},
     "output_type": "execute_result"
    }
   ],
   "source": [
    "d.shape"
   ]
  },
  {
   "cell_type": "markdown",
   "metadata": {},
   "source": [
    "In practice we play with one or two dimensions"
   ]
  },
  {
   "cell_type": "code",
   "execution_count": 25,
   "metadata": {},
   "outputs": [],
   "source": [
    "# ravel flatten an array back to single dimension"
   ]
  },
  {
   "cell_type": "code",
   "execution_count": 26,
   "metadata": {},
   "outputs": [
    {
     "data": {
      "text/plain": [
       "array([ 0,  1,  2,  3,  4,  5,  6,  7,  8,  9, 10, 11, 12, 13, 14, 15, 16,\n",
       "       17, 18, 19, 20, 21, 22, 23])"
      ]
     },
     "execution_count": 26,
     "metadata": {},
     "output_type": "execute_result"
    }
   ],
   "source": [
    "\n",
    "d.ravel()"
   ]
  },
  {
   "cell_type": "markdown",
   "metadata": {},
   "source": [
    "# np.random.rand()\n",
    "random subpackage\n"
   ]
  },
  {
   "cell_type": "code",
   "execution_count": 27,
   "metadata": {},
   "outputs": [
    {
     "data": {
      "text/plain": [
       "0.6900588159194561"
      ]
     },
     "execution_count": 27,
     "metadata": {},
     "output_type": "execute_result"
    }
   ],
   "source": [
    "# 16 digit decimal precision number between 0 and 1\n",
    "np.random.rand()"
   ]
  },
  {
   "cell_type": "code",
   "execution_count": 28,
   "metadata": {},
   "outputs": [
    {
     "data": {
      "text/plain": [
       "60.382304337264195"
      ]
     },
     "execution_count": 28,
     "metadata": {},
     "output_type": "execute_result"
    }
   ],
   "source": [
    "np.random.rand() * 100"
   ]
  },
  {
   "cell_type": "code",
   "execution_count": 29,
   "metadata": {},
   "outputs": [
    {
     "data": {
      "text/plain": [
       "68"
      ]
     },
     "execution_count": 29,
     "metadata": {},
     "output_type": "execute_result"
    }
   ],
   "source": [
    "# number between 35 and 100\n",
    "# min + rand() * (max - min)\n",
    "35 + int(np.random.rand() * 65) "
   ]
  },
  {
   "cell_type": "code",
   "execution_count": 30,
   "metadata": {},
   "outputs": [
    {
     "data": {
      "text/plain": [
       "69"
      ]
     },
     "execution_count": 30,
     "metadata": {},
     "output_type": "execute_result"
    }
   ],
   "source": [
    "def random_between(min_value, max_value):\n",
    "    \"\"\" A fuction which returns an integer between min_value and max_value\n",
    "    \"\"\"\n",
    "    return min_value + int(np.random.rand() * (max_value - min_value))\n",
    "\n",
    "random_between(65, 70)"
   ]
  },
  {
   "cell_type": "code",
   "execution_count": 31,
   "metadata": {},
   "outputs": [
    {
     "data": {
      "text/plain": [
       "array([0.46444571, 0.0279086 , 0.58804388, 0.9331591 , 0.93958228])"
      ]
     },
     "execution_count": 31,
     "metadata": {},
     "output_type": "execute_result"
    }
   ],
   "source": [
    "# 5 ranodm numbers between 0 and 1\n",
    "np.random.rand(5)"
   ]
  },
  {
   "cell_type": "code",
   "execution_count": 32,
   "metadata": {},
   "outputs": [
    {
     "data": {
      "text/plain": [
       "array([[0.72349061, 0.59637706, 0.55353876, 0.38033911],\n",
       "       [0.73946222, 0.0254033 , 0.14922482, 0.11546467],\n",
       "       [0.14697336, 0.21405767, 0.83072286, 0.61804003]])"
      ]
     },
     "execution_count": 32,
     "metadata": {},
     "output_type": "execute_result"
    }
   ],
   "source": [
    "# 3 x 4 2d array\n",
    "# takes any shape and gives a random array of that shape\n",
    "np.random.rand(3, 4)"
   ]
  },
  {
   "cell_type": "code",
   "execution_count": 33,
   "metadata": {},
   "outputs": [
    {
     "data": {
      "text/plain": [
       "71"
      ]
     },
     "execution_count": 33,
     "metadata": {},
     "output_type": "execute_result"
    }
   ],
   "source": [
    "# randint\n",
    "# what we wrote above\n",
    "np.random.randint(35, 100)"
   ]
  },
  {
   "cell_type": "code",
   "execution_count": 34,
   "metadata": {},
   "outputs": [
    {
     "data": {
      "text/plain": [
       "array([77, 85, 47, 64, 41, 40, 49, 52, 76, 47, 91, 67, 62, 43, 94, 38, 80,\n",
       "       86, 46, 78, 53, 92, 62, 48, 91, 37, 91, 39, 77, 78, 86, 87, 40, 57,\n",
       "       62, 72, 81, 75, 79, 88, 79, 93, 71, 73, 80, 49, 57, 50, 89, 54, 78,\n",
       "       72, 88, 68, 65, 94, 88, 54, 57, 94, 62, 78, 45, 67, 92, 49, 75, 79,\n",
       "       87, 36, 78, 58, 58, 73, 47, 74, 97, 40, 68, 59, 46, 40, 39, 96, 63,\n",
       "       57, 82, 54, 41, 61, 42, 46, 53, 66, 71, 86, 54, 61, 61, 98])"
      ]
     },
     "execution_count": 34,
     "metadata": {},
     "output_type": "execute_result"
    }
   ],
   "source": [
    "# 100 numbers between 35 and 100\n",
    "np.random.randint(35, 100 ,100)"
   ]
  },
  {
   "cell_type": "code",
   "execution_count": 35,
   "metadata": {},
   "outputs": [
    {
     "data": {
      "text/plain": [
       "array([[41, 49, 38, 76, 72],\n",
       "       [82, 96, 53, 90, 98],\n",
       "       [86, 69, 78, 65, 75],\n",
       "       [55, 54, 38, 67, 84],\n",
       "       [85, 87, 73, 90, 68],\n",
       "       [87, 47, 75, 80, 93],\n",
       "       [82, 47, 56, 90, 60],\n",
       "       [36, 93, 56, 44, 76],\n",
       "       [72, 93, 37, 62, 59],\n",
       "       [71, 89, 50, 84, 59],\n",
       "       [38, 39, 93, 52, 37],\n",
       "       [35, 87, 87, 76, 53],\n",
       "       [48, 94, 86, 47, 77],\n",
       "       [72, 76, 37, 43, 53],\n",
       "       [85, 40, 96, 61, 94],\n",
       "       [66, 82, 38, 73, 71],\n",
       "       [95, 80, 76, 84, 88],\n",
       "       [82, 69, 54, 94, 76],\n",
       "       [76, 54, 95, 97, 64],\n",
       "       [97, 56, 98, 98, 37]])"
      ]
     },
     "execution_count": 35,
     "metadata": {},
     "output_type": "execute_result"
    }
   ],
   "source": [
    "np.random.randint(35, 100, 100).reshape(20, 5)"
   ]
  },
  {
   "cell_type": "code",
   "execution_count": 36,
   "metadata": {},
   "outputs": [
    {
     "data": {
      "text/plain": [
       "array([[7.41619849, 8.54400375, 7.74596669, ..., 8.24621125, 9.79795897,\n",
       "        7.81024968],\n",
       "       [9.32737905, 6.63324958, 7.        , ..., 8.36660027, 9.2736185 ,\n",
       "        6.164414  ],\n",
       "       [9.38083152, 9.38083152, 8.06225775, ..., 9.48683298, 8.71779789,\n",
       "        8.94427191],\n",
       "       ...,\n",
       "       [8.77496439, 9.69535971, 6.40312424, ..., 6.164414  , 8.36660027,\n",
       "        8.88819442],\n",
       "       [7.61577311, 9.43398113, 8.77496439, ..., 8.06225775, 7.28010989,\n",
       "        8.        ],\n",
       "       [8.06225775, 8.        , 9.21954446, ..., 7.07106781, 8.48528137,\n",
       "        9.11043358]])"
      ]
     },
     "execution_count": 36,
     "metadata": {},
     "output_type": "execute_result"
    }
   ],
   "source": [
    "# numpy is very efficient\n",
    "np.sqrt(np.random.randint(35, 100, int(1e6)).reshape(int(1e3), 1000))"
   ]
  },
  {
   "cell_type": "code",
   "execution_count": 37,
   "metadata": {},
   "outputs": [
    {
     "data": {
      "text/plain": [
       "1.1447298858494002"
      ]
     },
     "execution_count": 37,
     "metadata": {},
     "output_type": "execute_result"
    }
   ],
   "source": [
    "np.log(np.pi)"
   ]
  },
  {
   "cell_type": "code",
   "execution_count": 38,
   "metadata": {},
   "outputs": [],
   "source": [
    " a = np.arange(24).reshape(4, 6)"
   ]
  },
  {
   "cell_type": "code",
   "execution_count": 39,
   "metadata": {},
   "outputs": [
    {
     "data": {
      "text/plain": [
       "array([[ 0,  1,  2,  3,  4,  5],\n",
       "       [ 6,  7,  8,  9, 10, 11],\n",
       "       [12, 13, 14, 15, 16, 17],\n",
       "       [18, 19, 20, 21, 22, 23]])"
      ]
     },
     "execution_count": 39,
     "metadata": {},
     "output_type": "execute_result"
    }
   ],
   "source": [
    "a"
   ]
  },
  {
   "cell_type": "code",
   "execution_count": 40,
   "metadata": {},
   "outputs": [
    {
     "data": {
      "text/plain": [
       "[array([[ 0,  1,  2],\n",
       "        [ 6,  7,  8],\n",
       "        [12, 13, 14],\n",
       "        [18, 19, 20]]), array([[ 3,  4,  5],\n",
       "        [ 9, 10, 11],\n",
       "        [15, 16, 17],\n",
       "        [21, 22, 23]])]"
      ]
     },
     "execution_count": 40,
     "metadata": {},
     "output_type": "execute_result"
    }
   ],
   "source": [
    "np.hsplit(a, 2)"
   ]
  },
  {
   "cell_type": "code",
   "execution_count": 41,
   "metadata": {},
   "outputs": [
    {
     "data": {
      "text/plain": [
       "[array([[ 0,  1,  2,  3,  4,  5],\n",
       "        [ 6,  7,  8,  9, 10, 11]]), array([[12, 13, 14, 15, 16, 17],\n",
       "        [18, 19, 20, 21, 22, 23]])]"
      ]
     },
     "execution_count": 41,
     "metadata": {},
     "output_type": "execute_result"
    }
   ],
   "source": [
    "np.vsplit(a, 2)"
   ]
  },
  {
   "cell_type": "code",
   "execution_count": 42,
   "metadata": {},
   "outputs": [
    {
     "data": {
      "text/plain": [
       "array([[ 0,  1,  2,  3,  4,  5],\n",
       "       [ 6,  7,  8,  9, 10, 11],\n",
       "       [12, 13, 14, 15, 16, 17],\n",
       "       [18, 19, 20, 21, 22, 23]])"
      ]
     },
     "execution_count": 42,
     "metadata": {},
     "output_type": "execute_result"
    }
   ],
   "source": [
    "a"
   ]
  },
  {
   "cell_type": "code",
   "execution_count": 43,
   "metadata": {},
   "outputs": [
    {
     "data": {
      "text/plain": [
       "array([[ 0,  1,  2,  3,  4,  5],\n",
       "       [ 6,  7,  8,  9, 10, 11],\n",
       "       [12, 13, 14, 15, 16, 17],\n",
       "       [18, 19, 20, 21, 22, 23]])"
      ]
     },
     "execution_count": 43,
     "metadata": {},
     "output_type": "execute_result"
    }
   ],
   "source": [
    "b"
   ]
  },
  {
   "cell_type": "code",
   "execution_count": 44,
   "metadata": {},
   "outputs": [
    {
     "data": {
      "text/plain": [
       "array([[ 0,  1,  2,  3,  4,  5,  0,  1,  2,  3,  4,  5],\n",
       "       [ 6,  7,  8,  9, 10, 11,  6,  7,  8,  9, 10, 11],\n",
       "       [12, 13, 14, 15, 16, 17, 12, 13, 14, 15, 16, 17],\n",
       "       [18, 19, 20, 21, 22, 23, 18, 19, 20, 21, 22, 23]])"
      ]
     },
     "execution_count": 44,
     "metadata": {},
     "output_type": "execute_result"
    }
   ],
   "source": [
    "np.hstack((a, b))"
   ]
  },
  {
   "cell_type": "code",
   "execution_count": 45,
   "metadata": {},
   "outputs": [
    {
     "data": {
      "text/plain": [
       "array([[ 0,  1,  2,  3,  4,  5],\n",
       "       [ 6,  7,  8,  9, 10, 11],\n",
       "       [12, 13, 14, 15, 16, 17],\n",
       "       [18, 19, 20, 21, 22, 23],\n",
       "       [ 0,  1,  2,  3,  4,  5],\n",
       "       [ 6,  7,  8,  9, 10, 11],\n",
       "       [12, 13, 14, 15, 16, 17],\n",
       "       [18, 19, 20, 21, 22, 23]])"
      ]
     },
     "execution_count": 45,
     "metadata": {},
     "output_type": "execute_result"
    }
   ],
   "source": [
    "np.vstack((a, b))"
   ]
  },
  {
   "cell_type": "code",
   "execution_count": 46,
   "metadata": {},
   "outputs": [
    {
     "name": "stdout",
     "output_type": "stream",
     "text": [
      "[4, 5, 6] [4, 5, 6]\n",
      "[4, 500, 6] [4, 500, 6]\n"
     ]
    }
   ],
   "source": [
    "a = [4, 5, 6]\n",
    "\n",
    "b = a\n",
    "\n",
    "print(a, b)\n",
    "\n",
    "a[1] = 500\n",
    "\n",
    "print(a, b)"
   ]
  },
  {
   "cell_type": "code",
   "execution_count": 47,
   "metadata": {},
   "outputs": [
    {
     "name": "stdout",
     "output_type": "stream",
     "text": [
      "[4, 5, 6] [4, 5, 6]\n",
      "[4, 500, 6] [4, 5, 6]\n"
     ]
    }
   ],
   "source": [
    "a = [4, 5, 6]\n",
    "\n",
    "b = a.copy() # deep copy\n",
    "\n",
    "print(a, b)\n",
    "\n",
    "a[1] = 500\n",
    "\n",
    "print(a, b)"
   ]
  },
  {
   "cell_type": "code",
   "execution_count": null,
   "metadata": {},
   "outputs": [],
   "source": []
  }
 ],
 "metadata": {
  "kernelspec": {
   "display_name": "Python 3",
   "language": "python",
   "name": "python3"
  },
  "language_info": {
   "codemirror_mode": {
    "name": "ipython",
    "version": 3
   },
   "file_extension": ".py",
   "mimetype": "text/x-python",
   "name": "python",
   "nbconvert_exporter": "python",
   "pygments_lexer": "ipython3",
   "version": "3.7.3"
  }
 },
 "nbformat": 4,
 "nbformat_minor": 2
}
