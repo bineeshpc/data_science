{
 "cells": [
  {
   "cell_type": "markdown",
   "metadata": {},
   "source": [
    "# Statistics for DataScience -2"
   ]
  },
  {
   "cell_type": "raw",
   "metadata": {},
   "source": [
    "1) Which of the following are the fundamental measures of central tendency ( Choose multiple options if applicable)\n",
    "    a) Mean\n",
    "    b) Mode\n",
    "    c) Median\n",
    "    d) variance"
   ]
  },
  {
   "cell_type": "raw",
   "metadata": {},
   "source": [
    "2) Which central tendancy best mesaures Income Distribution in a any company (Choose multiple options if applicable)\n",
    "    a) Mean\n",
    "    b) Mode\n",
    "    c) Median\n",
    "    d) variance"
   ]
  },
  {
   "cell_type": "raw",
   "metadata": {},
   "source": [
    "3) Height of all the adult men in a city is best mesaured by following central tendencies ( Choose multiple options if applicable)\n",
    "    a) Mean\n",
    "    b) Mode\n",
    "    c) Median\n",
    "    d) variance"
   ]
  },
  {
   "cell_type": "raw",
   "metadata": {},
   "source": [
    "4) If you are standing in a bus stop, waitng for bus and predicting if the bus would come in time. Which potential metric is being used in your mind (subconsciouly) to do this prediction.( Choose multiple options if applicable)\n",
    "    a) Mean\n",
    "    b) Mode\n",
    "    c) Median\n",
    "    d) variance"
   ]
  },
  {
   "cell_type": "raw",
   "metadata": {},
   "source": [
    "5) Variance and Standard deviation are both measures of variability (True/False) "
   ]
  },
  {
   "cell_type": "raw",
   "metadata": {},
   "source": [
    "6) Which of the following is/are not a measure(s) of varibaility\n",
    "    a) Range\n",
    "    b) Variation\n",
    "    c) Standard Deviation\n",
    "    d) Inter Quartile Range\n",
    "    d) All the above\n",
    "    e) Non of the above"
   ]
  },
  {
   "cell_type": "raw",
   "metadata": {},
   "source": [
    "7) In any sample sum of differences between each data element and the mean of the sample is always _______."
   ]
  },
  {
   "cell_type": "raw",
   "metadata": {},
   "source": [
    "8) Z-score tranformation is a function of mean and variation. ( True/False)"
   ]
  },
  {
   "cell_type": "code",
   "execution_count": 1,
   "metadata": {},
   "outputs": [],
   "source": [
    "#Use Python Code\n",
    "x = [2,3,4,4,5,6,6,6,7,8,2]\n",
    "# Calculate the mean, standard deviation and variance\n",
    "\n",
    "# In case of variance, please check if the numpy formula devides the \"sum of squared difference from mean\" by eithr 'n' or 'n-1' or 'n-2'\n",
    "\n",
    "\n",
    "# Calculate the median\n",
    "\n",
    "\n",
    "# Calculate the mode\n",
    "\n",
    "\n",
    "# Calculate the Z-score for the below list\n",
    "\n",
    "\n",
    "# Calculate the range\n",
    "\n",
    "\n",
    "# Calculate the Inter Quantile Range\n",
    "\n",
    "\n",
    "# Calculate the correaltion Coefficient\n"
   ]
  },
  {
   "cell_type": "raw",
   "metadata": {},
   "source": [
    "9) Z-Score shows:\n",
    "    a) Number of Std deviations, an data in a sample is away from its sample mean\n",
    "    b) Number of data in a sample having values, above sample data for whicn z-score is calculated\n",
    "    c) Number of data in a sample having values, below sample data for whicn z-score is calculated"
   ]
  },
  {
   "cell_type": "raw",
   "metadata": {},
   "source": [
    "10) A percentile (or a centile) is a measure used in statistics indicating the value above which a given percentage of\n",
    "observations in a group of observations fall.( True/false)"
   ]
  },
  {
   "cell_type": "raw",
   "metadata": {},
   "source": [
    "11) Which metric qualifies the shape of a distribution\n",
    "    a) Variation\n",
    "    b) Kurtosis\n",
    "    c) Skewness"
   ]
  },
  {
   "cell_type": "raw",
   "metadata": {},
   "source": [
    "12) Distribution of salaries of employees in a company is right Skewed (True/False)."
   ]
  },
  {
   "cell_type": "raw",
   "metadata": {},
   "source": [
    "13) In right Skewed distributions Mean is less than median. ( True/False)"
   ]
  },
  {
   "cell_type": "raw",
   "metadata": {},
   "source": [
    "14) Which of the following are conclusions of Central limit Theorm.\n",
    "    a) The distribution of sample x will, as the sample size increases, approach a normal distribution.\n",
    "    b) The mean of the sample means will be the  population mean µ.\n",
    "    c) The standard deviation of the sample means will approach sigma/sqrt(N)\n",
    "    d) All the above\n",
    "    e) None of the above"
   ]
  },
  {
   "cell_type": "raw",
   "metadata": {},
   "source": [
    "15) ____________ distribution is a distribution of means of multiple samples from a population."
   ]
  },
  {
   "cell_type": "code",
   "execution_count": null,
   "metadata": {},
   "outputs": [],
   "source": [
    "# If the 3 samples from the polulation are\n",
    "x1 = [2,3,4,5,6,7]\n",
    "x2 = [4,5,6,7,8,9]\n",
    "x3 = [7,6,5,4,3,2]\n",
    "\n",
    "# Calculate the the means for above 3 samples and plot the distribution of means"
   ]
  },
  {
   "cell_type": "raw",
   "metadata": {},
   "source": [
    "16) Which metric measures, how sharp the peak of a distribution is.\n",
    "    a) Variation\n",
    "    b) Kurtosis\n",
    "    c) Skewness"
   ]
  },
  {
   "cell_type": "code",
   "execution_count": null,
   "metadata": {},
   "outputs": [],
   "source": [
    "x = [2,3,4,4,5,6,6,6,7,8,2]\n",
    "# Calculate the Skew ness and kurtosis for above list of data and comment if its a normal distribution\n"
   ]
  },
  {
   "cell_type": "raw",
   "metadata": {},
   "source": [
    "17) Eucliendean distance doesn't follow pythogorous theorm.( True/False) "
   ]
  },
  {
   "cell_type": "code",
   "execution_count": 2,
   "metadata": {},
   "outputs": [],
   "source": [
    "X = [2,3,4,5,6] \n",
    "Y= [5,6,7,8,9]\n",
    "\n",
    "# Find the Euclidean distance between above two points X and Y\n",
    "\n",
    "# Find manhattan Distances between above two points X and Y\n",
    "\n",
    "# Find Minkiwoski Distances between above two points X and Y"
   ]
  },
  {
   "cell_type": "raw",
   "metadata": {},
   "source": [
    "18) Which one of the following is least sensitive to outliers?\n",
    "    a) Mean\n",
    "    b) Median\n",
    "    c) Mode\n",
    "    d) None of the above"
   ]
  },
  {
   "cell_type": "raw",
   "metadata": {},
   "source": [
    "19) Area under standart normal distribution curve is equal to _______________."
   ]
  },
  {
   "cell_type": "raw",
   "metadata": {},
   "source": [
    "20) Which of the following is not a possible value of the correlation coefficient?\n",
    "    a)  0\n",
    "    b)  +0.15\n",
    "    c)  +1.5\n",
    "    d)  -0.5"
   ]
  },
  {
   "cell_type": "raw",
   "metadata": {},
   "source": [
    "21) In any probablity distribution graph, Y-axis is always frequency. ( True/False)"
   ]
  },
  {
   "cell_type": "raw",
   "metadata": {},
   "source": [
    "22) Which of the following are in approprite for nominal scale varibales\n",
    "    a) Mean\n",
    "    b) Standard deviation\n",
    "    c) median \n",
    "    d) Mode"
   ]
  },
  {
   "cell_type": "raw",
   "metadata": {},
   "source": [
    "23) Which of the following are not calculated based on entire sample data\n",
    "    a) mean\n",
    "    b) skewness\n",
    "    c) kurtosis\n",
    "    d) Median"
   ]
  },
  {
   "cell_type": "raw",
   "metadata": {},
   "source": [
    "24) In a data set of 50 observations, 3 parameters are estimated, the correspoding degress of freedom is\n",
    "    a) 47\n",
    "    b) 53\n",
    "    c) 48\n",
    "    d) between 47 and 53"
   ]
  },
  {
   "cell_type": "markdown",
   "metadata": {},
   "source": [
    "# Create a point of view"
   ]
  },
  {
   "cell_type": "raw",
   "metadata": {},
   "source": [
    "1) Understand the concpets of central tendencies, variations and dispersions to understand the distribution of data better. Extremely key concept to understand the data and representative metrics.\n",
    "2) Understand different types of distributions like normal, poissons, binomial etc"
   ]
  }
 ],
 "metadata": {
  "kernelspec": {
   "display_name": "Python 3",
   "language": "python",
   "name": "python3"
  },
  "language_info": {
   "codemirror_mode": {
    "name": "ipython",
    "version": 3
   },
   "file_extension": ".py",
   "mimetype": "text/x-python",
   "name": "python",
   "nbconvert_exporter": "python",
   "pygments_lexer": "ipython3",
   "version": "3.7.3"
  }
 },
 "nbformat": 4,
 "nbformat_minor": 2
}
