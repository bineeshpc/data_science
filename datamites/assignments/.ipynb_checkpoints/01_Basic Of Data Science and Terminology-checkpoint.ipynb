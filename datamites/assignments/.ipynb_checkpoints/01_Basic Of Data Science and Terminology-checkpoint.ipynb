{
 "cells": [
  {
   "cell_type": "markdown",
   "metadata": {},
   "source": [
    "# Basics of Data Science and Terminology"
   ]
  },
  {
   "cell_type": "raw",
   "metadata": {},
   "source": [
    "1) Computer Vision is part of broad areas called artificial Intelleigence ( True/False)\n",
    "False"
   ]
  },
  {
   "cell_type": "raw",
   "metadata": {},
   "source": [
    "2) Artificial intelligence is part of an area called\n",
    "    a) Robotics\n",
    "    b) Machine Learning\n",
    "    c) None of the above\n",
    "    \n",
    "    c"
   ]
  },
  {
   "cell_type": "raw",
   "metadata": {},
   "source": [
    "3) Artifical intelligence is comprises\n",
    "    a) Natural language processing, computer vision but not robtics and machine learning\n",
    "    b) Natural language processing, and robtics but not computer vision and machine learning\n",
    "    c) Natural language processing, computer vision, robtics and machine learning\n",
    "    "
   ]
  },
  {
   "cell_type": "raw",
   "metadata": {},
   "source": [
    "4) Data science is part of broader field called Analytics ( True/ False)"
   ]
  },
  {
   "cell_type": "raw",
   "metadata": {},
   "source": [
    "5) Given that business analyics comprises descriptive, preditive, prescriptive analtyics; Decriptive anlytics deals with \n",
    "    a) What happened in past?\n",
    "    b) what will happen in furture?\n",
    "    c) what is the best action\n",
    "    d) None of the above"
   ]
  },
  {
   "cell_type": "raw",
   "metadata": {},
   "source": [
    "6) Given that business analyics comprises descriptive, preditive, prescriptive analtyics; prescriptive anlytics deals with \n",
    "    a) What happened in past?\n",
    "    b) what will happen in furture?\n",
    "    c) what is the best action?\n",
    "    d) None of the above"
   ]
  },
  {
   "cell_type": "raw",
   "metadata": {},
   "source": [
    "7) Deep Learning is a sub area under machine learning? (True/false)"
   ]
  },
  {
   "cell_type": "raw",
   "metadata": {},
   "source": [
    "8) Reasons Data Science is becoming all pervasive across industries today?\n",
    "    a) Millions of transactions on a daily basis\n",
    "    b) Growing economy and Internet growth\n",
    "    c) Operational databases to data warehouse and data marts\n",
    "    d) Constant declining cost of data compuation, storage and improving processing capabilities\n",
    "    e) All but 'c'\n",
    "    f) All of the above\n",
    "    "
   ]
  },
  {
   "cell_type": "raw",
   "metadata": {},
   "source": [
    "9) Which of the following is not true about unsupervised learning:\n",
    "    a) It finds clusters of the data\n",
    "    b) Finding interesting co-relation and coordinates with the data\n",
    "    c) Finding the annotate strings and predicting time series\n",
    "    d) Finding low dimensional representations of data"
   ]
  },
  {
   "cell_type": "markdown",
   "metadata": {},
   "source": [
    "# Create a point of view on general understanding and difference between"
   ]
  },
  {
   "cell_type": "raw",
   "metadata": {},
   "source": [
    "Analytics, Data science, Datamining, Knoledge discovery process, Supervised and Un supervised learning"
   ]
  }
 ],
 "metadata": {
  "kernelspec": {
   "display_name": "Python 3",
   "language": "python",
   "name": "python3"
  },
  "language_info": {
   "codemirror_mode": {
    "name": "ipython",
    "version": 3
   },
   "file_extension": ".py",
   "mimetype": "text/x-python",
   "name": "python",
   "nbconvert_exporter": "python",
   "pygments_lexer": "ipython3",
   "version": "3.7.3"
  }
 },
 "nbformat": 4,
 "nbformat_minor": 2
}
