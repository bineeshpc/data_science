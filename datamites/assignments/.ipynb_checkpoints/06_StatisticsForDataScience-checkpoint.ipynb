{
 "cells": [
  {
   "cell_type": "markdown",
   "metadata": {},
   "source": [
    "# Statistics for DataScience -1"
   ]
  },
  {
   "cell_type": "raw",
   "metadata": {},
   "source": [
    "1) Which of the following can be described as metrics for Descriptive statistics\n",
    "    a) Parameter\n",
    "    b) Statistic\n",
    "    c) Data\n",
    "    d) varibale\n",
    "    \n",
    "    b"
   ]
  },
  {
   "cell_type": "raw",
   "metadata": {},
   "source": [
    "2) statictic is a descriptive value for a population ( True/False)\n",
    "\n",
    "True"
   ]
  },
  {
   "cell_type": "raw",
   "metadata": {},
   "source": [
    "3) ___________ statistics are methods for using sample data to make general conclusions (inferences) about populations.\n",
    "    a) Descriptive\n",
    "    b) Paramentric\n",
    "    c) Inferential\n",
    "    \n",
    "    c"
   ]
  },
  {
   "cell_type": "raw",
   "metadata": {},
   "source": [
    "4) What type of analytics uses statistical and machine learning techniques?\n",
    "    a) Decision making\n",
    "    b) Prescriptive\n",
    "    c) Descriptive\n",
    "    d) Predictive\n",
    "    \n",
    "    d"
   ]
  },
  {
   "cell_type": "raw",
   "metadata": {},
   "source": [
    "5) Interviewing all members of a given population is called:\n",
    "    a) A sample\n",
    "    b) A population\n",
    "    c) Census\n",
    "    d) Nielsen audit\n",
    "    \n",
    " b"
   ]
  },
  {
   "cell_type": "raw",
   "metadata": {},
   "source": [
    "6) Parameter is a not Population characteristic of interest ( True/False)\n",
    "\n"
   ]
  },
  {
   "cell_type": "raw",
   "metadata": {},
   "source": [
    "7) Which of the following are examples of Descriptive statistics\n",
    "    a) Mean,Median\n",
    "    b) Range,Statdard Devaiation\n",
    "    c) Frequency, percentage\n",
    "    d) All the above"
   ]
  },
  {
   "cell_type": "raw",
   "metadata": {},
   "source": [
    "8) Inferential statistics use the sample from population and infer the certain behavior of the population ( True/False)"
   ]
  },
  {
   "cell_type": "raw",
   "metadata": {},
   "source": []
  },
  {
   "cell_type": "raw",
   "metadata": {},
   "source": []
  },
  {
   "cell_type": "raw",
   "metadata": {},
   "source": []
  },
  {
   "cell_type": "markdown",
   "metadata": {},
   "source": [
    "# Create a point of view"
   ]
  },
  {
   "cell_type": "raw",
   "metadata": {},
   "source": [
    "High Level understand of descriptive and inferential Statistcis"
   ]
  }
 ],
 "metadata": {
  "kernelspec": {
   "display_name": "Python 3",
   "language": "python",
   "name": "python3"
  },
  "language_info": {
   "codemirror_mode": {
    "name": "ipython",
    "version": 3
   },
   "file_extension": ".py",
   "mimetype": "text/x-python",
   "name": "python",
   "nbconvert_exporter": "python",
   "pygments_lexer": "ipython3",
   "version": "3.7.3"
  }
 },
 "nbformat": 4,
 "nbformat_minor": 2
}
