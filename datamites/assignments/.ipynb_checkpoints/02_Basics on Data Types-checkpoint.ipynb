{
 "cells": [
  {
   "cell_type": "markdown",
   "metadata": {},
   "source": [
    "# Basics of data"
   ]
  },
  {
   "cell_type": "raw",
   "metadata": {},
   "source": [
    "1) If a row of a data matrix represents an object, a column usually represents?\n",
    "    A. attribute\n",
    "    B. record\n",
    "    C. table name\n",
    "    D. entity"
   ]
  },
  {
   "cell_type": "raw",
   "metadata": {},
   "source": [
    "2) College name of a student can be considered as an attribute of type?\n",
    "    A. nominal\n",
    "    B. ordinal\n",
    "    C. interval\n",
    "    D. ratio"
   ]
  },
  {
   "cell_type": "raw",
   "metadata": {},
   "source": [
    "3) Distance between two cities in kilometers can be considered as an attribute of type?\n",
    "    A. nominal\n",
    "    B. ordinal\n",
    "    C. interval\n",
    "    D. ratio"
   ]
  },
  {
   "cell_type": "raw",
   "metadata": {},
   "source": [
    "4) Which of the following operations cannot be performed on interval attributes?\n",
    "    A. distinctness\n",
    "    B. order\n",
    "    C. addition\n",
    "    D. multiplication"
   ]
  },
  {
   "cell_type": "raw",
   "metadata": {},
   "source": [
    "5) Which of the following operations can be performed on nominal attributes?\n",
    "    A. distinctness\n",
    "    B. order\n",
    "    C. both of the above\n",
    "    D. none of the above"
   ]
  },
  {
   "cell_type": "raw",
   "metadata": {},
   "source": [
    "6) Which of the following is an example of discrete attribute?\n",
    "    A. thickness of a book in centimeter\n",
    "    B. weight of a book in grams\n",
    "    C. number of words in a book\n",
    "    D. none of the above"
   ]
  },
  {
   "cell_type": "raw",
   "metadata": {},
   "source": [
    "7) Exam and assignment marks obtained by all the students registered in a course can be considered as\n",
    "an example of record data ( True/ False)"
   ]
  },
  {
   "cell_type": "raw",
   "metadata": {},
   "source": [
    "8) Discretization of attributes refers to:\n",
    "    A. deleting data objects\n",
    "    B. deleting data attributes\n",
    "    C. modifying nature of attribute values\n",
    "    D. removing noisy data objects"
   ]
  },
  {
   "cell_type": "raw",
   "metadata": {},
   "source": [
    "9) Domain Knowledge is not important in ascertaining the type of data. ( True/False)"
   ]
  },
  {
   "cell_type": "raw",
   "metadata": {},
   "source": [
    "10) Performance rating is a example of ( choose multiple answers if correct)\n",
    "    A. Continuous Data\n",
    "    B. Categorical Data\n",
    "    C. Qualitive Data\n",
    "    D. Quantitative\n",
    "    E. Ordinal"
   ]
  },
  {
   "cell_type": "raw",
   "metadata": {},
   "source": [
    "11) Classify each of the following as N (nominal), O (ordinal), I/R (interval/ratio) data\n",
    "(i)\tPin code of any address\n",
    "(ii)\tAmount of clothes you have\n",
    "(iii)\tPlace of your study\n",
    "(iv)\tThe last grade you achieved in class\n",
    "(v)\tMileage of any car\n",
    "\n",
    "a) I/R, O, N, I/R, I/R\n",
    "b) N, I/R, N, O, O\n",
    "c) N, O, N, I/R/ I/R\n",
    "d) I/R, N, O, I/R, N"
   ]
  },
  {
   "cell_type": "raw",
   "metadata": {},
   "source": [
    " \"True Zero\" is a characteristic of Interval and ratio data types (True/False)"
   ]
  },
  {
   "cell_type": "markdown",
   "metadata": {},
   "source": [
    "# Create a point of view on below topics"
   ]
  },
  {
   "cell_type": "raw",
   "metadata": {},
   "source": [
    "Data type is fundamental to any dascience project. It is the start which guides entire process of Data Sceince project starting from Data clensing, Attribute creation/manupulation, Type of statistical test used, visualization to choice of algorithms.\n",
    "\n",
    "1) Clear Understanding of different types of data, with examples\n",
    "2) How to identify the data type based on type of operations that can be performed on it. type of operations are below\n",
    "    a) Equal, not equal\n",
    "    b) < or >\n",
    "    c) + or -\n",
    "    d) * or /\n",
    "3) Get conversant with different terminologies used on context of data types like, categorical, continuous, quantitative, qualitive, discrete etc.. "
   ]
  },
  {
   "cell_type": "raw",
   "metadata": {},
   "source": []
  }
 ],
 "metadata": {
  "kernelspec": {
   "display_name": "Python 3",
   "language": "python",
   "name": "python3"
  },
  "language_info": {
   "codemirror_mode": {
    "name": "ipython",
    "version": 3
   },
   "file_extension": ".py",
   "mimetype": "text/x-python",
   "name": "python",
   "nbconvert_exporter": "python",
   "pygments_lexer": "ipython3",
   "version": "3.7.3"
  }
 },
 "nbformat": 4,
 "nbformat_minor": 2
}
