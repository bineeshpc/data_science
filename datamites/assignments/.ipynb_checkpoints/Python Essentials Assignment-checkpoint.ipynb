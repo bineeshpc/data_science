{
 "cells": [
  {
   "cell_type": "raw",
   "metadata": {},
   "source": [
    "1) Create a 4 dimensional array with 5 elements and print the dimensions, shape and type of array"
   ]
  },
  {
   "cell_type": "code",
   "execution_count": null,
   "metadata": {},
   "outputs": [],
   "source": []
  },
  {
   "cell_type": "raw",
   "metadata": {},
   "source": [
    "2) Create an array with different datatypes and see what happens"
   ]
  },
  {
   "cell_type": "code",
   "execution_count": null,
   "metadata": {},
   "outputs": [],
   "source": []
  },
  {
   "cell_type": "raw",
   "metadata": {},
   "source": [
    "3) Create an array with inconsistent elements and check the datatype"
   ]
  },
  {
   "cell_type": "code",
   "execution_count": null,
   "metadata": {},
   "outputs": [],
   "source": []
  },
  {
   "cell_type": "raw",
   "metadata": {},
   "source": [
    "4) Create a 10 dimensional array with 1 element"
   ]
  },
  {
   "cell_type": "code",
   "execution_count": null,
   "metadata": {},
   "outputs": [],
   "source": []
  },
  {
   "cell_type": "raw",
   "metadata": {},
   "source": [
    "5) Create an array with (2,3,4,5) dimensions, try accessing last element of last dimension"
   ]
  },
  {
   "cell_type": "code",
   "execution_count": null,
   "metadata": {},
   "outputs": [],
   "source": []
  },
  {
   "cell_type": "raw",
   "metadata": {},
   "source": [
    "6) Create an array and typecast it to float"
   ]
  },
  {
   "cell_type": "code",
   "execution_count": null,
   "metadata": {},
   "outputs": [],
   "source": []
  },
  {
   "cell_type": "raw",
   "metadata": {},
   "source": [
    "7) Add two integers in an array and typecast it to float"
   ]
  },
  {
   "cell_type": "code",
   "execution_count": null,
   "metadata": {},
   "outputs": [],
   "source": []
  },
  {
   "cell_type": "raw",
   "metadata": {},
   "source": [
    "8) Create arange array from 10 to 200 with multiples of 10 (Hint - Steps)"
   ]
  },
  {
   "cell_type": "code",
   "execution_count": null,
   "metadata": {},
   "outputs": [],
   "source": []
  },
  {
   "cell_type": "raw",
   "metadata": {},
   "source": [
    "9) Generate a random number between 5000 and 10000"
   ]
  },
  {
   "cell_type": "code",
   "execution_count": null,
   "metadata": {},
   "outputs": [],
   "source": []
  },
  {
   "cell_type": "raw",
   "metadata": {},
   "source": [
    "10) Generate a random number between 200 and 300 and reshape to (10,10)"
   ]
  },
  {
   "cell_type": "code",
   "execution_count": null,
   "metadata": {},
   "outputs": [],
   "source": []
  },
  {
   "cell_type": "raw",
   "metadata": {},
   "source": [
    "11) Create a 8 dimensional array with 8 elements"
   ]
  },
  {
   "cell_type": "code",
   "execution_count": null,
   "metadata": {},
   "outputs": [],
   "source": []
  },
  {
   "cell_type": "raw",
   "metadata": {},
   "source": [
    "12) Create a random zero array and reshape it to (4,4)"
   ]
  },
  {
   "cell_type": "code",
   "execution_count": null,
   "metadata": {},
   "outputs": [],
   "source": []
  },
  {
   "cell_type": "raw",
   "metadata": {},
   "source": [
    "13) Create a random array, floor the values and split into 2 (Use both horizontal and vertical)"
   ]
  },
  {
   "cell_type": "code",
   "execution_count": null,
   "metadata": {},
   "outputs": [],
   "source": []
  },
  {
   "cell_type": "raw",
   "metadata": {},
   "source": [
    "14) Create two random (5,5) arrays, ceil the values and stack them (both horizontal and vertical)"
   ]
  },
  {
   "cell_type": "code",
   "execution_count": null,
   "metadata": {},
   "outputs": [],
   "source": []
  },
  {
   "cell_type": "raw",
   "metadata": {},
   "source": [
    "15) Create an array of 2 dimensions with 5 elements and find the mean and median"
   ]
  },
  {
   "cell_type": "code",
   "execution_count": null,
   "metadata": {},
   "outputs": [],
   "source": []
  },
  {
   "cell_type": "raw",
   "metadata": {},
   "source": [
    "16) Which of the following is a valid variable name?\n",
    "        a)‘.ram2’\n",
    "        b)‘ram.2’\n",
    "        c)‘ram_2’\n",
    "        d)‘2ram’00"
   ]
  },
  {
   "cell_type": "code",
   "execution_count": null,
   "metadata": {},
   "outputs": [],
   "source": []
  },
  {
   "cell_type": "raw",
   "metadata": {},
   "source": [
    "17) Python files are saved with extension \n",
    "        a) .py\n",
    "        b) .python\n",
    "        c) .pe\n",
    "        d) .pi"
   ]
  },
  {
   "cell_type": "code",
   "execution_count": null,
   "metadata": {},
   "outputs": [],
   "source": []
  },
  {
   "cell_type": "raw",
   "metadata": {},
   "source": [
    "18) Which of the following statement is invalid?\n",
    "        a) m_n_q = 3500\n",
    "        b) m.n.q = 3500, 3600, 3700\n",
    "        c) m,n,q = 3500, 3600, 3700\n",
    "        d) mnq = 350036003700"
   ]
  },
  {
   "cell_type": "code",
   "execution_count": null,
   "metadata": {},
   "outputs": [],
   "source": []
  },
  {
   "cell_type": "raw",
   "metadata": {},
   "source": [
    "19) The command to display an output in Python is:-\n",
    "        a) display( )\n",
    "        b) output( )\n",
    "        c) run( )\n",
    "        d) print( )"
   ]
  },
  {
   "cell_type": "code",
   "execution_count": null,
   "metadata": {},
   "outputs": [],
   "source": []
  },
  {
   "cell_type": "raw",
   "metadata": {},
   "source": [
    "20) Assignment operator used in Python is: -\n",
    "        a) ==\n",
    "        b) >>\n",
    "        c) <-\n",
    "        d) ="
   ]
  },
  {
   "cell_type": "code",
   "execution_count": null,
   "metadata": {},
   "outputs": [],
   "source": []
  },
  {
   "cell_type": "raw",
   "metadata": {},
   "source": [
    "21) Consider the variables a and b. Values of a and b are 280 and 15 respectively. The operation that will return a remainder is: -\n",
    "        a) a/b\n",
    "        b) a%b\n",
    "        c) a**b\n",
    "        d) a*b"
   ]
  },
  {
   "cell_type": "code",
   "execution_count": null,
   "metadata": {},
   "outputs": [],
   "source": []
  },
  {
   "cell_type": "raw",
   "metadata": {},
   "source": [
    "22) Python command used to calculate 25 is given by:-\n",
    "        a) 2*5\n",
    "        b) 2^5\n",
    "        c) 2**5\n",
    "        d) 2.exp(5)"
   ]
  },
  {
   "cell_type": "code",
   "execution_count": null,
   "metadata": {},
   "outputs": [],
   "source": []
  },
  {
   "cell_type": "raw",
   "metadata": {},
   "source": [
    "23) The values of variables p and q are 15 and 3 respectively. What is the value of ‘p’ after running the code below? p*=q\n",
    "        a) 15\n",
    "        b) 3\n",
    "        c) 18\n",
    "        d) 45"
   ]
  },
  {
   "cell_type": "code",
   "execution_count": null,
   "metadata": {},
   "outputs": [],
   "source": []
  },
  {
   "cell_type": "raw",
   "metadata": {},
   "source": [
    "24) Which command would you use to find the data type of a variable\n",
    "        a) data( )\n",
    "        b) type( )\n",
    "        c) typeof( )\n",
    "        d) str( )"
   ]
  },
  {
   "cell_type": "code",
   "execution_count": null,
   "metadata": {},
   "outputs": [],
   "source": []
  },
  {
   "cell_type": "raw",
   "metadata": {},
   "source": [
    "25) Value of variable p is 45. Command to coerce p from integer datatype to float datatype is:-\n",
    "        a) p=p.astype(‘float’)\n",
    "        b) p=float(p)\n",
    "        c) p=p.type(‘float’)\n",
    "        d) p=p.istype(‘float\t’)"
   ]
  },
  {
   "cell_type": "code",
   "execution_count": null,
   "metadata": {},
   "outputs": [],
   "source": []
  },
  {
   "cell_type": "raw",
   "metadata": {},
   "source": [
    "26) Indicate which command would you use to set the working directory\n",
    "        a) setwd()\n",
    "        b) os.chdir()\n",
    "        c) getwd()\n",
    "        d) cd()"
   ]
  },
  {
   "cell_type": "code",
   "execution_count": null,
   "metadata": {},
   "outputs": [],
   "source": []
  },
  {
   "cell_type": "raw",
   "metadata": {},
   "source": [
    "27) Comments in Python begin with\n",
    "        a) %\n",
    "        b) &\n",
    "        c) #\n",
    "        d) \\"
   ]
  },
  {
   "cell_type": "code",
   "execution_count": null,
   "metadata": {},
   "outputs": [],
   "source": []
  },
  {
   "cell_type": "raw",
   "metadata": {},
   "source": [
    "28) What type of object is x? \n",
    "\n",
    "    x=(“Python”, “version”, “3.7”)\n",
    "    \n",
    "        a) List\n",
    "        b) Tuple\n",
    "        c) String\n",
    "        d) Array"
   ]
  },
  {
   "cell_type": "code",
   "execution_count": null,
   "metadata": {},
   "outputs": [],
   "source": []
  },
  {
   "cell_type": "raw",
   "metadata": {},
   "source": [
    "29) Which of the following method can be used to initialize multiple variables with a common value?\n",
    "\t1.x=y: y=33\n",
    "\t2.x=y=z=33\n",
    "\t3.x=33; y=x; z=y\n",
    "\t4.x,y,z=33\n",
    "        a) 1 and 2\n",
    "        b) 2 and 3\n",
    "        c) 1 and 4\n",
    "        d) 2 and 4"
   ]
  },
  {
   "cell_type": "code",
   "execution_count": null,
   "metadata": {},
   "outputs": [],
   "source": []
  },
  {
   "cell_type": "raw",
   "metadata": {},
   "source": [
    "30) What will be the output after the following statements are executed?\n",
    "\n",
    "\tX=300 \n",
    "\tY= 17\n",
    "\tX%=Y\n",
    "\tprint(X)\n",
    "        a) 11\n",
    "        b) 17.6\n",
    "        c) 300\n",
    "        d) 17"
   ]
  },
  {
   "cell_type": "code",
   "execution_count": null,
   "metadata": {},
   "outputs": [],
   "source": []
  },
  {
   "cell_type": "raw",
   "metadata": {},
   "source": [
    "31) What is the command to clear a single variable ‘a’ from the variable explorer?\n",
    "        a) %reset\n",
    "        b) % clear\n",
    "        c) del a\n",
    "        d) rm a"
   ]
  },
  {
   "cell_type": "code",
   "execution_count": null,
   "metadata": {},
   "outputs": [],
   "source": []
  },
  {
   "cell_type": "raw",
   "metadata": {},
   "source": [
    "32) Which of the package is used for visualization in Python\n",
    "        a) ggplot2\n",
    "        b) matplotlib\n",
    "        c) seaborn\n",
    "        d) All of the above"
   ]
  },
  {
   "cell_type": "code",
   "execution_count": null,
   "metadata": {},
   "outputs": [],
   "source": []
  },
  {
   "cell_type": "raw",
   "metadata": {},
   "source": [
    "33) “not in” belongs to which type of operator in Python?\n",
    "        a) membership \n",
    "        b) bitwise\n",
    "        c) logical\n",
    "        d) arithmetic"
   ]
  },
  {
   "cell_type": "code",
   "execution_count": null,
   "metadata": {},
   "outputs": [],
   "source": []
  },
  {
   "cell_type": "raw",
   "metadata": {},
   "source": [
    "34) \"is not” belongs to which type of operator in Python?\n",
    "        a) membership\n",
    "        b) identity\n",
    "        c) logical\n",
    "        d) equality"
   ]
  },
  {
   "cell_type": "code",
   "execution_count": null,
   "metadata": {},
   "outputs": [],
   "source": []
  },
  {
   "cell_type": "raw",
   "metadata": {},
   "source": [
    "35) Package that deals with dataframe is\n",
    "        a) numpy\n",
    "        b) dataframe\n",
    "        c) pandas\n",
    "        d) math"
   ]
  },
  {
   "cell_type": "code",
   "execution_count": null,
   "metadata": {},
   "outputs": [],
   "source": []
  },
  {
   "cell_type": "raw",
   "metadata": {},
   "source": [
    "36) The data type of the following python object 'a' is: a={23, 24, 25, 26, 27}\n",
    "        a) list\n",
    "        b) dictionary\n",
    "        c) set\n",
    "        d) arrays"
   ]
  },
  {
   "cell_type": "code",
   "execution_count": null,
   "metadata": {},
   "outputs": [],
   "source": []
  },
  {
   "cell_type": "raw",
   "metadata": {},
   "source": [
    "37) Variable ‘a’ is defined as\n",
    "     a = ‘gOOd moRning’\n",
    "     Command to convert ‘a’ from ‘gOOd moRning’ to ‘Good Morning’ is:-\n",
    "        a) a.upper( )\n",
    "        b) a.lower( )\n",
    "        c) a.string( )\n",
    "        d) a.title( )"
   ]
  },
  {
   "cell_type": "code",
   "execution_count": null,
   "metadata": {},
   "outputs": [],
   "source": []
  },
  {
   "cell_type": "raw",
   "metadata": {},
   "source": [
    "38) Which of the following python data structure is immutable?\n",
    "        a) list\n",
    "        b) dictionary\n",
    "        c) tuple\n",
    "        d) array"
   ]
  },
  {
   "cell_type": "code",
   "execution_count": null,
   "metadata": {},
   "outputs": [],
   "source": []
  },
  {
   "cell_type": "raw",
   "metadata": {},
   "source": [
    "39) Identify the braces used to create a dictionary in Python.\n",
    "        a) ( )\n",
    "        b) { }\n",
    "        c) [ ]\n",
    "        d) All of the above"
   ]
  },
  {
   "cell_type": "code",
   "execution_count": null,
   "metadata": {},
   "outputs": [],
   "source": []
  },
  {
   "cell_type": "raw",
   "metadata": {},
   "source": [
    "40) The command used to add elements to a list\n",
    "        a) append( )\n",
    "        b) extend( )\n",
    "        c) insert( )\n",
    "        d) all of the above( )"
   ]
  },
  {
   "cell_type": "code",
   "execution_count": null,
   "metadata": {},
   "outputs": [],
   "source": []
  },
  {
   "cell_type": "raw",
   "metadata": {},
   "source": [
    "Using the list ‘Stationery’ answer questions 41 & 42\n",
    "Product = ['Pencil', 'Pen', 'Eraser', 'Pencil Box', 'Scale']\n",
    "Price= [5, 10, 2, 20, 12]  \n",
    "Brand = ['Camlin', 'Rotomac', 'Nataraj', 'Camel', 'Apsara']\n",
    "Stationery = [Product, Price, Brand]"
   ]
  },
  {
   "cell_type": "code",
   "execution_count": null,
   "metadata": {},
   "outputs": [],
   "source": []
  },
  {
   "cell_type": "raw",
   "metadata": {},
   "source": [
    "41) The command to add “Notebook” as the first element inside the first level of the list      “Stationery” is:-\n",
    "        a) Stationery[0].append('Notebook')\n",
    "        b) Stationery[0].insert(0,'Notebook')\n",
    "        c) Stationery[0][1] = \"Notebook\"\n",
    "        d) Stationery[0].extend('Notebook')"
   ]
  },
  {
   "cell_type": "code",
   "execution_count": null,
   "metadata": {},
   "outputs": [],
   "source": []
  },
  {
   "cell_type": "raw",
   "metadata": {},
   "source": [
    "42) Command to replace the element of Brand, “Camel” with “Camlin” inside the list is:-\n",
    "        a) Stationery[2][3].append('Camlin')\n",
    "        b) Stationery[2].insert(3,'Camlin')\n",
    "        c) Stationery[2][3] = \"Camlin\"\n",
    "        d) none of the above"
   ]
  },
  {
   "cell_type": "code",
   "execution_count": null,
   "metadata": {},
   "outputs": [],
   "source": []
  },
  {
   "cell_type": "raw",
   "metadata": {},
   "source": [
    "43) The list \"Months\" is defined as:-\n",
    "\n",
    "   Months = ['Jan', 'Mar', 'June', 'Aug', 'June', 'Feb', 'Nov', 'Dec', 'June', 'Apr', 'May',     'June']\n",
    "\n",
    "Which of the following commands returns the number of occurrences of ‘June’?\n",
    "        a) Months.count('June')\n",
    "        b) Months.len('June')\n",
    "        c) Months[‘June’].count()\n",
    "        d) Months[‘June’].len()"
   ]
  },
  {
   "cell_type": "code",
   "execution_count": null,
   "metadata": {},
   "outputs": [],
   "source": []
  },
  {
   "cell_type": "raw",
   "metadata": {},
   "source": [
    "44) Choose the correct command to sort 'Ages' in ascending order\n",
    "\n",
    "   Ages = [ ’20’, ‘26’, ‘56’, ‘54’, ‘32’, ‘28’, ‘23’, ‘99’, ‘87’, ‘10’, ‘65’, ‘88’, ‘66’,\n",
    "                  ‘48’, ‘42’, ‘27’, ‘33’, ‘38’,  ‘83’, ‘94’, ‘66’, ‘44’]\n",
    "                  \n",
    "        a) sorted(Ages, reverse=False)\n",
    "        b) Ages.sort()\n",
    "        c) sorted(Ages, reverse=True)\n",
    "        d) both A and B"
   ]
  },
  {
   "cell_type": "code",
   "execution_count": null,
   "metadata": {},
   "outputs": [],
   "source": []
  },
  {
   "cell_type": "raw",
   "metadata": {},
   "source": [
    "D = [‘MONDAY’, ‘TUESDAY’,  ‘WEDNESDAY’, ‘THURSDAY’, ‘FRIDAY’, ‘SATURDAY’, ‘SUNDAY’]"
   ]
  },
  {
   "cell_type": "code",
   "execution_count": null,
   "metadata": {},
   "outputs": [],
   "source": []
  },
  {
   "cell_type": "raw",
   "metadata": {},
   "source": [
    "45) The command to print WEDNESDAY, THURSDAY from the list “D” is\n",
    "        a) print(D[-5], D[-4])\n",
    "        b) print(D[3], D[4])\n",
    "        c) print(D[2:5]) \n",
    "        d) all of the above"
   ]
  },
  {
   "cell_type": "code",
   "execution_count": null,
   "metadata": {},
   "outputs": [],
   "source": []
  },
  {
   "cell_type": "raw",
   "metadata": {},
   "source": [
    "46) The command used to reverse the above list “D” is:-\n",
    "        a) reverse(D)\n",
    "        b) D.reverse()\n",
    "        c) list(reversed(D))\n",
    "        d) both B and C"
   ]
  },
  {
   "cell_type": "code",
   "execution_count": null,
   "metadata": {},
   "outputs": [],
   "source": []
  },
  {
   "cell_type": "raw",
   "metadata": {},
   "source": [
    "47) The command to clear all the elements from a Set is:-\n",
    "        a) remove( )\n",
    "        b) discard( )\n",
    "        c) clear( )\n",
    "        d) all of the above( )"
   ]
  },
  {
   "cell_type": "code",
   "execution_count": null,
   "metadata": {},
   "outputs": [],
   "source": []
  },
  {
   "cell_type": "raw",
   "metadata": {},
   "source": [
    "Mylist =[‘a’, ‘a’, ‘b’, ‘b’, ‘b’, ‘c’, ‘c’, ‘d’, ‘e’] "
   ]
  },
  {
   "cell_type": "code",
   "execution_count": null,
   "metadata": {},
   "outputs": [],
   "source": []
  },
  {
   "cell_type": "raw",
   "metadata": {},
   "source": [
    "48) The output of the code: Mylist.index(‘d’) is\n",
    "        a) 7\n",
    "        b) 8\n",
    "        c) 4\n",
    "        d) 6"
   ]
  },
  {
   "cell_type": "code",
   "execution_count": null,
   "metadata": {},
   "outputs": [],
   "source": []
  },
  {
   "cell_type": "raw",
   "metadata": {},
   "source": [
    "49) The output after you run the command:\n",
    "         Mylist.pop(0)\n",
    "         print(Mylist)\n",
    "        a) [‘a’, ‘a’, ‘b’, ‘b’, ‘b’, ‘c’, ‘c’, ‘d’, ‘e’]\n",
    "        b) [‘a’, ‘b’, ‘b’, ‘b’, ‘c’, ‘c’, ‘d’, ‘e’]\n",
    "        c) [‘a’, ‘a’ ‘b’, ‘b’, ‘b’, ‘c’, ‘c’, ‘d’] \n",
    "        d) [‘b’, ‘b’, ‘b’, ‘c’, ‘c’, ‘d’, ‘e’]"
   ]
  },
  {
   "cell_type": "code",
   "execution_count": null,
   "metadata": {},
   "outputs": [],
   "source": []
  },
  {
   "cell_type": "raw",
   "metadata": {},
   "source": [
    "50) The command to find the number of elements in the following list “N”\n",
    "          N = [24, 27, 29, 26, 25, 23, 20]\n",
    "        a) len(N)\n",
    "        b) N.count()\n",
    "        c) N.len()\n",
    "        d) count(N)"
   ]
  },
  {
   "cell_type": "code",
   "execution_count": null,
   "metadata": {},
   "outputs": [],
   "source": []
  },
  {
   "attachments": {
    "image.png": {
     "image/png": "[encoded data removed]"
    }
   },
   "cell_type": "markdown",
   "metadata": {},
   "source": [
    "Create a dictionary ‘Country’ that maps the following countries to their capitals respectively.\n",
    "![image.png](attachment:image.png)\n"
   ]
  },
  {
   "cell_type": "code",
   "execution_count": null,
   "metadata": {},
   "outputs": [],
   "source": []
  },
  {
   "cell_type": "raw",
   "metadata": {},
   "source": [
    "51) The command to replace “Sydney” with “Canberra” is:-\n",
    "        a) Country['Australia']=\"Canberra\"\n",
    "        b) Country.update({\"Australia\":\"Canberra\"})\n",
    "        c) Both A and B\n",
    "        d) None of the above"
   ]
  },
  {
   "cell_type": "code",
   "execution_count": null,
   "metadata": {},
   "outputs": [],
   "source": []
  },
  {
   "attachments": {
    "image.png": {
     "image/png": "[encoded data removed]"
    }
   },
   "cell_type": "markdown",
   "metadata": {},
   "source": [
    "Create the following sets X1 and X2 using the data provided below and answer the questions\n",
    "![image.png](attachment:image.png)"
   ]
  },
  {
   "cell_type": "code",
   "execution_count": null,
   "metadata": {},
   "outputs": [],
   "source": []
  },
  {
   "cell_type": "raw",
   "metadata": {},
   "source": [
    "52) The output of X1.intersection(X2) will be\n",
    "        a) {0,1,7,8}\n",
    "        b) {1,3,7,8}\n",
    "        c) {1,2,7,8}\n",
    "        d) {1,4,7,8}"
   ]
  },
  {
   "cell_type": "code",
   "execution_count": null,
   "metadata": {},
   "outputs": [],
   "source": []
  },
  {
   "cell_type": "raw",
   "metadata": {},
   "source": [
    "53) The command X1.symmetric_difference(X2)\n",
    "        a) returns all elements belonging to both set X1 and X2\n",
    "        b) returns elements belonging to X1 but not X2\n",
    "        c) returns elements not common to both sets X1 and X2\n",
    "        d) returns elements common to X1 and X2"
   ]
  },
  {
   "cell_type": "code",
   "execution_count": null,
   "metadata": {},
   "outputs": [],
   "source": []
  },
  {
   "cell_type": "raw",
   "metadata": {},
   "source": [
    "54) Which of the following is a code template for creating objects in Python?\n",
    "        a) list\n",
    "        b) set\n",
    "        c) dictionary \n",
    "        d) class"
   ]
  },
  {
   "cell_type": "code",
   "execution_count": null,
   "metadata": {},
   "outputs": [],
   "source": []
  },
  {
   "attachments": {
    "image.png": {
     "image/png": "[encoded data removed]"
    }
   },
   "cell_type": "markdown",
   "metadata": {},
   "source": [
    "Create the following Matrix “Y” in Python and answer questions\n",
    "![image.png](attachment:image.png)"
   ]
  },
  {
   "cell_type": "code",
   "execution_count": null,
   "metadata": {},
   "outputs": [],
   "source": []
  },
  {
   "cell_type": "raw",
   "metadata": {},
   "source": [
    "55) The determinant of the matrix “Y” rounded off to the zeroth decimal place is\n",
    "          a) 110\n",
    "          b) 120\n",
    "          c)  0\n",
    "          d)  1"
   ]
  },
  {
   "cell_type": "code",
   "execution_count": null,
   "metadata": {},
   "outputs": [],
   "source": []
  },
  {
   "cell_type": "raw",
   "metadata": {},
   "source": [
    "56) Inverse of matrix “Y” rounded off to second decimal place is\n",
    "\n",
    "          a)  ([[- 0.73, 0.68, 0.11],\n",
    "              [0.09,  -0.27, 0.04],\n",
    "              [0.18,  0.05,  -0.13]])\n",
    "\n",
    "          b) ([[ 0.73, -0.68, -0.11],\n",
    "              [-0.09,  0.27, -0.04],\n",
    "              [-0.18,  0.05,  0.13]])\n",
    "\n",
    "          c) ([[ 0.73, 0.68, 0.11],\n",
    "              [0.09,  0.27, 0.04],\n",
    "              [0.18,  0.05,  0.13]])\n",
    "\n",
    "          d) ([[- 0.73, -0.68, -0.11],\n",
    "              [-0.09,  -0.27, -0.04],\n",
    "              [-0.18,  -0.05, -0.13]])"
   ]
  },
  {
   "cell_type": "code",
   "execution_count": null,
   "metadata": {},
   "outputs": [],
   "source": []
  },
  {
   "cell_type": "raw",
   "metadata": {},
   "source": [
    "57) The column sum of YT is\n",
    "         a) matrix([[11, 27, 25]])\n",
    "         b) matrix([[19, 14, 25]])\n",
    "         c) matrix([[19, 14, 30]])\n",
    "         d) matrix([[11, 27, 30]])"
   ]
  },
  {
   "cell_type": "code",
   "execution_count": null,
   "metadata": {},
   "outputs": [],
   "source": []
  },
  {
   "cell_type": "raw",
   "metadata": {},
   "source": [
    "58) int('4') returns?"
   ]
  },
  {
   "cell_type": "code",
   "execution_count": null,
   "metadata": {},
   "outputs": [],
   "source": []
  },
  {
   "cell_type": "raw",
   "metadata": {},
   "source": [
    "59) bool('FALSE') returns?"
   ]
  },
  {
   "cell_type": "code",
   "execution_count": null,
   "metadata": {},
   "outputs": [],
   "source": []
  },
  {
   "cell_type": "raw",
   "metadata": {},
   "source": [
    "60) for a,i in {'name':'john','age':40}:\n",
    "        print(i)"
   ]
  },
  {
   "cell_type": "code",
   "execution_count": null,
   "metadata": {},
   "outputs": [],
   "source": []
  },
  {
   "cell_type": "raw",
   "metadata": {},
   "source": [
    "61) for a,_ in [(34,56),(86,89),(63,98)]:\n",
    "        print a"
   ]
  },
  {
   "cell_type": "code",
   "execution_count": null,
   "metadata": {},
   "outputs": [],
   "source": []
  }
 ],
 "metadata": {
  "kernelspec": {
   "display_name": "Python 3",
   "language": "python",
   "name": "python3"
  },
  "language_info": {
   "codemirror_mode": {
    "name": "ipython",
    "version": 3
   },
   "file_extension": ".py",
   "mimetype": "text/x-python",
   "name": "python",
   "nbconvert_exporter": "python",
   "pygments_lexer": "ipython3",
   "version": "3.7.3"
  }
 },
 "nbformat": 4,
 "nbformat_minor": 2
}
