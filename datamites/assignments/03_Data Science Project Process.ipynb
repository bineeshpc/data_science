{
 "cells": [
  {
   "cell_type": "markdown",
   "metadata": {},
   "source": [
    "# DataScience Project questions"
   ]
  },
  {
   "cell_type": "raw",
   "metadata": {},
   "source": [
    "1) Which of the following can be considered as a Data Science Project?\n",
    "    A. registering for an online course\n",
    "    B. online money payment through a bank\n",
    "    C. predicting if a student will pass an online course\n",
    "    B. downloading the certificate from course website\n",
    "    \n",
    "    C"
   ]
  },
  {
   "cell_type": "raw",
   "metadata": {},
   "source": [
    "2) The final step in the data Science project process is usually?\n",
    "    A. data cleaning\n",
    "    B. preprocessing\n",
    "    C. modeling\n",
    "    D. pattern evaluation and visualization"
   ]
  },
  {
   "cell_type": "raw",
   "metadata": {},
   "source": [
    "3) Which step takes the most time?\n",
    "    A. Data Cleaning and Preprocessing\n",
    "    B. Data reduction and Transformation\n",
    "    C. Algorithm Optimization\n",
    "    \n",
    "    "
   ]
  },
  {
   "cell_type": "raw",
   "metadata": {},
   "source": [
    "4) Which of the following is not a data quality issue?\n",
    "    A. noise\n",
    "    B. missing value\n",
    "    C. data type (Nominal,Ordinal,...)\n",
    "    D. duplicates\n",
    "   \n",
    "   C"
   ]
  },
  {
   "cell_type": "raw",
   "metadata": {},
   "source": [
    "5) Which of the following is a data quality issue? Choose multiple\n",
    "    A. noise\n",
    "    B. missing value\n",
    "    C. duplicates\n",
    "    D. All the abobe"
   ]
  },
  {
   "cell_type": "raw",
   "metadata": {},
   "source": [
    "6) What are the types of problems solved by Data science projects. ( Choose more than one if applicable)\n",
    "    a) Classifciation\n",
    "    b) Association\n",
    "    c) function Optimization\n",
    "    d) Classifciation and Association but not Optimization\n",
    "    "
   ]
  },
  {
   "cell_type": "raw",
   "metadata": {},
   "source": [
    "7) Dimenstionality reduction is part of feature engineering ( True / False)\n",
    "\n",
    "True"
   ]
  },
  {
   "cell_type": "raw",
   "metadata": {},
   "source": [
    "8) Which of the below is a proper sequence of steps in data science projects?\n",
    "   a) Creating a target data set: data selection\n",
    "   b) Visualization\n",
    "   c) Data cleaning and preprocessing\n",
    "   d) Find useful features, dimensionality/variable reduction, invariant representation\n",
    "   e) Evaluation\n",
    "   f) Feature Engineering\n",
    "   g) Choosing the algorithm(s) and optimizing results\n",
    " \n",
    " \n",
    " A) a,b,c,d,e,f,g\n",
    " B) a,c,b,f,d,g,e\n",
    " C) a,c,b,d,f,g,e\n",
    "\n",
    "A"
   ]
  },
  {
   "cell_type": "markdown",
   "metadata": {},
   "source": [
    "# Create a point of view on general understanding on"
   ]
  },
  {
   "cell_type": "raw",
   "metadata": {},
   "source": [
    "1) Analytics, Data science, Datamining, Knowledge discovery process\n",
    "2) Process and various steps in a datascience project"
   ]
  }
 ],
 "metadata": {
  "kernelspec": {
   "display_name": "Python 3",
   "language": "python",
   "name": "python3"
  },
  "language_info": {
   "codemirror_mode": {
    "name": "ipython",
    "version": 3
   },
   "file_extension": ".py",
   "mimetype": "text/x-python",
   "name": "python",
   "nbconvert_exporter": "python",
   "pygments_lexer": "ipython3",
   "version": "3.7.3"
  }
 },
 "nbformat": 4,
 "nbformat_minor": 2
}
