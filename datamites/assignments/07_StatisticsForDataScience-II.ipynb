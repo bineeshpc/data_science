{
 "cells": [
  {
   "cell_type": "markdown",
   "metadata": {},
   "source": [
    "# Statistics for DataScience -2"
   ]
  },
  {
   "cell_type": "raw",
   "metadata": {},
   "source": [
    "1) Which of the following are the fundamental measures of central tendency ( Choose multiple options if applicable)\n",
    "    a) Mean\n",
    "    b) Mode\n",
    "    c) Median\n",
    "    d) variance\n",
    "    \n",
    "    a, b, c"
   ]
  },
  {
   "cell_type": "raw",
   "metadata": {},
   "source": [
    "2) Which central tendancy best mesaures Income Distribution in a any company (Choose multiple options if applicable)\n",
    "    a) Mean\n",
    "    b) Mode\n",
    "    c) Median\n",
    "    d) variance\n",
    "    \n",
    "    a, c"
   ]
  },
  {
   "cell_type": "raw",
   "metadata": {},
   "source": [
    "3) Height of all the adult men in a city is best mesaured by following central tendencies ( Choose multiple options if applicable)\n",
    "    a) Mean\n",
    "    b) Mode\n",
    "    c) Median\n",
    "    d) variance\n",
    "    \n",
    "a    "
   ]
  },
  {
   "cell_type": "raw",
   "metadata": {},
   "source": [
    "4) If you are standing in a bus stop, waitng for bus and predicting if the bus would come in time. Which potential metric is being used in your mind (subconsciouly) to do this prediction.( Choose multiple options if applicable)\n",
    "    a) Mean\n",
    "    b) Mode\n",
    "    c) Median\n",
    "    d) variance\n",
    "    \n",
    "    a, d"
   ]
  },
  {
   "cell_type": "raw",
   "metadata": {},
   "source": [
    "5) Variance and Standard deviation are both measures of variability (True/False) \n",
    "\n",
    "True"
   ]
  },
  {
   "cell_type": "raw",
   "metadata": {},
   "source": [
    "6) Which of the following is/are not a measure(s) of varibaility\n",
    "    a) Range\n",
    "    b) Variation\n",
    "    c) Standard Deviation\n",
    "    d) Inter Quartile Range\n",
    "    d) All the above\n",
    "    e) Non of the above\n",
    "e    \n",
    "    "
   ]
  },
  {
   "cell_type": "raw",
   "metadata": {},
   "source": [
    "7) In any sample sum of differences between each data element and the mean of the sample is always _______.\n",
    "\n"
   ]
  },
  {
   "cell_type": "raw",
   "metadata": {},
   "source": [
    "8) Z-score tranformation is a function of mean and variation. ( True/False)\n",
    "True"
   ]
  },
  {
   "cell_type": "code",
   "execution_count": 41,
   "metadata": {},
   "outputs": [
    {
     "name": "stdout",
     "output_type": "stream",
     "text": [
      "Mean 4.818181818181818\n",
      "Standard deviation 1.8982375470746455\n",
      "Variance 3.6033057851239674\n",
      "Mean using n 4.818181818181818\n",
      "Mean using n-1 5.3\n",
      "Median 5.0\n",
      "Mode ModeResult(mode=array([6]), count=array([3]))\n",
      "[-1.4846307420927847, -0.9578262852211514, -0.4310218283495182, -0.4310218283495182, 0.09578262852211505, 0.6225870853937483, 0.6225870853937483, 0.6225870853937483, 1.1493915422653815, 1.6761959991370148, -1.4846307420927847]\n",
      "[2, 3, 4, 4, 5, 6, 6, 6, 7, 8, 2]\n",
      "range is 6\n",
      "inter quartile range 2.5 2.5\n"
     ]
    },
    {
     "data": {
      "text/plain": [
       "array([[1., 1.],\n",
       "       [1., 1.]])"
      ]
     },
     "execution_count": 41,
     "metadata": {},
     "output_type": "execute_result"
    }
   ],
   "source": [
    "#Use Python Code\n",
    "import scipy as sp\n",
    "from scipy import stats\n",
    "import numpy as np\n",
    "\n",
    "x = [2,3,4,4,5,6,6,6,7,8,2]\n",
    "# Calculate the mean, standard deviation and variance\n",
    "\n",
    "print('Mean', sp.mean(x))\n",
    "print('Standard deviation', sp.std(x))\n",
    "print('Variance', sp.var(x))\n",
    "\n",
    "# In case of variance, please check if the numpy formula devides the \"sum of squared difference from mean\" by eithr 'n' or 'n-1' or 'n-2'\n",
    "\n",
    "n = len(x)\n",
    "print('Mean using n', sum(x) / n)\n",
    "print('Mean using n-1', sum(x) / (n - 1))\n",
    "\n",
    "# Calculate the median\n",
    "\n",
    "print('Median', sp.median(x))\n",
    "\n",
    "# Calculate the mode\n",
    "print('Mode', stats.mode(x))\n",
    "\n",
    "# Calculate the Z-score for the below list\n",
    "\n",
    "sigma = sp.std(x)\n",
    "mue = sp.mean(x)\n",
    "\n",
    "def get_Z_value(xi, mue, sigma):\n",
    "    return (xi - mue) / sigma\n",
    "\n",
    "print([get_Z_value(xi, mue, sigma) for xi in x])\n",
    "print(x)\n",
    "\n",
    "# value = M + Z * sigma\n",
    "# Z = (value - M) / sigma\n",
    "\n",
    "# Calculate the range\n",
    "print('range is', max(x) - min(x))\n",
    "\n",
    "# Calculate the Inter Quantile Range\n",
    "# wrong\n",
    "def inter_quartile_range(x):\n",
    "    x_ = sorted(x)\n",
    "    n = len(x)\n",
    "    mid = ( n + 1 ) // 2 - 1\n",
    "    x1 = x_[0:mid]\n",
    "    x2 = x_[mid:]\n",
    "    sp3 = sp.median(x2)\n",
    "    sp1 = sp.median(x1)\n",
    "    print(x1)\n",
    "    return sp3 - sp1\n",
    "\n",
    "\n",
    "# another way here\n",
    "def iqr(x):\n",
    "    sp1, sp3 = np.percentile(x, [25, 75])\n",
    "    return sp3 - sp1\n",
    "    \n",
    "print('inter quartile range', stats.iqr(x), iqr(x))\n",
    "\n",
    "    \n",
    "# Calculate the correaltion Coefficient\n",
    "np.corrcoef(x, x)\n"
   ]
  },
  {
   "cell_type": "raw",
   "metadata": {},
   "source": [
    "9) Z-Score shows:\n",
    "    a) Number of Std deviations, an data in a sample is away from its sample mean\n",
    "    b) Number of data in a sample having values, above sample data for whicn z-score is calculated\n",
    "    c) Number of data in a sample having values, below sample data for whicn z-score is calculated\n",
    "    \n",
    "    a"
   ]
  },
  {
   "cell_type": "raw",
   "metadata": {},
   "source": [
    "10) A percentile (or a centile) is a measure used in statistics indicating the value above which a given percentage of\n",
    "observations in a group of observations fall.( True/false)\n",
    "\n",
    "True"
   ]
  },
  {
   "cell_type": "raw",
   "metadata": {},
   "source": [
    "11) Which metric qualifies the shape of a distribution\n",
    "    a) Variation\n",
    "    b) Kurtosis\n",
    "    c) Skewness\n",
    "    \n",
    "    a"
   ]
  },
  {
   "cell_type": "raw",
   "metadata": {},
   "source": [
    "12) Distribution of salaries of employees in a company is right Skewed (True/False).\n",
    "\n",
    "True"
   ]
  },
  {
   "cell_type": "raw",
   "metadata": {},
   "source": [
    "13) In right Skewed distributions Mean is less than median. ( True/False)\n",
    "\n",
    "True"
   ]
  },
  {
   "cell_type": "raw",
   "metadata": {},
   "source": [
    "14) Which of the following are conclusions of Central limit Theorm.\n",
    "    a) The distribution of sample x will, as the sample size increases, approach a normal distribution.\n",
    "    b) The mean of the sample means will be the  population mean µ.\n",
    "    c) The standard deviation of the sample means will approach sigma/sqrt(N)\n",
    "    d) All the above\n",
    "    e) None of the above\n",
    "    \n",
    "    d"
   ]
  },
  {
   "cell_type": "raw",
   "metadata": {},
   "source": [
    "15) ____________ distribution is a distribution of means of multiple samples from a population.\n"
   ]
  },
  {
   "cell_type": "code",
   "execution_count": 27,
   "metadata": {},
   "outputs": [
    {
     "name": "stdout",
     "output_type": "stream",
     "text": [
      "4.5 6.5 4.5\n"
     ]
    },
    {
     "data": {
      "text/plain": [
       "<matplotlib.axes._subplots.AxesSubplot at 0x1af4c8253c8>"
      ]
     },
     "execution_count": 27,
     "metadata": {},
     "output_type": "execute_result"
    },
    {
     "data": {
      "image/png": "[encoded data removed]",
      "text/plain": [
       "<Figure size 432x288 with 1 Axes>"
      ]
     },
     "metadata": {
      "needs_background": "light"
     },
     "output_type": "display_data"
    }
   ],
   "source": [
    "import seaborn as sb\n",
    "\n",
    "# If the 3 samples from the polulation are\n",
    "x1 = [2,3,4,5,6,7]\n",
    "x2 = [4,5,6,7,8,9]\n",
    "x3 = [7,6,5,4,3,2]\n",
    "\n",
    "# Calculate the the means for above 3 samples and plot the distribution of means\n",
    "\n",
    "m1 = sp.mean(x1)\n",
    "m2 = sp.mean(x2)\n",
    "m3 = sp.mean(x3)\n",
    "\n",
    "print(m1, m2, m3)\n",
    "sb.distplot([m1, m2, m3])\n"
   ]
  },
  {
   "cell_type": "raw",
   "metadata": {},
   "source": [
    "16) Which metric measures, how sharp the peak of a distribution is.\n",
    "    a) Variation\n",
    "    b) Kurtosis\n",
    "    c) Skewness\n",
    "    \n",
    "    b"
   ]
  },
  {
   "cell_type": "code",
   "execution_count": 31,
   "metadata": {},
   "outputs": [
    {
     "name": "stdout",
     "output_type": "stream",
     "text": [
      "-0.057337766156587464\n",
      "-1.1166147630670817\n"
     ]
    },
    {
     "data": {
      "text/plain": [
       "<matplotlib.axes._subplots.AxesSubplot at 0x1af4d1c2908>"
      ]
     },
     "execution_count": 31,
     "metadata": {},
     "output_type": "execute_result"
    },
    {
     "data": {
      "image/png": "[encoded data removed]",
      "text/plain": [
       "<Figure size 432x288 with 1 Axes>"
      ]
     },
     "metadata": {
      "needs_background": "light"
     },
     "output_type": "display_data"
    }
   ],
   "source": [
    "x = [2,3,4,4,5,6,6,6,7,8,2]\n",
    "# Calculate the Skew ness and kurtosis for above list of data and comment if its a normal distribution\n",
    "\n",
    "print(stats.skew(x))\n",
    "print(stats.kurtosis(x))\n",
    "\n",
    "sb.distplot(x)"
   ]
  },
  {
   "cell_type": "raw",
   "metadata": {},
   "source": [
    "17) Eucliendean distance doesn't follow pythogorous theorm.( True/False) \n",
    "False"
   ]
  },
  {
   "cell_type": "code",
   "execution_count": 44,
   "metadata": {},
   "outputs": [
    {
     "name": "stdout",
     "output_type": "stream",
     "text": [
      "euclidean 6.708203932499369\n",
      "manhattan 15\n",
      "minkowski 6.708203932499369\n"
     ]
    }
   ],
   "source": [
    "X = [2,3,4,5,6] \n",
    "Y= [5,6,7,8,9]\n",
    "\n",
    "# Find the Euclidean distance between above two points X and Y\n",
    "print('euclidean', sp.spatial.distance.euclidean(X, Y))\n",
    "# Find manhattan Distances between above two points X and Y\n",
    "print('manhattan', sp.spatial.distance.cityblock(X, Y))\n",
    "# Find Minkiwoski Distances between above two points X and Y\n",
    "print('minkowski', sp.spatial.distance.minkowski(X, Y))"
   ]
  },
  {
   "cell_type": "raw",
   "metadata": {},
   "source": [
    "18) Which one of the following is least sensitive to outliers?\n",
    "    a) Mean\n",
    "    b) Median\n",
    "    c) Mode\n",
    "    d) None of the above\n",
    "    \n",
    "    c"
   ]
  },
  {
   "cell_type": "raw",
   "metadata": {},
   "source": [
    "19) Area under standart normal distribution curve is equal to _______________.\n",
    "\n",
    "1"
   ]
  },
  {
   "cell_type": "raw",
   "metadata": {},
   "source": [
    "20) Which of the following is not a possible value of the correlation coefficient?\n",
    "    a)  0\n",
    "    b)  +0.15\n",
    "    c)  +1.5\n",
    "    d)  -0.5\n",
    "    \n",
    "    c"
   ]
  },
  {
   "cell_type": "raw",
   "metadata": {},
   "source": [
    "21) In any probablity distribution graph, Y-axis is always frequency. ( True/False)\n",
    "\n",
    "True"
   ]
  },
  {
   "cell_type": "raw",
   "metadata": {},
   "source": [
    "22) Which of the following are in approprite for nominal scale varibales\n",
    "    a) Mean\n",
    "    b) Standard deviation\n",
    "    c) median \n",
    "    d) Mode\n",
    "    \n",
    "    "
   ]
  },
  {
   "cell_type": "raw",
   "metadata": {},
   "source": [
    "23) Which of the following are not calculated based on entire sample data\n",
    "    a) mean\n",
    "    b) skewness\n",
    "    c) kurtosis\n",
    "    d) Median\n",
    "    \n",
    "d    "
   ]
  },
  {
   "cell_type": "raw",
   "metadata": {},
   "source": [
    "24) In a data set of 50 observations, 3 parameters are estimated, the correspoding degress of freedom is\n",
    "    a) 47\n",
    "    b) 53\n",
    "    c) 48\n",
    "    d) between 47 and 53\n",
    "    \n",
    "    \n",
    "    "
   ]
  },
  {
   "cell_type": "markdown",
   "metadata": {},
   "source": [
    "# Create a point of view"
   ]
  },
  {
   "cell_type": "raw",
   "metadata": {},
   "source": [
    "1) Understand the concpets of central tendencies, variations and dispersions to understand the distribution of data better. Extremely key concept to understand the data and representative metrics.\n",
    "2) Understand different types of distributions like normal, poissons, binomial etc"
   ]
  }
 ],
 "metadata": {
  "kernelspec": {
   "display_name": "Python 3",
   "language": "python",
   "name": "python3"
  },
  "language_info": {
   "codemirror_mode": {
    "name": "ipython",
    "version": 3
   },
   "file_extension": ".py",
   "mimetype": "text/x-python",
   "name": "python",
   "nbconvert_exporter": "python",
   "pygments_lexer": "ipython3",
   "version": "3.7.3"
  }
 },
 "nbformat": 4,
 "nbformat_minor": 2
}
