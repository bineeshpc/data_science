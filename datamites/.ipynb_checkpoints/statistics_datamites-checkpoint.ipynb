{
 "cells": [
  {
   "cell_type": "markdown",
   "metadata": {},
   "source": [
    " # Statistics\n",
    " I cover only 30% of what you should know\n",
    " Any research statistics can prove or disprove a theory\n",
    " research\n",
    " Statistics is essential block for any researcher\n",
    " ## Descriptive statistics\n",
    " Sales graph\n",
    " Summary\n",
    " mean, standard deviation etc\n",
    " Descriptive statistics is bare minimum you should know\n",
    " to run a business\n",
    " trend\n",
    " tools like tableau\n",
    " 100 percent data presented in an informative manner\n",
    " tableau visual analytics\n",
    " BI(Business intelligence) tools\n",
    "\n",
    " ## Inferential statistics\n",
    " Your are infering the output of something from data\n",
    " Exit polls\n",
    " population, china, India\n",
    " Ask few thousands of people\n",
    " How many percentage of people are voting for party x\n",
    " Using the subset of the population\n",
    " Sample population\n",
    " Study sample\n",
    " Conclude for entire population\n",
    " Field is called inferential statistics\n",
    " You can plot charts\n",
    " Read the same topic from atleast 3 different sources\n",
    " Confusion is better, because you research more\n",
    " A conflict will make you remember\n",
    " Critical reading\n",
    " Terms\n",
    " ## Population\n",
    " (grains in sand) Infinite population, Finite population\n",
    " ## Sample\n",
    " sample of pupulation\n",
    " population is 1 cr\n",
    " sample is 30 lakhs\n",
    " 30 % is married out of 30 lakhs\n",
    " error = parameter - statistic\n",
    " ## Variable\n",
    " Women safety perception survey in bangalore\n",
    " total poulation of bangalore = 1 cr\n",
    " women population = 30 lakhs\n",
    " 30 lakhs 50 50 possibility\n",
    " about 60 percent come under safety research\n",
    " Demographics of india wikipedia page\n",
    " https://en.wikipedia.org/wiki/Demographics_of_India\n",
    " Age, Working?, Location, Working in night shift?, Skills, Education, Married?\n",
    " Variables are the ones where we get answers for\n",
    " What we collect here is\n",
    " 35, y, BTM, Software Engineer|Music player, N, PG, Y\n",
    " Single valued variables\n",
    " Singular data\n",
    " statistic (singular without s) is a summary of a sample\n",
    "\n",
    " Sampling error\n",
    " parameter - statistic\n",
    "\n",
    " Skills plural data\n",
    " Multivalues are hard to analyse\n",
    " Singular data is easy to analyse\n",
    " OneHotEncoding\n",
    " Software Engineer| Musician\n",
    " Finance | LLB\n",
    " ....\n",
    " Skills can be converted to singular variable\n",
    " Skills_Software_Engineer\n",
    " Skills_Finance\n",
    " Skills_Musician\n",
    " one hot encoding\n",
    " Converting a plural data into singular data\n",
    " Skills_Software_Engineer 0\n",
    " Skills_Finance 1\n",
    " Skills_Musician 0\n",
    " Variable is either 0 or 1\n",
    " ## Experiment\n",
    " Pediasure\n",
    " 40 kids\n",
    " 20 pediasure 20 milk\n",
    " Experiment\n",
    " # Data\n",
    " ## Numerical data\n",
    " Made of numbers\n",
    " ### Continuous data\n",
    " Age, weight, blood pressure, temperature\n",
    " ### Discrete data\n",
    "\n",
    " ## Categorical data\n",
    " Eye colourr, gender blood type, ethnicity\n",
    " ### Ordinal data\n",
    " With order\n",
    " ### nominal data\n",
    " BMW, Tata, battery is defective or not\n",
    "\n",
    " Qualitative and quantitative data\n",
    " Qualitative is called categorical data\n",
    " Blood group is nominal by nature\n",
    " This can be converted to ordinal by ordering it by\n",
    " availability or rareness\n",
    " by attaching some thing to it\n",
    " dog breed nominal, arranged in order of height is ordinal\n",
    " Amazon review, ordinal\n",
    " Employee appraisal, categorical ordinal\n",
    " Discrete data\n",
    " Numerical\n",
    " Shoe size\n",
    " Predefined discrete data\n",
    " Number of children\n",
    " Step size in discrete data need not be same\n",
    " ## Continous variable\n",
    " same as Ratio data\n",
    " ## Discrete variable\n",
    " Same as interval\n",
    " Examples\n",
    " length of time continuous\n",
    " number of chocolates discrete\n",
    " brand nominal\n",
    " overall satisfaction rate ordinal\n",
    " number of files discrete\n",
    " ph level continuous\n",
    " number of staples discreted\n",
    " Age\n",
    " continuous data\n",
    " 26, 25, 30, 40, 23, 60, 50\n",
    " Discrete\n",
    " Between range\n",
    " Interval\n",
    " 0-10  5(mid value)\n",
    " 11-20 15\n",
    " 20-30 25\n",
    " 30-40 35\n",
    " By taking mid values of the interval you can convert\n",
    " a continuous variable to a discrete variable\n",
    " young, mid, old ordinal categories can be made from\n",
    " the discrete data\n",
    " by defining a certian > or < operator\n",
    " Can it be converted to nominal data\n",
    " < 15 age and > 60 age play arcade games\n",
    " mario pacman arcade games\n",
    " Group1, Group2, Group3\n",
    " These groups does not have any order\n",
    " because both 15 year olds and 60 year olds are interested in playing\n",
    " these games\n",
    " losing information as we go right in that slide(review)\n",
    " # Making sense of data\n",
    " Harnessing data\n",
    " Sampling\n",
    " ## With replacement\n",
    " You put it back and take again"
   ]
  },
  {
   "cell_type": "code",
   "execution_count": 1,
   "metadata": {},
   "outputs": [],
   "source": [
    " \n",
    "# ## Without replacement\n",
    "# Eg. lottery ticket\n",
    "# Third price winner cannot win the first price as well\n",
    "\n",
    "# 10000 people survey on employee satisfaction\n",
    "# Random sample is the only valid\n",
    "# Non random invalid\n",
    "# ## Simple random sample\n",
    "# Every employee equal probability of getting picked up\n",
    "# ## Stratified sample\n",
    "# IT, Student, Textile, House wives, Teachers, Others\n",
    "# Principle of mutually exclusive and collectively exhaustive\n",
    "# Group should not overlap\n",
    "# All groups put together should cover the population\n",
    "# strata means group\n",
    "\n",
    "# 70 80 % will use stratified sampling\n",
    "# achieving this can be default\n",
    "# Different channel for different strata\n",
    "\n",
    "# ## Cluster sample\n",
    "# Sampling the strata itself\n",
    "# Read about this\n",
    "# As data scientists you may not encouter this kind of sampling\n",
    "\n",
    "# ## Systematic\n",
    "# Perspective difference\n",
    "# people who has been there for long time(management decision is not good, strategy is not good)\n",
    "# people who are 5 months old (coffee machine is not working, work hours)\n",
    "\n",
    "# E0001\n",
    "# E0002\n",
    "# Employee number is sequential\n",
    "# Every 100th employee to surveyed\n",
    "# \n",
    "# Working with organization systematic is good\n",
    "\n",
    "# ## Biased Sampling\n",
    "#  Cultural diff Business survey done for PHD University of amsterdam\n",
    "# Tolerance - US less tolerant\n",
    "# Germany - 10 O clock meeting 5 minute early(9:55)\n",
    "# India - 15 minutes early India are yes people\n",
    "\n",
    "# 10 managers from each region\n",
    "# china, india, uk, usa\n",
    "\n",
    "# convenient sampling(Biased sampling)\n",
    "# Doing the sampling of people who are university of amsterdam students\n",
    "\n",
    "# a small error can happen because of convenient sampling\n",
    "\n",
    "# This can be offset by using certain techniques\n",
    "\n",
    "# ## Volunteer Sampling \n",
    "# is not recommended\n",
    "# volunteers are usually affected. \n",
    "# They have a strong bias towards a topic.\n",
    "\n",
    "# # Exploratory analysis\n",
    "# ## EDA Exploratory data analysis\n",
    "\n",
    "# ## Central tendency tendencies: Mean median and mode\n",
    "# ### Mean\n",
    "# ### Median\n",
    "# ### Mode\n",
    "\n"
   ]
  },
  {
   "cell_type": "code",
   "execution_count": 2,
   "metadata": {},
   "outputs": [
    {
     "name": "stdout",
     "output_type": "stream",
     "text": [
      "228.88888888888889\n",
      "76.0\n"
     ]
    }
   ],
   "source": [
    "import numpy as np\n",
    "# INR thousands per month\n",
    "org_a_salaries = [80, 75, 100, 45, 30, 45, 65, 120, 1500]\n",
    "org_b_salaries = [90, 85, 60, 60, 80, 69, 75, 35, 130]\n",
    "\n",
    "print(np.mean(org_a_salaries))\n",
    "print(np.mean(org_b_salaries))\n",
    "\n"
   ]
  },
  {
   "cell_type": "code",
   "execution_count": 3,
   "metadata": {},
   "outputs": [
    {
     "name": "stdout",
     "output_type": "stream",
     "text": [
      "mean of the salaries company A 228.88888888888889\n",
      "mean of the salaries company B 76.0\n",
      "median of the salaries company A 75.0\n",
      "median of the salaries company B 75.0\n",
      "mode of the salaries company A ModeResult(mode=array([45]), count=array([2]))\n",
      "mode of the salaries company B ModeResult(mode=array([60]), count=array([2]))\n"
     ]
    }
   ],
   "source": [
    "\n",
    "import scipy as sp\n",
    "\n",
    "from scipy import stats\n",
    "\n",
    "print('mean of the salaries company A', sp.mean(org_a_salaries))\n",
    "print('mean of the salaries company B', sp.mean(org_b_salaries))\n",
    "\n",
    "print('median of the salaries company A', sp.median(org_a_salaries))\n",
    "print('median of the salaries company B', sp.median(org_b_salaries))\n",
    "\n",
    "print('mode of the salaries company A', sp.stats.mode(org_a_salaries))\n",
    "print('mode of the salaries company B', sp.stats.mode(org_b_salaries))\n",
    "\n"
   ]
  },
  {
   "cell_type": "code",
   "execution_count": 4,
   "metadata": {},
   "outputs": [],
   "source": [
    "\n",
    "# ## Mean is failing because of an outlier\n",
    "# Mean is not a good measure if data has extreme values\n",
    "\n",
    "# Median is preferred in this case\n",
    "# Median is middle value\n",
    "# ## Median\n",
    "# Dividing the data into two equal parts\n",
    "\n",
    "# 50 percent are getting below it\n",
    "# 50 percent are getting above it\n",
    "# Measures of tendency you consider both mean and median\n",
    "\n",
    "# \n"
   ]
  },
  {
   "cell_type": "code",
   "execution_count": 5,
   "metadata": {},
   "outputs": [
    {
     "name": "stdout",
     "output_type": "stream",
     "text": [
      "Mean of train a: 14.8\n",
      "Mean of train b: 16.0\n",
      "Median of train a: 15.0\n",
      "Median of train b: 15.0\n"
     ]
    }
   ],
   "source": [
    "# Measures of variability\n",
    "\n",
    "train_a = [10, 15, 12, 17, 20]\n",
    "train_b = [2, 30, 15, 5, 28]\n",
    "\n",
    "print('Mean of train a:', sp.mean(train_a))\n",
    "print('Mean of train b:', sp.mean(train_b))\n",
    "\n",
    "\n",
    "print('Median of train a:', sp.median(train_a))\n",
    "print('Median of train b:', sp.median(train_b))\n",
    "\n",
    "# Wide variation for train b\n",
    "# measures of central tendency is insufficient to understand this\n",
    "\n"
   ]
  },
  {
   "cell_type": "code",
   "execution_count": 6,
   "metadata": {},
   "outputs": [],
   "source": [
    "\n",
    "# ## Methods of variability\n",
    "# Range  Max - Min of a distribution\n",
    "# Range is a measure of variability \n",
    "# Equal to max - min\n"
   ]
  },
  {
   "cell_type": "code",
   "execution_count": 7,
   "metadata": {},
   "outputs": [
    {
     "name": "stdout",
     "output_type": "stream",
     "text": [
      "Train a 10\n",
      "Train b 28\n"
     ]
    }
   ],
   "source": [
    "\n",
    "max_a = max(train_a)\n",
    "min_a = min(train_a)\n",
    "\n",
    "max_b = max(train_b)\n",
    "min_b = min(train_b)\n",
    "\n",
    "print('Train a', max_a - min_a)\n",
    "print('Train b', max_b - min_b)\n"
   ]
  },
  {
   "cell_type": "code",
   "execution_count": 8,
   "metadata": {},
   "outputs": [],
   "source": [
    "\n",
    "# Range is not a great measure\n",
    "# One bad day can screw it up\n",
    "\n",
    "\n",
    "# #%%\n",
    "# mean is 15\n",
    "\n",
    "# 10 - 15 5 25  \n",
    "# 15 - 15 0 0\n",
    "# 20 - 15 5 25\n",
    "\n",
    "# (25 + 0 + 25) / (3 - 1)\n",
    "# correction for sampling error\n",
    "\n",
    "# use n-1 instead of n\n",
    "\n",
    "# mean of the squares of the deviation \n",
    "\n",
    "# https://en.wikipedia.org/wiki/Bessel%27s_correction\n",
    "\n",
    "# Standard deviation\n",
    "# squareroot of variance\n",
    "# 6 8 12\n",
    "# find standard deviation manually\n",
    "# 6  8.7 7.28  \n",
    "# 8  8.7 0.48\n",
    "# 12 8.7 10.89\n",
    "\n",
    "# variance 6.21\n",
    "\n",
    "# std 3.105"
   ]
  },
  {
   "cell_type": "code",
   "execution_count": 9,
   "metadata": {},
   "outputs": [
    {
     "data": {
      "text/plain": [
       "3.105"
      ]
     },
     "execution_count": 9,
     "metadata": {},
     "output_type": "execute_result"
    }
   ],
   "source": [
    "(7.28 + 0.48 + 10.89 ) / 3\n",
    "\n",
    "6.21 ** 1/2\n"
   ]
  },
  {
   "cell_type": "code",
   "execution_count": 10,
   "metadata": {},
   "outputs": [
    {
     "data": {
      "text/plain": [
       "2.494438257849294"
      ]
     },
     "execution_count": 10,
     "metadata": {},
     "output_type": "execute_result"
    }
   ],
   "source": [
    "\n",
    "np.std([6, 8, 12])\n"
   ]
  },
  {
   "cell_type": "code",
   "execution_count": 11,
   "metadata": {},
   "outputs": [],
   "source": [
    "\n",
    "# Blood pressure\n",
    "\n",
    "# BP 120/80\n",
    "\n",
    "# Stress\n",
    "# Social media psychology\n",
    "# Hypothetical paper\n",
    "\n",
    "# Lion entering the den\n",
    "# caveman\n",
    "# Lion / Wife / Husband / Boss\n",
    "# EMI\n",
    "# Fight or flight\n",
    "# Smile\n",
    "# Punching bags in office and on the road\n",
    "\n",
    "# BP\n",
    "# systolic blood pressure\n",
    "# \n",
    "\n",
    "# 120, 125, 130, 140, 110, 115, 110\n",
    "\n",
    "# # Histogram is a frequency distribution plot\n",
    "# Blood pressure in mmhg\n",
    "# Systolic blood pressure\n",
    "\n",
    "# Important graph\n",
    "\n",
    "# Normal curve\n",
    "# Normally occurs\n",
    "# Bell curve\n",
    "# Gaussian distribution\n",
    "\n",
    "# Z values or standard values\n",
    "# +1 sigma + 2 sigma\n",
    "# -1 sigma - 2 sigma\n",
    "# How many times I am away from the mean\n",
    "\n",
    "# mu = 120\n",
    "# sigma = 10\n",
    "# x = mu + z * sigma\n",
    "\n",
    "# 120 + 1.5 * 10 = 135\n",
    "\n",
    "# bp is 90\n",
    "\n",
    "# 95 = 120 + z * 10\n",
    "# -25 = z * 10\n",
    "# z = -2.5\n",
    "\n",
    "# z = (x - mu) / sigma\n",
    "\n",
    "# Empirical rule\n",
    "# Normal distribution\n",
    "\n",
    "# 68% percent of data is going to be in between -1sigma and +1sigma\n",
    "\n",
    "# 95% of data is going to be in between -2sigma and 2sigma\n",
    "\n",
    "# 99.7% of data is going to be in between -3sigma and +3sigma\n",
    "\n",
    "# .3 % of data will fall away from +-3sigma\n",
    "\n",
    "# Outliers\n",
    "# More than or less than 3 sigma\n",
    "\n",
    "\n",
    "# 6 sigma data will fall 99.9997%\n",
    "# 3 in a million\n",
    "\n",
    "# 6 sigma company\n",
    "# out of 1 million only 3 can fail\n",
    "\n",
    "# Dabawala of mumbai\n",
    "# Carry home food to office\n",
    "# Studied in harvard\n",
    "# They are 6 sigma\n",
    "\n",
    "# Outlier is a univariant analysis\n",
    "\n"
   ]
  },
  {
   "cell_type": "code",
   "execution_count": 12,
   "metadata": {},
   "outputs": [],
   "source": [
    "# # Central limit theorem\n",
    "\n",
    "# Example of blood pressure\n",
    "# Data can be normal or not normal\n",
    "# You take a sample of the data\n",
    "\n",
    "\n",
    "# take 5 randomly from it\n",
    "# Take average of it\n",
    "# random sample 5 take average put it there\n",
    "# if we create a distribution of it then that distribution\n",
    "# tends to be normal\n",
    "\n",
    "# As per CLT, distribution of sample means\n",
    "# tend to be normal \n",
    "\n",
    "# as sample size tend to be larger\n",
    "\n",
    "# Parametric method -> Normal\n",
    "# Non - parametric -> Not normal\n",
    "\n",
    "# Data -> Normal -> parametric technique\n",
    "\n",
    "# Not normal -> non parametric\n",
    "\n",
    "# Not normal -> convert to normal and then use clt\n",
    "\n",
    "# Normality testing\n",
    "\n",
    "# skewness testing\n",
    "# Kurtosis testing\n",
    "\n",
    "# Perfect normal distribution\n",
    "# Skewed distribution\n",
    "\n",
    "# tail is pointing towards positive side\n",
    "# positively skewed\n",
    "# \n",
    "\n",
    "# tail is ponting towards -ve side\n",
    "\n",
    "# -vely skewed\n",
    "\n",
    "# +ve skewness s>0\n",
    "# -vely skewed s < 0\n",
    "\n",
    "\n",
    "# s = 0 normal\n",
    "# -1 < s < 1\n"
   ]
  },
  {
   "cell_type": "code",
   "execution_count": 13,
   "metadata": {},
   "outputs": [
    {
     "data": {
      "text/plain": [
       "<matplotlib.axes._subplots.AxesSubplot at 0x1e1d9b1c550>"
      ]
     },
     "execution_count": 13,
     "metadata": {},
     "output_type": "execute_result"
    },
    {
     "data": {
      "image/png": "[encoded data removed]",
      "text/plain": [
       "<Figure size 432x288 with 1 Axes>"
      ]
     },
     "metadata": {
      "needs_background": "light"
     },
     "output_type": "display_data"
    }
   ],
   "source": [
    "bp = [120, 125, 112, 150, 140, 100, 95, 130, 110, 120, 119]\n",
    "\n",
    "import seaborn as sb \n",
    "\n",
    "%matplotlib inline \n",
    "\n",
    "sb.distplot(bp)\n"
   ]
  },
  {
   "cell_type": "code",
   "execution_count": 14,
   "metadata": {},
   "outputs": [
    {
     "data": {
      "text/plain": [
       "0.2548261686243331"
      ]
     },
     "execution_count": 14,
     "metadata": {},
     "output_type": "execute_result"
    }
   ],
   "source": [
    "stats.skew(bp)"
   ]
  },
  {
   "cell_type": "code",
   "execution_count": 15,
   "metadata": {},
   "outputs": [
    {
     "data": {
      "text/plain": [
       "<matplotlib.axes._subplots.AxesSubplot at 0x1e1d9e1a898>"
      ]
     },
     "execution_count": 15,
     "metadata": {},
     "output_type": "execute_result"
    },
    {
     "data": {
      "image/png": "[encoded data removed]",
      "text/plain": [
       "<Figure size 432x288 with 1 Axes>"
      ]
     },
     "metadata": {
      "needs_background": "light"
     },
     "output_type": "display_data"
    }
   ],
   "source": [
    "\n",
    "sb.distplot(bp)\n",
    "\n"
   ]
  },
  {
   "cell_type": "code",
   "execution_count": 16,
   "metadata": {},
   "outputs": [
    {
     "data": {
      "text/plain": [
       "<matplotlib.axes._subplots.AxesSubplot at 0x1e1dae8c278>"
      ]
     },
     "execution_count": 16,
     "metadata": {},
     "output_type": "execute_result"
    },
    {
     "data": {
      "image/png": "[encoded data removed]",
      "text/plain": [
       "<Figure size 432x288 with 1 Axes>"
      ]
     },
     "metadata": {
      "needs_background": "light"
     },
     "output_type": "display_data"
    }
   ],
   "source": [
    "\n",
    "bp1 = [i for i in range(50)] + [120, 125, 112, 150, 140, 100, 95, 130, 110, 120, 119]\n",
    "sb.distplot(bp1)\n"
   ]
  },
  {
   "cell_type": "code",
   "execution_count": 17,
   "metadata": {},
   "outputs": [
    {
     "data": {
      "text/plain": [
       "1.3572090755316784"
      ]
     },
     "execution_count": 17,
     "metadata": {},
     "output_type": "execute_result"
    }
   ],
   "source": [
    "stats.skew(bp1)\n",
    "\n"
   ]
  },
  {
   "cell_type": "code",
   "execution_count": 18,
   "metadata": {},
   "outputs": [
    {
     "data": {
      "text/plain": [
       "<matplotlib.axes._subplots.AxesSubplot at 0x1e1daf12940>"
      ]
     },
     "execution_count": 18,
     "metadata": {},
     "output_type": "execute_result"
    },
    {
     "data": {
      "image/png": "[encoded data removed]",
      "text/plain": [
       "<Figure size 432x288 with 1 Axes>"
      ]
     },
     "metadata": {
      "needs_background": "light"
     },
     "output_type": "display_data"
    }
   ],
   "source": [
    "\n",
    "stats.kurtosis(bp)\n",
    "sb.distplot(bp)\n"
   ]
  },
  {
   "cell_type": "code",
   "execution_count": 19,
   "metadata": {},
   "outputs": [
    {
     "data": {
      "text/plain": [
       "-0.5201935657879497"
      ]
     },
     "execution_count": 19,
     "metadata": {},
     "output_type": "execute_result"
    }
   ],
   "source": [
    "stats.kurtosis(bp)"
   ]
  },
  {
   "cell_type": "code",
   "execution_count": 20,
   "metadata": {},
   "outputs": [
    {
     "data": {
      "text/plain": [
       "-1.3141696588957417"
      ]
     },
     "execution_count": 20,
     "metadata": {},
     "output_type": "execute_result"
    }
   ],
   "source": [
    "\n",
    "bp1 = [0, 3, 5, 10 , 20, 120, 125, 112, 150, 140, 100, 95, 130, 110, 120, 119]\n",
    "stats.kurtosis(bp1)\n"
   ]
  },
  {
   "cell_type": "code",
   "execution_count": 21,
   "metadata": {},
   "outputs": [
    {
     "data": {
      "text/plain": [
       "<matplotlib.axes._subplots.AxesSubplot at 0x1e1daf6eeb8>"
      ]
     },
     "execution_count": 21,
     "metadata": {},
     "output_type": "execute_result"
    },
    {
     "data": {
      "image/png": "[encoded data removed]",
      "text/plain": [
       "<Figure size 432x288 with 1 Axes>"
      ]
     },
     "metadata": {
      "needs_background": "light"
     },
     "output_type": "display_data"
    }
   ],
   "source": [
    "\n",
    "sb.distplot(bp1)"
   ]
  },
  {
   "cell_type": "code",
   "execution_count": 22,
   "metadata": {},
   "outputs": [],
   "source": [
    "\n",
    "# if both kurtosis and skewness is between -1 and +1\n",
    "# data is considered normal\n",
    "# \n"
   ]
  },
  {
   "cell_type": "code",
   "execution_count": 23,
   "metadata": {},
   "outputs": [],
   "source": [
    "# Measure of distance\n",
    "# Euclidean distance\n",
    "# Byjus\n",
    "# Manhattan distance\n",
    "# road distance right angles\n",
    "# distance for grid systems\n",
    "# Minkowski distance\n",
    "# Generalization of both minkowski and manhattan distance\n",
    "# \n"
   ]
  },
  {
   "cell_type": "code",
   "execution_count": 24,
   "metadata": {},
   "outputs": [],
   "source": [
    "\n",
    "# # Hypothesis testing\n",
    "# There is no life beyond earth\n",
    "\n",
    "# H null = H0 = there is no life beyond earth\n",
    "# H alt = Ha = There is life beyond earth\n",
    "\n",
    "# H alternate hypothesis\n",
    "# allen bryman\n",
    "\n",
    "# https://www.amazon.in/Business-Research-Methods-4-Ed/dp/0198747586/ref=sr_1_1?keywords=business+research+methods+alan+bryman&qid=1563700972&s=books&sr=1-1\n",
    "\n",
    "\n",
    "# Reject H null\n",
    "# Accept H alt\n",
    "\n"
   ]
  },
  {
   "cell_type": "code",
   "execution_count": 25,
   "metadata": {},
   "outputs": [],
   "source": [
    "# ## One sample T test\n",
    "\n",
    "# H0 = Mar age of IT Prof Male in Bangalore is 30\n",
    "# Ha = Mar age of IT Prof Male in Bangalore is NOT 30\n"
   ]
  },
  {
   "cell_type": "code",
   "execution_count": 26,
   "metadata": {},
   "outputs": [
    {
     "data": {
      "text/plain": [
       "[34, 32, 29, 28, 27, 31, 29, 36, 27]"
      ]
     },
     "execution_count": 26,
     "metadata": {},
     "output_type": "execute_result"
    }
   ],
   "source": [
    "age_mar_ban = [34, 32, 29, 28, 27, 31, 29, 36, 27]\n",
    "age_mar_ban\n"
   ]
  },
  {
   "cell_type": "code",
   "execution_count": 27,
   "metadata": {},
   "outputs": [
    {
     "data": {
      "text/plain": [
       "Ttest_1sampResult(statistic=0.31622776601683683, pvalue=0.7599229683487398)"
      ]
     },
     "execution_count": 27,
     "metadata": {},
     "output_type": "execute_result"
    }
   ],
   "source": [
    "stats.ttest_1samp(age_mar_ban, 30)\n"
   ]
  },
  {
   "cell_type": "code",
   "execution_count": 28,
   "metadata": {},
   "outputs": [],
   "source": []
  }
 ],
 "metadata": {
  "file_extension": ".py",
  "kernelspec": {
   "display_name": "Python 3",
   "language": "python",
   "name": "python3"
  },
  "language_info": {
   "codemirror_mode": {
    "name": "ipython",
    "version": 3
   },
   "file_extension": ".py",
   "mimetype": "text/x-python",
   "name": "python",
   "nbconvert_exporter": "python",
   "pygments_lexer": "ipython3",
   "version": "3.7.3"
  },
  "mimetype": "text/x-python",
  "name": "python",
  "npconvert_exporter": "python",
  "pygments_lexer": "ipython3",
  "version": 3
 },
 "nbformat": 4,
 "nbformat_minor": 2
}
