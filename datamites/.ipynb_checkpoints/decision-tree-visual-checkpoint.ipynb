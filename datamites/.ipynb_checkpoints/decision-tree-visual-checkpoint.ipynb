{
 "cells": [
  {
   "cell_type": "code",
   "execution_count": null,
   "metadata": {},
   "outputs": [
    {
     "name": "stdout",
     "output_type": "stream",
     "text": [
      "Collecting package metadata (repodata.json): ...working... done\n",
      "Solving environment: ...working... done\n",
      "\n",
      "## Package Plan ##\n",
      "\n",
      "  environment location: C:\\Users\\Bineesh\\Anaconda3\n",
      "\n",
      "  added / updated specs:\n",
      "    - pydotplus\n",
      "\n",
      "\n",
      "The following packages will be downloaded:\n",
      "\n",
      "    package                    |            build\n",
      "    ---------------------------|-----------------\n",
      "    certifi-2019.3.9           |           py37_0         155 KB\n",
      "    conda-4.7.11               |           py37_0         3.0 MB\n",
      "    pydotplus-2.0.2            |           py37_1          42 KB\n",
      "    ------------------------------------------------------------\n",
      "                                           Total:         3.2 MB\n",
      "\n",
      "The following NEW packages will be INSTALLED:\n",
      "\n",
      "  pydotplus          pkgs/main/win-64::pydotplus-2.0.2-py37_1\n",
      "\n",
      "The following packages will be UPDATED:\n",
      "\n",
      "  conda                    conda-forge::conda-4.7.10-py37_0 --> pkgs/main::conda-4.7.11-py37_0\n",
      "\n",
      "The following packages will be SUPERSEDED by a higher-priority channel:\n",
      "\n",
      "  certifi                                       conda-forge --> pkgs/main\n",
      "\n",
      "\n",
      "\n",
      "Downloading and Extracting Packages\n",
      "\n",
      "certifi-2019.3.9     | 155 KB    |            |   0% \n",
      "certifi-2019.3.9     | 155 KB    | #          |  10% \n",
      "certifi-2019.3.9     | 155 KB    | ####1      |  41% \n",
      "certifi-2019.3.9     | 155 KB    | #####1     |  51% \n",
      "certifi-2019.3.9     | 155 KB    | #######2   |  72% \n",
      "certifi-2019.3.9     | 155 KB    | ########2  |  82% \n",
      "certifi-2019.3.9     | 155 KB    | ########## | 100% \n",
      "\n",
      "conda-4.7.11         | 3.0 MB    |            |   0% \n",
      "conda-4.7.11         | 3.0 MB    |            |   1% \n",
      "conda-4.7.11         | 3.0 MB    | 1          |   2% \n",
      "conda-4.7.11         | 3.0 MB    | 3          |   4% \n",
      "conda-4.7.11         | 3.0 MB    | 7          |   7% \n",
      "conda-4.7.11         | 3.0 MB    | 7          |   8% \n",
      "conda-4.7.11         | 3.0 MB    | 8          |   8% \n",
      "conda-4.7.11         | 3.0 MB    | 8          |   9% \n",
      "conda-4.7.11         | 3.0 MB    | 9          |   9% \n",
      "conda-4.7.11         | 3.0 MB    | #1         |  12% \n",
      "conda-4.7.11         | 3.0 MB    | #2         |  13% \n",
      "conda-4.7.11         | 3.0 MB    | #4         |  14% \n",
      "conda-4.7.11         | 3.0 MB    | #5         |  15% \n",
      "conda-4.7.11         | 3.0 MB    | #6         |  16% \n",
      "conda-4.7.11         | 3.0 MB    | #7         |  17% \n",
      "conda-4.7.11         | 3.0 MB    | #8         |  18% \n",
      "conda-4.7.11         | 3.0 MB    | #9         |  19% \n",
      "conda-4.7.11         | 3.0 MB    | ##         |  20% \n",
      "conda-4.7.11         | 3.0 MB    | ##1        |  21% \n",
      "conda-4.7.11         | 3.0 MB    | ##2        |  22% \n",
      "conda-4.7.11         | 3.0 MB    | ##3        |  23% \n",
      "conda-4.7.11         | 3.0 MB    | ##4        |  24% \n",
      "conda-4.7.11         | 3.0 MB    | ##5        |  25% \n",
      "conda-4.7.11         | 3.0 MB    | ##6        |  26% \n",
      "conda-4.7.11         | 3.0 MB    | ##7        |  28% \n",
      "conda-4.7.11         | 3.0 MB    | ##8        |  29% \n",
      "conda-4.7.11         | 3.0 MB    | ###        |  31% \n",
      "conda-4.7.11         | 3.0 MB    | ###1       |  32% \n",
      "conda-4.7.11         | 3.0 MB    | ###2       |  33% \n",
      "conda-4.7.11         | 3.0 MB    | ###4       |  35% \n",
      "conda-4.7.11         | 3.0 MB    | ###6       |  36% \n",
      "conda-4.7.11         | 3.0 MB    | ###7       |  38% \n",
      "conda-4.7.11         | 3.0 MB    | ###9       |  39% \n",
      "conda-4.7.11         | 3.0 MB    | ####1      |  41% \n",
      "conda-4.7.11         | 3.0 MB    | ####2      |  43% \n",
      "conda-4.7.11         | 3.0 MB    | ####4      |  44% \n",
      "conda-4.7.11         | 3.0 MB    | ####5      |  46% \n",
      "conda-4.7.11         | 3.0 MB    | ####7      |  47% \n",
      "conda-4.7.11         | 3.0 MB    | ####9      |  49% \n",
      "conda-4.7.11         | 3.0 MB    | #####1     |  51% \n",
      "conda-4.7.11         | 3.0 MB    | #####2     |  53% \n",
      "conda-4.7.11         | 3.0 MB    | #####5     |  55% \n",
      "conda-4.7.11         | 3.0 MB    | #####6     |  57% \n",
      "conda-4.7.11         | 3.0 MB    | #####8     |  59% \n",
      "conda-4.7.11         | 3.0 MB    | ######     |  60% \n",
      "conda-4.7.11         | 3.0 MB    | ######1    |  62% \n",
      "conda-4.7.11         | 3.0 MB    | ######4    |  64% \n",
      "conda-4.7.11         | 3.0 MB    | ######6    |  67% \n",
      "conda-4.7.11         | 3.0 MB    | ######8    |  69% \n",
      "conda-4.7.11         | 3.0 MB    | #######    |  71% \n",
      "conda-4.7.11         | 3.0 MB    | #######2   |  73% \n",
      "conda-4.7.11         | 3.0 MB    | #######4   |  74% \n",
      "conda-4.7.11         | 3.0 MB    | #######5   |  76% \n",
      "conda-4.7.11         | 3.0 MB    | #######7   |  78% \n",
      "conda-4.7.11         | 3.0 MB    | ########   |  80% \n",
      "conda-4.7.11         | 3.0 MB    | ########1  |  82% \n",
      "conda-4.7.11         | 3.0 MB    | ########3  |  83% \n",
      "conda-4.7.11         | 3.0 MB    | ########4  |  85% \n",
      "conda-4.7.11         | 3.0 MB    | ########5  |  86% \n",
      "conda-4.7.11         | 3.0 MB    | ########6  |  87% \n",
      "conda-4.7.11         | 3.0 MB    | ########7  |  88% \n",
      "conda-4.7.11         | 3.0 MB    | ########9  |  89% \n",
      "conda-4.7.11         | 3.0 MB    | #########  |  90% \n",
      "conda-4.7.11         | 3.0 MB    | #########1 |  91% \n",
      "conda-4.7.11         | 3.0 MB    | #########2 |  92% \n",
      "conda-4.7.11         | 3.0 MB    | #########3 |  94% \n",
      "conda-4.7.11         | 3.0 MB    | #########4 |  95% \n",
      "conda-4.7.11         | 3.0 MB    | #########5 |  96% \n",
      "conda-4.7.11         | 3.0 MB    | #########6 |  97% \n",
      "conda-4.7.11         | 3.0 MB    | #########7 |  98% \n",
      "conda-4.7.11         | 3.0 MB    | #########8 |  99% \n",
      "conda-4.7.11         | 3.0 MB    | #########9 |  99% \n",
      "conda-4.7.11         | 3.0 MB    | #########9 | 100% \n",
      "conda-4.7.11         | 3.0 MB    | ########## | 100% \n",
      "\n",
      "pydotplus-2.0.2      | 42 KB     |            |   0% \n",
      "pydotplus-2.0.2      | 42 KB     | ###8       |  38% \n",
      "pydotplus-2.0.2      | 42 KB     | #######6   |  77% \n",
      "pydotplus-2.0.2      | 42 KB     | ########## | 100% \n",
      "Preparing transaction: ...working... done\n",
      "Verifying transaction: ...working... done\n",
      "Executing transaction: ...working... done\n"
     ]
    }
   ],
   "source": [
    "!conda install pydotplus -y\n",
    "!conda install graphviz -y"
   ]
  },
  {
   "cell_type": "code",
   "execution_count": 1,
   "metadata": {},
   "outputs": [],
   "source": [
    "#importing necessary packages\n",
    "import pandas as pd\n",
    "from sklearn.tree import DecisionTreeClassifier\n",
    "from sklearn.externals.six import StringIO  \n",
    "from IPython.display import Image  \n",
    "from sklearn.tree import export_graphviz\n",
    "import pydotplus"
   ]
  },
  {
   "cell_type": "raw",
   "metadata": {},
   "source": [
    "For Google Colab importing datafiles\n",
    "use below code by uncommenting."
   ]
  },
  {
   "cell_type": "code",
   "execution_count": 2,
   "metadata": {},
   "outputs": [],
   "source": [
    "# from google.colabs import files\n",
    "# files.upload()"
   ]
  },
  {
   "cell_type": "code",
   "execution_count": 3,
   "metadata": {},
   "outputs": [
    {
     "data": {
      "text/html": [
       "<div>\n",
       "<style scoped>\n",
       "    .dataframe tbody tr th:only-of-type {\n",
       "        vertical-align: middle;\n",
       "    }\n",
       "\n",
       "    .dataframe tbody tr th {\n",
       "        vertical-align: top;\n",
       "    }\n",
       "\n",
       "    .dataframe thead th {\n",
       "        text-align: right;\n",
       "    }\n",
       "</style>\n",
       "<table border=\"1\" class=\"dataframe\">\n",
       "  <thead>\n",
       "    <tr style=\"text-align: right;\">\n",
       "      <th></th>\n",
       "      <th>sepal_length</th>\n",
       "      <th>sepal_width</th>\n",
       "      <th>petal_length</th>\n",
       "      <th>petal_width</th>\n",
       "      <th>target</th>\n",
       "    </tr>\n",
       "  </thead>\n",
       "  <tbody>\n",
       "    <tr>\n",
       "      <th>0</th>\n",
       "      <td>5.1</td>\n",
       "      <td>3.5</td>\n",
       "      <td>1.4</td>\n",
       "      <td>0.2</td>\n",
       "      <td>0</td>\n",
       "    </tr>\n",
       "    <tr>\n",
       "      <th>1</th>\n",
       "      <td>4.9</td>\n",
       "      <td>3.0</td>\n",
       "      <td>1.4</td>\n",
       "      <td>0.2</td>\n",
       "      <td>0</td>\n",
       "    </tr>\n",
       "    <tr>\n",
       "      <th>2</th>\n",
       "      <td>4.7</td>\n",
       "      <td>3.2</td>\n",
       "      <td>1.3</td>\n",
       "      <td>0.2</td>\n",
       "      <td>0</td>\n",
       "    </tr>\n",
       "    <tr>\n",
       "      <th>3</th>\n",
       "      <td>4.6</td>\n",
       "      <td>3.1</td>\n",
       "      <td>1.5</td>\n",
       "      <td>0.2</td>\n",
       "      <td>0</td>\n",
       "    </tr>\n",
       "    <tr>\n",
       "      <th>4</th>\n",
       "      <td>5.0</td>\n",
       "      <td>3.6</td>\n",
       "      <td>1.4</td>\n",
       "      <td>0.2</td>\n",
       "      <td>0</td>\n",
       "    </tr>\n",
       "  </tbody>\n",
       "</table>\n",
       "</div>"
      ],
      "text/plain": [
       "   sepal_length  sepal_width  petal_length  petal_width  target\n",
       "0           5.1          3.5           1.4          0.2       0\n",
       "1           4.9          3.0           1.4          0.2       0\n",
       "2           4.7          3.2           1.3          0.2       0\n",
       "3           4.6          3.1           1.5          0.2       0\n",
       "4           5.0          3.6           1.4          0.2       0"
      ]
     },
     "execution_count": 3,
     "metadata": {},
     "output_type": "execute_result"
    }
   ],
   "source": [
    "data = pd.read_csv('iris.csv')\n",
    "data.head()"
   ]
  },
  {
   "cell_type": "code",
   "execution_count": 4,
   "metadata": {},
   "outputs": [
    {
     "data": {
      "text/html": [
       "<div>\n",
       "<style scoped>\n",
       "    .dataframe tbody tr th:only-of-type {\n",
       "        vertical-align: middle;\n",
       "    }\n",
       "\n",
       "    .dataframe tbody tr th {\n",
       "        vertical-align: top;\n",
       "    }\n",
       "\n",
       "    .dataframe thead th {\n",
       "        text-align: right;\n",
       "    }\n",
       "</style>\n",
       "<table border=\"1\" class=\"dataframe\">\n",
       "  <thead>\n",
       "    <tr style=\"text-align: right;\">\n",
       "      <th></th>\n",
       "      <th>sepal_length</th>\n",
       "      <th>sepal_width</th>\n",
       "      <th>petal_length</th>\n",
       "      <th>petal_width</th>\n",
       "    </tr>\n",
       "  </thead>\n",
       "  <tbody>\n",
       "    <tr>\n",
       "      <th>0</th>\n",
       "      <td>5.1</td>\n",
       "      <td>3.5</td>\n",
       "      <td>1.4</td>\n",
       "      <td>0.2</td>\n",
       "    </tr>\n",
       "    <tr>\n",
       "      <th>1</th>\n",
       "      <td>4.9</td>\n",
       "      <td>3.0</td>\n",
       "      <td>1.4</td>\n",
       "      <td>0.2</td>\n",
       "    </tr>\n",
       "    <tr>\n",
       "      <th>2</th>\n",
       "      <td>4.7</td>\n",
       "      <td>3.2</td>\n",
       "      <td>1.3</td>\n",
       "      <td>0.2</td>\n",
       "    </tr>\n",
       "    <tr>\n",
       "      <th>3</th>\n",
       "      <td>4.6</td>\n",
       "      <td>3.1</td>\n",
       "      <td>1.5</td>\n",
       "      <td>0.2</td>\n",
       "    </tr>\n",
       "    <tr>\n",
       "      <th>4</th>\n",
       "      <td>5.0</td>\n",
       "      <td>3.6</td>\n",
       "      <td>1.4</td>\n",
       "      <td>0.2</td>\n",
       "    </tr>\n",
       "  </tbody>\n",
       "</table>\n",
       "</div>"
      ],
      "text/plain": [
       "   sepal_length  sepal_width  petal_length  petal_width\n",
       "0           5.1          3.5           1.4          0.2\n",
       "1           4.9          3.0           1.4          0.2\n",
       "2           4.7          3.2           1.3          0.2\n",
       "3           4.6          3.1           1.5          0.2\n",
       "4           5.0          3.6           1.4          0.2"
      ]
     },
     "execution_count": 4,
     "metadata": {},
     "output_type": "execute_result"
    }
   ],
   "source": [
    "X = data.iloc[:,:-1]\n",
    "y = data.target\n",
    "X.head()"
   ]
  },
  {
   "cell_type": "code",
   "execution_count": 10,
   "metadata": {},
   "outputs": [
    {
     "data": {
      "text/plain": [
       "DecisionTreeClassifier(class_weight=None, criterion='gini', max_depth=2,\n",
       "            max_features=None, max_leaf_nodes=None,\n",
       "            min_impurity_decrease=0.0, min_impurity_split=None,\n",
       "            min_samples_leaf=1, min_samples_split=2,\n",
       "            min_weight_fraction_leaf=0.0, presort=False, random_state=15,\n",
       "            splitter='best')"
      ]
     },
     "execution_count": 10,
     "metadata": {},
     "output_type": "execute_result"
    }
   ],
   "source": [
    "#Defining and fitting\n",
    "model = DecisionTreeClassifier(max_depth=2,random_state=15)\n",
    "model.fit(X,y)"
   ]
  },
  {
   "cell_type": "code",
   "execution_count": 11,
   "metadata": {},
   "outputs": [
    {
     "data": {
      "image/png": "[encoded data removed]",
      "text/plain": [
       "<IPython.core.display.Image object>"
      ]
     },
     "execution_count": 11,
     "metadata": {},
     "output_type": "execute_result"
    }
   ],
   "source": [
    "#Visualizing\n",
    "dot_data = StringIO()\n",
    "export_graphviz(model, out_file=dot_data,  \n",
    "                filled=True, \n",
    "                feature_names = X.columns,\n",
    "                \n",
    "                rounded=True,\n",
    "                special_characters=True)\n",
    "graph = pydotplus.graph_from_dot_data(dot_data.getvalue())  \n",
    "Image(graph.create_png())"
   ]
  },
  {
   "cell_type": "code",
   "execution_count": 7,
   "metadata": {},
   "outputs": [
    {
     "data": {
      "text/plain": [
       "(150, 4)"
      ]
     },
     "execution_count": 7,
     "metadata": {},
     "output_type": "execute_result"
    }
   ],
   "source": [
    "X.shape"
   ]
  },
  {
   "cell_type": "code",
   "execution_count": null,
   "metadata": {},
   "outputs": [],
   "source": []
  },
  {
   "cell_type": "code",
   "execution_count": null,
   "metadata": {},
   "outputs": [],
   "source": []
  }
 ],
 "metadata": {
  "kernelspec": {
   "display_name": "Python 3",
   "language": "python",
   "name": "python3"
  },
  "language_info": {
   "codemirror_mode": {
    "name": "ipython",
    "version": 3
   },
   "file_extension": ".py",
   "mimetype": "text/x-python",
   "name": "python",
   "nbconvert_exporter": "python",
   "pygments_lexer": "ipython3",
   "version": "3.7.3"
  }
 },
 "nbformat": 4,
 "nbformat_minor": 2
}
