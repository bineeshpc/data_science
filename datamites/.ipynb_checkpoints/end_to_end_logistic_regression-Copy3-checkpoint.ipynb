{
 "cells": [
  {
   "cell_type": "code",
   "execution_count": 1,
   "metadata": {},
   "outputs": [],
   "source": [
    "import pandas as pd\n",
    "import numpy as np\n",
    "import scipy as sp\n",
    "import scipy.stats as stats\n",
    "\n",
    "from matplotlib import pyplot as plt\n",
    "from sklearn.linear_model import LogisticRegression\n",
    "from sklearn.metrics import accuracy_score\n",
    "from sklearn.model_selection import train_test_split\n",
    "from sklearn.preprocessing import LabelEncoder\n",
    "from sklearn.metrics import classification_report\n"
   ]
  },
  {
   "cell_type": "code",
   "execution_count": 2,
   "metadata": {},
   "outputs": [],
   "source": [
    "data = pd.read_csv('data/adult.csv', header=None, skipinitialspace=True)"
   ]
  },
  {
   "cell_type": "code",
   "execution_count": 3,
   "metadata": {},
   "outputs": [],
   "source": [
    "data.columns = ['age','workclass','fnlwgt','education','educationNum','marital',\n",
    "           'occupation','relationship','race','sex','capGain','capLoss',\n",
    "          'HoursWeek','NativeCountry','category']\n"
   ]
  },
  {
   "cell_type": "code",
   "execution_count": 4,
   "metadata": {},
   "outputs": [
    {
     "data": {
      "text/html": [
       "<div>\n",
       "<style scoped>\n",
       "    .dataframe tbody tr th:only-of-type {\n",
       "        vertical-align: middle;\n",
       "    }\n",
       "\n",
       "    .dataframe tbody tr th {\n",
       "        vertical-align: top;\n",
       "    }\n",
       "\n",
       "    .dataframe thead th {\n",
       "        text-align: right;\n",
       "    }\n",
       "</style>\n",
       "<table border=\"1\" class=\"dataframe\">\n",
       "  <thead>\n",
       "    <tr style=\"text-align: right;\">\n",
       "      <th></th>\n",
       "      <th>age</th>\n",
       "      <th>workclass</th>\n",
       "      <th>fnlwgt</th>\n",
       "      <th>education</th>\n",
       "      <th>educationNum</th>\n",
       "      <th>marital</th>\n",
       "      <th>occupation</th>\n",
       "      <th>relationship</th>\n",
       "      <th>race</th>\n",
       "      <th>sex</th>\n",
       "      <th>capGain</th>\n",
       "      <th>capLoss</th>\n",
       "      <th>HoursWeek</th>\n",
       "      <th>NativeCountry</th>\n",
       "      <th>category</th>\n",
       "    </tr>\n",
       "  </thead>\n",
       "  <tbody>\n",
       "    <tr>\n",
       "      <th>0</th>\n",
       "      <td>39</td>\n",
       "      <td>State-gov</td>\n",
       "      <td>77516</td>\n",
       "      <td>Bachelors</td>\n",
       "      <td>13</td>\n",
       "      <td>Never-married</td>\n",
       "      <td>Adm-clerical</td>\n",
       "      <td>Not-in-family</td>\n",
       "      <td>White</td>\n",
       "      <td>Male</td>\n",
       "      <td>2174</td>\n",
       "      <td>0</td>\n",
       "      <td>40</td>\n",
       "      <td>United-States</td>\n",
       "      <td>&lt;=50K</td>\n",
       "    </tr>\n",
       "    <tr>\n",
       "      <th>1</th>\n",
       "      <td>50</td>\n",
       "      <td>Self-emp-not-inc</td>\n",
       "      <td>83311</td>\n",
       "      <td>Bachelors</td>\n",
       "      <td>13</td>\n",
       "      <td>Married-civ-spouse</td>\n",
       "      <td>Exec-managerial</td>\n",
       "      <td>Husband</td>\n",
       "      <td>White</td>\n",
       "      <td>Male</td>\n",
       "      <td>0</td>\n",
       "      <td>0</td>\n",
       "      <td>13</td>\n",
       "      <td>United-States</td>\n",
       "      <td>&lt;=50K</td>\n",
       "    </tr>\n",
       "    <tr>\n",
       "      <th>2</th>\n",
       "      <td>38</td>\n",
       "      <td>Private</td>\n",
       "      <td>215646</td>\n",
       "      <td>HS-grad</td>\n",
       "      <td>9</td>\n",
       "      <td>Divorced</td>\n",
       "      <td>Handlers-cleaners</td>\n",
       "      <td>Not-in-family</td>\n",
       "      <td>White</td>\n",
       "      <td>Male</td>\n",
       "      <td>0</td>\n",
       "      <td>0</td>\n",
       "      <td>40</td>\n",
       "      <td>United-States</td>\n",
       "      <td>&lt;=50K</td>\n",
       "    </tr>\n",
       "    <tr>\n",
       "      <th>3</th>\n",
       "      <td>53</td>\n",
       "      <td>Private</td>\n",
       "      <td>234721</td>\n",
       "      <td>11th</td>\n",
       "      <td>7</td>\n",
       "      <td>Married-civ-spouse</td>\n",
       "      <td>Handlers-cleaners</td>\n",
       "      <td>Husband</td>\n",
       "      <td>Black</td>\n",
       "      <td>Male</td>\n",
       "      <td>0</td>\n",
       "      <td>0</td>\n",
       "      <td>40</td>\n",
       "      <td>United-States</td>\n",
       "      <td>&lt;=50K</td>\n",
       "    </tr>\n",
       "    <tr>\n",
       "      <th>4</th>\n",
       "      <td>28</td>\n",
       "      <td>Private</td>\n",
       "      <td>338409</td>\n",
       "      <td>Bachelors</td>\n",
       "      <td>13</td>\n",
       "      <td>Married-civ-spouse</td>\n",
       "      <td>Prof-specialty</td>\n",
       "      <td>Wife</td>\n",
       "      <td>Black</td>\n",
       "      <td>Female</td>\n",
       "      <td>0</td>\n",
       "      <td>0</td>\n",
       "      <td>40</td>\n",
       "      <td>Cuba</td>\n",
       "      <td>&lt;=50K</td>\n",
       "    </tr>\n",
       "  </tbody>\n",
       "</table>\n",
       "</div>"
      ],
      "text/plain": [
       "   age         workclass  fnlwgt  education  educationNum             marital  \\\n",
       "0   39         State-gov   77516  Bachelors            13       Never-married   \n",
       "1   50  Self-emp-not-inc   83311  Bachelors            13  Married-civ-spouse   \n",
       "2   38           Private  215646    HS-grad             9            Divorced   \n",
       "3   53           Private  234721       11th             7  Married-civ-spouse   \n",
       "4   28           Private  338409  Bachelors            13  Married-civ-spouse   \n",
       "\n",
       "          occupation   relationship   race     sex  capGain  capLoss  \\\n",
       "0       Adm-clerical  Not-in-family  White    Male     2174        0   \n",
       "1    Exec-managerial        Husband  White    Male        0        0   \n",
       "2  Handlers-cleaners  Not-in-family  White    Male        0        0   \n",
       "3  Handlers-cleaners        Husband  Black    Male        0        0   \n",
       "4     Prof-specialty           Wife  Black  Female        0        0   \n",
       "\n",
       "   HoursWeek  NativeCountry category  \n",
       "0         40  United-States    <=50K  \n",
       "1         13  United-States    <=50K  \n",
       "2         40  United-States    <=50K  \n",
       "3         40  United-States    <=50K  \n",
       "4         40           Cuba    <=50K  "
      ]
     },
     "execution_count": 4,
     "metadata": {},
     "output_type": "execute_result"
    }
   ],
   "source": [
    "data.head()"
   ]
  },
  {
   "cell_type": "code",
   "execution_count": 5,
   "metadata": {
    "scrolled": true
   },
   "outputs": [],
   "source": [
    "data.loc[data.category == '<=50K', 'category'] = 0\n",
    "data.loc[data.category == '>50K', 'category'] = 1"
   ]
  },
  {
   "cell_type": "code",
   "execution_count": 6,
   "metadata": {},
   "outputs": [
    {
     "data": {
      "text/plain": [
       "0    0\n",
       "1    0\n",
       "2    0\n",
       "3    0\n",
       "4    0\n",
       "Name: category, dtype: int64"
      ]
     },
     "execution_count": 6,
     "metadata": {},
     "output_type": "execute_result"
    }
   ],
   "source": [
    "data.category.head()"
   ]
  },
  {
   "cell_type": "code",
   "execution_count": 7,
   "metadata": {},
   "outputs": [
    {
     "data": {
      "text/plain": [
       "32556    0\n",
       "32557    1\n",
       "32558    0\n",
       "32559    0\n",
       "32560    1\n",
       "Name: category, dtype: int64"
      ]
     },
     "execution_count": 7,
     "metadata": {},
     "output_type": "execute_result"
    }
   ],
   "source": [
    "data.category.tail()"
   ]
  },
  {
   "cell_type": "code",
   "execution_count": 8,
   "metadata": {},
   "outputs": [],
   "source": [
    "# 7406609000 whatsapp of Ashok"
   ]
  },
  {
   "cell_type": "code",
   "execution_count": 9,
   "metadata": {},
   "outputs": [
    {
     "data": {
      "text/plain": [
       "0        0\n",
       "1        0\n",
       "2        0\n",
       "3        0\n",
       "4        0\n",
       "5        0\n",
       "6        0\n",
       "7        1\n",
       "8        1\n",
       "9        1\n",
       "10       1\n",
       "11       1\n",
       "12       0\n",
       "13       0\n",
       "14       1\n",
       "15       0\n",
       "16       0\n",
       "17       0\n",
       "18       0\n",
       "19       1\n",
       "20       1\n",
       "21       0\n",
       "22       0\n",
       "23       0\n",
       "24       0\n",
       "25       1\n",
       "26       0\n",
       "27       1\n",
       "28       0\n",
       "29       0\n",
       "        ..\n",
       "32531    0\n",
       "32532    1\n",
       "32533    1\n",
       "32534    0\n",
       "32535    0\n",
       "32536    1\n",
       "32537    0\n",
       "32538    1\n",
       "32539    1\n",
       "32540    0\n",
       "32541    0\n",
       "32542    0\n",
       "32543    0\n",
       "32544    0\n",
       "32545    1\n",
       "32546    0\n",
       "32547    0\n",
       "32548    0\n",
       "32549    0\n",
       "32550    0\n",
       "32551    0\n",
       "32552    0\n",
       "32553    0\n",
       "32554    1\n",
       "32555    0\n",
       "32556    0\n",
       "32557    1\n",
       "32558    0\n",
       "32559    0\n",
       "32560    1\n",
       "Name: category, Length: 32561, dtype: int64"
      ]
     },
     "execution_count": 9,
     "metadata": {},
     "output_type": "execute_result"
    }
   ],
   "source": [
    "data.category"
   ]
  },
  {
   "cell_type": "code",
   "execution_count": 10,
   "metadata": {},
   "outputs": [
    {
     "data": {
      "text/plain": [
       "Index(['age', 'workclass', 'fnlwgt', 'education', 'educationNum', 'marital',\n",
       "       'occupation', 'relationship', 'race', 'sex', 'capGain', 'capLoss',\n",
       "       'HoursWeek', 'NativeCountry', 'category'],\n",
       "      dtype='object')"
      ]
     },
     "execution_count": 10,
     "metadata": {},
     "output_type": "execute_result"
    }
   ],
   "source": [
    "data.columns"
   ]
  },
  {
   "cell_type": "code",
   "execution_count": 11,
   "metadata": {},
   "outputs": [
    {
     "name": "stdout",
     "output_type": "stream",
     "text": [
      "<class 'pandas.core.frame.DataFrame'>\n",
      "RangeIndex: 32561 entries, 0 to 32560\n",
      "Data columns (total 15 columns):\n",
      "age              32561 non-null int64\n",
      "workclass        32561 non-null object\n",
      "fnlwgt           32561 non-null int64\n",
      "education        32561 non-null object\n",
      "educationNum     32561 non-null int64\n",
      "marital          32561 non-null object\n",
      "occupation       32561 non-null object\n",
      "relationship     32561 non-null object\n",
      "race             32561 non-null object\n",
      "sex              32561 non-null object\n",
      "capGain          32561 non-null int64\n",
      "capLoss          32561 non-null int64\n",
      "HoursWeek        32561 non-null int64\n",
      "NativeCountry    32561 non-null object\n",
      "category         32561 non-null int64\n",
      "dtypes: int64(7), object(8)\n",
      "memory usage: 3.7+ MB\n"
     ]
    }
   ],
   "source": [
    "data.info()"
   ]
  },
  {
   "cell_type": "code",
   "execution_count": 12,
   "metadata": {},
   "outputs": [],
   "source": [
    "data.replace(['$', '?', '*', '-'], np.nan, inplace=True)"
   ]
  },
  {
   "cell_type": "code",
   "execution_count": 13,
   "metadata": {},
   "outputs": [],
   "source": [
    "object_types = data.dtypes[data.dtypes == 'object']"
   ]
  },
  {
   "cell_type": "code",
   "execution_count": 14,
   "metadata": {},
   "outputs": [
    {
     "name": "stdout",
     "output_type": "stream",
     "text": [
      "workclass\n",
      "{nan, 'Without-pay', 'Local-gov', 'Private', 'State-gov', 'Self-emp-not-inc', 'Never-worked', 'Self-emp-inc', 'Federal-gov'}\n",
      "education\n",
      "{'1st-4th', 'Bachelors', 'Doctorate', 'Preschool', '5th-6th', 'Masters', 'Assoc-acdm', '11th', 'HS-grad', '12th', '9th', 'Some-college', 'Assoc-voc', '7th-8th', 'Prof-school', '10th'}\n",
      "marital\n",
      "{'Married-spouse-absent', 'Never-married', 'Divorced', 'Married-civ-spouse', 'Married-AF-spouse', 'Widowed', 'Separated'}\n",
      "occupation\n",
      "{'Craft-repair', nan, 'Priv-house-serv', 'Adm-clerical', 'Exec-managerial', 'Protective-serv', 'Transport-moving', 'Armed-Forces', 'Other-service', 'Farming-fishing', 'Machine-op-inspct', 'Tech-support', 'Handlers-cleaners', 'Sales', 'Prof-specialty'}\n",
      "relationship\n",
      "{'Unmarried', 'Not-in-family', 'Husband', 'Own-child', 'Wife', 'Other-relative'}\n",
      "race\n",
      "{'Asian-Pac-Islander', 'Other', 'Amer-Indian-Eskimo', 'White', 'Black'}\n",
      "sex\n",
      "{'Female', 'Male'}\n",
      "NativeCountry\n",
      "{nan, 'Cuba', 'El-Salvador', 'France', 'Japan', 'Hungary', 'Jamaica', 'England', 'Philippines', 'Ecuador', 'Cambodia', 'Guatemala', 'Trinadad&Tobago', 'Iran', 'Holand-Netherlands', 'Germany', 'Dominican-Republic', 'Greece', 'Thailand', 'Taiwan', 'Portugal', 'China', 'Outlying-US(Guam-USVI-etc)', 'Nicaragua', 'India', 'Laos', 'Puerto-Rico', 'Italy', 'Poland', 'Canada', 'Hong', 'United-States', 'Scotland', 'Haiti', 'Columbia', 'Honduras', 'Mexico', 'Yugoslavia', 'Peru', 'Ireland', 'South', 'Vietnam'}\n"
     ]
    }
   ],
   "source": [
    "\n",
    "for i in object_types.index:\n",
    "    print(i)\n",
    "    print(set(data[i]))\n",
    "    # data[i] = labelencoder.fit_transform(data[i])"
   ]
  },
  {
   "cell_type": "code",
   "execution_count": 15,
   "metadata": {},
   "outputs": [
    {
     "data": {
      "text/plain": [
       "age                 0\n",
       "workclass        1836\n",
       "fnlwgt              0\n",
       "education           0\n",
       "educationNum        0\n",
       "marital             0\n",
       "occupation       1843\n",
       "relationship        0\n",
       "race                0\n",
       "sex                 0\n",
       "capGain             0\n",
       "capLoss             0\n",
       "HoursWeek           0\n",
       "NativeCountry     583\n",
       "category            0\n",
       "dtype: int64"
      ]
     },
     "execution_count": 15,
     "metadata": {},
     "output_type": "execute_result"
    }
   ],
   "source": [
    "all_nulls = data.isnull().sum()\n",
    "all_nulls"
   ]
  },
  {
   "cell_type": "code",
   "execution_count": 16,
   "metadata": {},
   "outputs": [
    {
     "data": {
      "text/plain": [
       "age              32561\n",
       "workclass        30725\n",
       "fnlwgt           32561\n",
       "education        32561\n",
       "educationNum     32561\n",
       "marital          32561\n",
       "occupation       30718\n",
       "relationship     32561\n",
       "race             32561\n",
       "sex              32561\n",
       "capGain          32561\n",
       "capLoss          32561\n",
       "HoursWeek        32561\n",
       "NativeCountry    31978\n",
       "category         32561\n",
       "dtype: int64"
      ]
     },
     "execution_count": 16,
     "metadata": {},
     "output_type": "execute_result"
    }
   ],
   "source": [
    "all_not_nulls = data.notnull().sum()\n",
    "all_not_nulls"
   ]
  },
  {
   "cell_type": "code",
   "execution_count": 17,
   "metadata": {},
   "outputs": [
    {
     "data": {
      "text/plain": [
       "age              0.000000\n",
       "workclass        5.975590\n",
       "fnlwgt           0.000000\n",
       "education        0.000000\n",
       "educationNum     0.000000\n",
       "marital          0.000000\n",
       "occupation       5.999740\n",
       "relationship     0.000000\n",
       "race             0.000000\n",
       "sex              0.000000\n",
       "capGain          0.000000\n",
       "capLoss          0.000000\n",
       "HoursWeek        0.000000\n",
       "NativeCountry    1.823128\n",
       "category         0.000000\n",
       "dtype: float64"
      ]
     },
     "execution_count": 17,
     "metadata": {},
     "output_type": "execute_result"
    }
   ],
   "source": [
    "def get_null_percentage(data):\n",
    "    all_nulls = data.isnull().sum()\n",
    "    all_not_nulls = data.notnull().sum()\n",
    "    return all_nulls / all_not_nulls * 100\n",
    "\n",
    "all_nulls / all_not_nulls * 100"
   ]
  },
  {
   "cell_type": "code",
   "execution_count": 18,
   "metadata": {},
   "outputs": [
    {
     "data": {
      "text/plain": [
       "Counter({'State-gov': 1298,\n",
       "         'Self-emp-not-inc': 2541,\n",
       "         'Private': 22696,\n",
       "         'Federal-gov': 960,\n",
       "         'Local-gov': 2093,\n",
       "         nan: 1836,\n",
       "         'Self-emp-inc': 1116,\n",
       "         'Without-pay': 14,\n",
       "         'Never-worked': 7})"
      ]
     },
     "execution_count": 18,
     "metadata": {},
     "output_type": "execute_result"
    }
   ],
   "source": [
    "from collections import Counter\n",
    "\n",
    "Counter(data['workclass'])"
   ]
  },
  {
   "cell_type": "code",
   "execution_count": 19,
   "metadata": {},
   "outputs": [],
   "source": [
    "# replace the workclass with maximum occuring value\n",
    "\n",
    "data['workclass'].replace(np.nan, 'Private', inplace=True)"
   ]
  },
  {
   "cell_type": "code",
   "execution_count": 20,
   "metadata": {},
   "outputs": [
    {
     "data": {
      "text/plain": [
       "[('Prof-specialty', 4140),\n",
       " ('Craft-repair', 4099),\n",
       " ('Exec-managerial', 4066),\n",
       " ('Adm-clerical', 3770),\n",
       " ('Sales', 3650),\n",
       " ('Other-service', 3295),\n",
       " ('Machine-op-inspct', 2002),\n",
       " (nan, 1843),\n",
       " ('Transport-moving', 1597),\n",
       " ('Handlers-cleaners', 1370),\n",
       " ('Farming-fishing', 994),\n",
       " ('Tech-support', 928),\n",
       " ('Protective-serv', 649),\n",
       " ('Priv-house-serv', 149),\n",
       " ('Armed-Forces', 9)]"
      ]
     },
     "execution_count": 20,
     "metadata": {},
     "output_type": "execute_result"
    }
   ],
   "source": [
    "Counter(data['occupation']).most_common()"
   ]
  },
  {
   "cell_type": "code",
   "execution_count": 21,
   "metadata": {},
   "outputs": [],
   "source": [
    "data['occupation'].replace(np.nan, 'Prof-speciality', inplace=True)"
   ]
  },
  {
   "cell_type": "code",
   "execution_count": 22,
   "metadata": {},
   "outputs": [],
   "source": [
    "data.dropna(inplace=True)"
   ]
  },
  {
   "cell_type": "code",
   "execution_count": 23,
   "metadata": {
    "scrolled": true
   },
   "outputs": [
    {
     "data": {
      "text/plain": [
       "age              0.0\n",
       "workclass        0.0\n",
       "fnlwgt           0.0\n",
       "education        0.0\n",
       "educationNum     0.0\n",
       "marital          0.0\n",
       "occupation       0.0\n",
       "relationship     0.0\n",
       "race             0.0\n",
       "sex              0.0\n",
       "capGain          0.0\n",
       "capLoss          0.0\n",
       "HoursWeek        0.0\n",
       "NativeCountry    0.0\n",
       "category         0.0\n",
       "dtype: float64"
      ]
     },
     "execution_count": 23,
     "metadata": {},
     "output_type": "execute_result"
    }
   ],
   "source": [
    "get_null_percentage(data)"
   ]
  },
  {
   "cell_type": "code",
   "execution_count": 24,
   "metadata": {},
   "outputs": [
    {
     "data": {
      "text/plain": [
       "Index(['workclass', 'education', 'marital', 'occupation', 'relationship',\n",
       "       'race', 'sex', 'NativeCountry'],\n",
       "      dtype='object')"
      ]
     },
     "execution_count": 24,
     "metadata": {},
     "output_type": "execute_result"
    }
   ],
   "source": [
    "object_types.index"
   ]
  },
  {
   "cell_type": "code",
   "execution_count": 25,
   "metadata": {
    "scrolled": true
   },
   "outputs": [
    {
     "name": "stdout",
     "output_type": "stream",
     "text": [
      "workclass\n",
      "{'Without-pay', 'Local-gov', 'Private', 'State-gov', 'Self-emp-not-inc', 'Never-worked', 'Self-emp-inc', 'Federal-gov'}\n",
      "education\n",
      "{'1st-4th', 'Bachelors', 'Doctorate', 'Preschool', '5th-6th', 'Masters', 'Assoc-acdm', '11th', 'HS-grad', '10th', '9th', 'Some-college', '7th-8th', 'Prof-school', '12th', 'Assoc-voc'}\n",
      "marital\n",
      "{'Married-spouse-absent', 'Never-married', 'Divorced', 'Married-civ-spouse', 'Married-AF-spouse', 'Widowed', 'Separated'}\n",
      "occupation\n",
      "{'Craft-repair', 'Priv-house-serv', 'Adm-clerical', 'Exec-managerial', 'Protective-serv', 'Transport-moving', 'Armed-Forces', 'Other-service', 'Prof-speciality', 'Farming-fishing', 'Machine-op-inspct', 'Tech-support', 'Handlers-cleaners', 'Sales', 'Prof-specialty'}\n",
      "relationship\n",
      "{'Unmarried', 'Not-in-family', 'Husband', 'Own-child', 'Wife', 'Other-relative'}\n",
      "race\n",
      "{'Asian-Pac-Islander', 'Other', 'Amer-Indian-Eskimo', 'White', 'Black'}\n",
      "sex\n",
      "{'Female', 'Male'}\n",
      "NativeCountry\n",
      "{'Cuba', 'El-Salvador', 'France', 'Japan', 'Hungary', 'Jamaica', 'England', 'Philippines', 'Ecuador', 'Cambodia', 'Guatemala', 'Trinadad&Tobago', 'Iran', 'Holand-Netherlands', 'Germany', 'Dominican-Republic', 'Greece', 'Thailand', 'Taiwan', 'Portugal', 'China', 'Outlying-US(Guam-USVI-etc)', 'Nicaragua', 'India', 'Laos', 'Puerto-Rico', 'Italy', 'Poland', 'Canada', 'Hong', 'United-States', 'Scotland', 'Haiti', 'Columbia', 'Honduras', 'Mexico', 'Yugoslavia', 'Peru', 'Ireland', 'South', 'Vietnam'}\n"
     ]
    }
   ],
   "source": [
    "# data1 = pd.get_dummies(data, columns=object_types.index)\n",
    "# data1.head()\n",
    "\n",
    "\n",
    "labelencoder = LabelEncoder()\n",
    "for i in object_types.index:\n",
    "    print(i)\n",
    "    print(set(data[i]))\n",
    "    data[i] = labelencoder.fit_transform(data[i])\n",
    "    \n",
    "    \n"
   ]
  },
  {
   "cell_type": "code",
   "execution_count": 26,
   "metadata": {},
   "outputs": [],
   "source": [
    "X = data.iloc[:, :-1]\n",
    "y = data.category"
   ]
  },
  {
   "cell_type": "code",
   "execution_count": 27,
   "metadata": {},
   "outputs": [
    {
     "name": "stderr",
     "output_type": "stream",
     "text": [
      "C:\\Users\\Bineesh\\Anaconda3\\lib\\site-packages\\ipykernel_launcher.py:2: DataConversionWarning: Data with input dtype int32, int64 were all converted to float64 by the scale function.\n",
      "  \n"
     ]
    }
   ],
   "source": [
    "from sklearn.preprocessing import scale\n",
    "X = pd.DataFrame(scale(X), columns=X.columns)\n",
    "\n"
   ]
  },
  {
   "cell_type": "code",
   "execution_count": 28,
   "metadata": {},
   "outputs": [
    {
     "data": {
      "text/plain": [
       "Index(['age', 'workclass', 'fnlwgt', 'education', 'educationNum', 'marital',\n",
       "       'occupation', 'relationship', 'race', 'sex', 'capGain', 'capLoss',\n",
       "       'HoursWeek', 'NativeCountry'],\n",
       "      dtype='object')"
      ]
     },
     "execution_count": 28,
     "metadata": {},
     "output_type": "execute_result"
    }
   ],
   "source": [
    "X.columns\n"
   ]
  },
  {
   "cell_type": "code",
   "execution_count": 29,
   "metadata": {},
   "outputs": [
    {
     "name": "stdout",
     "output_type": "stream",
     "text": [
      "RandomForestClassifier(bootstrap=True, class_weight=None, criterion='entropy',\n",
      "            max_depth=14, max_features='auto', max_leaf_nodes=None,\n",
      "            min_impurity_decrease=0.0, min_impurity_split=None,\n",
      "            min_samples_leaf=1, min_samples_split=2,\n",
      "            min_weight_fraction_leaf=0.0, n_estimators=20, n_jobs=None,\n",
      "            oob_score=False, random_state=7, verbose=0, warm_start=False)\n",
      "0.8605378361475923\n",
      "col_0        0    1\n",
      "category           \n",
      "0         4578  278\n",
      "1          614  926\n",
      "              precision    recall  f1-score   support\n",
      "\n",
      "           0       0.88      0.94      0.91      4856\n",
      "           1       0.77      0.60      0.67      1540\n",
      "\n",
      "   micro avg       0.86      0.86      0.86      6396\n",
      "   macro avg       0.83      0.77      0.79      6396\n",
      "weighted avg       0.85      0.86      0.85      6396\n",
      "\n",
      "MLPClassifier(activation='relu', alpha=0.1, batch_size='auto', beta_1=0.9,\n",
      "       beta_2=0.999, early_stopping=False, epsilon=1e-08,\n",
      "       hidden_layer_sizes=59, learning_rate='constant',\n",
      "       learning_rate_init=0.001, max_iter=200, momentum=0.9,\n",
      "       n_iter_no_change=10, nesterovs_momentum=True, power_t=0.5,\n",
      "       random_state=30, shuffle=True, solver='adam', tol=0.0001,\n",
      "       validation_fraction=0.1, verbose=False, warm_start=False)\n",
      "0.848968105065666\n",
      "col_0        0    1\n",
      "category           \n",
      "0         4478  378\n",
      "1          588  952\n",
      "              precision    recall  f1-score   support\n",
      "\n",
      "           0       0.88      0.92      0.90      4856\n",
      "           1       0.72      0.62      0.66      1540\n",
      "\n",
      "   micro avg       0.85      0.85      0.85      6396\n",
      "   macro avg       0.80      0.77      0.78      6396\n",
      "weighted avg       0.84      0.85      0.85      6396\n",
      "\n",
      "SVC(C=20, cache_size=200, class_weight=None, coef0=0.0,\n",
      "  decision_function_shape='ovr', degree=3, gamma=5, kernel='linear',\n",
      "  max_iter=-1, probability=False, random_state=None, shrinking=True,\n",
      "  tol=0.001, verbose=False)\n",
      "0.8126954346466542\n",
      "col_0        0    1\n",
      "category           \n",
      "0         4716  140\n",
      "1         1058  482\n",
      "              precision    recall  f1-score   support\n",
      "\n",
      "           0       0.82      0.97      0.89      4856\n",
      "           1       0.77      0.31      0.45      1540\n",
      "\n",
      "   micro avg       0.81      0.81      0.81      6396\n",
      "   macro avg       0.80      0.64      0.67      6396\n",
      "weighted avg       0.81      0.81      0.78      6396\n",
      "\n"
     ]
    }
   ],
   "source": [
    "X_train, X_test, y_train, y_test = train_test_split(X, y, test_size=0.2, random_state=42)\n",
    "\n",
    "from sklearn.ensemble import RandomForestClassifier\n",
    "from sklearn.svm import SVC\n",
    "from sklearn.model_selection import GridSearchCV\n",
    "from sklearn.neural_network import MLPClassifier\n",
    "\n",
    "n_folds = 5\n",
    "# models = [ LogisticRegression(), RandomForestClassifier(), SVC() ]\n",
    "          \n",
    "import warnings\n",
    "warnings.filterwarnings('ignore')\n",
    "\n",
    "def test_model(model, X, y, tuned_parameters):\n",
    "    X_train, X_test, y_train, y_test = train_test_split(X, y, test_size=0.2, random_state=42)\n",
    "    clf = GridSearchCV(model, tuned_parameters, cv=n_folds)\n",
    "    clf.fit(X_train, y_train)\n",
    "\n",
    "    best_model = clf.best_estimator_\n",
    "    \n",
    "    y_predict = best_model.predict(X_test)\n",
    "    \n",
    "    score = accuracy_score(y_test, y_predict)\n",
    "    cross_tab = pd.crosstab(y_test, y_predict)\n",
    "    report = classification_report(y_test, y_predict)\n",
    "    \n",
    "    print(best_model)\n",
    "    print(score)\n",
    "    print(cross_tab)\n",
    "    print(report)\n",
    "\n",
    "\n",
    "models = [\n",
    "    (RandomForestClassifier(), [{'n_estimators': [10, 15, 20],\n",
    "                     'criterion': ['gini', 'entropy']\n",
    "                    , 'max_depth': range(2, 15, 2)\n",
    "                     , 'random_state': [7, 42]\n",
    "                                 #,'max_features': [10]\n",
    "                    }]),\n",
    "    (MLPClassifier(), [{\n",
    "        'max_iter': [100, 200],\n",
    "        'hidden_layer_sizes': [(59, 50), (59), (100, 100)],\n",
    "                      'learning_rate_init': [0.1, 0.001],\n",
    "                      'random_state': [30],\n",
    "              'alpha': [0.001, 0.1, 1]\n",
    "            \n",
    "    }]),\n",
    "    (SVC(), [{\n",
    "        'kernel': ['rbf', 'linear'],\n",
    "        'C': [20, 150, 200],\n",
    "        'gamma': [5, 10]\n",
    "    }])\n",
    "    \n",
    "]\n",
    "for model, tuned_parameters in models:\n",
    "    test_model(model, X, y, tuned_parameters)\n",
    "\n"
   ]
  },
  {
   "cell_type": "code",
   "execution_count": null,
   "metadata": {},
   "outputs": [],
   "source": []
  }
 ],
 "metadata": {
  "kernelspec": {
   "display_name": "Python 3",
   "language": "python",
   "name": "python3"
  },
  "language_info": {
   "codemirror_mode": {
    "name": "ipython",
    "version": 3
   },
   "file_extension": ".py",
   "mimetype": "text/x-python",
   "name": "python",
   "nbconvert_exporter": "python",
   "pygments_lexer": "ipython3",
   "version": "3.7.3"
  }
 },
 "nbformat": 4,
 "nbformat_minor": 2
}
