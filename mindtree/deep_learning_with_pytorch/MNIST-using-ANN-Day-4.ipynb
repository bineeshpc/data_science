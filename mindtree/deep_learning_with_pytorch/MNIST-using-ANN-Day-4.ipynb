{
 "cells": [
  {
   "cell_type": "code",
   "execution_count": 15,
   "metadata": {},
   "outputs": [],
   "source": [
    "import torch"
   ]
  },
  {
   "cell_type": "code",
   "execution_count": 16,
   "metadata": {},
   "outputs": [],
   "source": [
    "import torch.nn as nn\n",
    "import torch.nn.functional as F\n",
    "from torch.utils.data import DataLoader\n",
    "from torchvision import datasets, transforms"
   ]
  },
  {
   "cell_type": "code",
   "execution_count": 17,
   "metadata": {},
   "outputs": [],
   "source": [
    "transform = transforms.ToTensor()"
   ]
  },
  {
   "cell_type": "code",
   "execution_count": 18,
   "metadata": {},
   "outputs": [],
   "source": [
    "import os"
   ]
  },
  {
   "cell_type": "code",
   "execution_count": 19,
   "metadata": {},
   "outputs": [
    {
     "data": {
      "text/plain": [
       "'C:\\\\Users\\\\M1057101\\\\workspace\\\\deep_learning_with_pytorch'"
      ]
     },
     "execution_count": 19,
     "metadata": {},
     "output_type": "execute_result"
    }
   ],
   "source": [
    "os.getcwd()"
   ]
  },
  {
   "cell_type": "code",
   "execution_count": 20,
   "metadata": {},
   "outputs": [],
   "source": [
    "train_data = datasets.MNIST(root = os.getcwd(), train = True,\n",
    "                            download=True, transform= transform )"
   ]
  },
  {
   "cell_type": "code",
   "execution_count": 21,
   "metadata": {},
   "outputs": [],
   "source": [
    "test_data = datasets.MNIST(root = os.getcwd(), train = False,\n",
    "                           download=True, transform= transform )"
   ]
  },
  {
   "cell_type": "code",
   "execution_count": 22,
   "metadata": {},
   "outputs": [
    {
     "data": {
      "text/plain": [
       "torchvision.datasets.mnist.MNIST"
      ]
     },
     "execution_count": 22,
     "metadata": {},
     "output_type": "execute_result"
    }
   ],
   "source": [
    "type(train_data)"
   ]
  },
  {
   "cell_type": "code",
   "execution_count": 23,
   "metadata": {},
   "outputs": [
    {
     "data": {
      "text/plain": [
       "Dataset MNIST\n",
       "    Number of datapoints: 60000\n",
       "    Root location: C:\\Users\\M1057101\\workspace\\deep_learning_with_pytorch\n",
       "    Split: Train\n",
       "    StandardTransform\n",
       "Transform: ToTensor()"
      ]
     },
     "execution_count": 23,
     "metadata": {},
     "output_type": "execute_result"
    }
   ],
   "source": [
    "train_data"
   ]
  },
  {
   "cell_type": "code",
   "execution_count": 24,
   "metadata": {},
   "outputs": [
    {
     "data": {
      "text/plain": [
       "Dataset MNIST\n",
       "    Number of datapoints: 10000\n",
       "    Root location: C:\\Users\\M1057101\\workspace\\deep_learning_with_pytorch\n",
       "    Split: Test\n",
       "    StandardTransform\n",
       "Transform: ToTensor()"
      ]
     },
     "execution_count": 24,
     "metadata": {},
     "output_type": "execute_result"
    }
   ],
   "source": [
    "test_data"
   ]
  },
  {
   "cell_type": "code",
   "execution_count": 25,
   "metadata": {},
   "outputs": [],
   "source": [
    "image,label = train_data[3]"
   ]
  },
  {
   "cell_type": "code",
   "execution_count": 26,
   "metadata": {},
   "outputs": [],
   "source": [
    "import matplotlib.pyplot as plt"
   ]
  },
  {
   "cell_type": "code",
   "execution_count": 27,
   "metadata": {},
   "outputs": [
    {
     "data": {
      "text/plain": [
       "tensor([[[0.0000, 0.0000, 0.0000, 0.0000, 0.0000, 0.0000, 0.0000, 0.0000,\n",
       "          0.0000, 0.0000, 0.0000, 0.0000, 0.0000, 0.0000, 0.0000, 0.0000,\n",
       "          0.0000, 0.0000, 0.0000, 0.0000, 0.0000, 0.0000, 0.0000, 0.0000,\n",
       "          0.0000, 0.0000, 0.0000, 0.0000],\n",
       "         [0.0000, 0.0000, 0.0000, 0.0000, 0.0000, 0.0000, 0.0000, 0.0000,\n",
       "          0.0000, 0.0000, 0.0000, 0.0000, 0.0000, 0.0000, 0.0000, 0.0000,\n",
       "          0.0000, 0.0000, 0.0000, 0.0000, 0.0000, 0.0000, 0.0000, 0.0000,\n",
       "          0.0000, 0.0000, 0.0000, 0.0000],\n",
       "         [0.0000, 0.0000, 0.0000, 0.0000, 0.0000, 0.0000, 0.0000, 0.0000,\n",
       "          0.0000, 0.0000, 0.0000, 0.0000, 0.0000, 0.0000, 0.0000, 0.0000,\n",
       "          0.0000, 0.0000, 0.0000, 0.0000, 0.0000, 0.0000, 0.0000, 0.0000,\n",
       "          0.0000, 0.0000, 0.0000, 0.0000],\n",
       "         [0.0000, 0.0000, 0.0000, 0.0000, 0.0000, 0.0000, 0.0000, 0.0000,\n",
       "          0.0000, 0.0000, 0.0000, 0.0000, 0.0000, 0.0000, 0.0000, 0.0000,\n",
       "          0.0000, 0.0000, 0.0000, 0.0000, 0.0000, 0.0000, 0.0000, 0.0000,\n",
       "          0.0000, 0.0000, 0.0000, 0.0000],\n",
       "         [0.0000, 0.0000, 0.0000, 0.0000, 0.0000, 0.0000, 0.0000, 0.0000,\n",
       "          0.0000, 0.0000, 0.0000, 0.0000, 0.0000, 0.0000, 0.0000, 0.0000,\n",
       "          0.0000, 0.0000, 0.0000, 0.0000, 0.0000, 0.0000, 0.0000, 0.0000,\n",
       "          0.0000, 0.0000, 0.0000, 0.0000],\n",
       "         [0.0000, 0.0000, 0.0000, 0.0000, 0.0000, 0.0000, 0.0000, 0.0000,\n",
       "          0.0000, 0.0000, 0.0000, 0.0000, 0.0000, 0.0000, 0.0000, 0.0000,\n",
       "          0.0000, 0.0000, 0.4863, 0.9922, 1.0000, 0.2471, 0.0000, 0.0000,\n",
       "          0.0000, 0.0000, 0.0000, 0.0000],\n",
       "         [0.0000, 0.0000, 0.0000, 0.0000, 0.0000, 0.0000, 0.0000, 0.0000,\n",
       "          0.0000, 0.0000, 0.0000, 0.0000, 0.0000, 0.0000, 0.0000, 0.0000,\n",
       "          0.0000, 0.3765, 0.9569, 0.9843, 0.9922, 0.2431, 0.0000, 0.0000,\n",
       "          0.0000, 0.0000, 0.0000, 0.0000],\n",
       "         [0.0000, 0.0000, 0.0000, 0.0000, 0.0000, 0.0000, 0.0000, 0.0000,\n",
       "          0.0000, 0.0000, 0.0000, 0.0000, 0.0000, 0.0000, 0.0000, 0.0000,\n",
       "          0.0000, 0.4980, 0.9843, 0.9843, 0.9922, 0.2431, 0.0000, 0.0000,\n",
       "          0.0000, 0.0000, 0.0000, 0.0000],\n",
       "         [0.0000, 0.0000, 0.0000, 0.0000, 0.0000, 0.0000, 0.0000, 0.0000,\n",
       "          0.0000, 0.0000, 0.0000, 0.0000, 0.0000, 0.0000, 0.0000, 0.0000,\n",
       "          0.2667, 0.9255, 0.9843, 0.8275, 0.1216, 0.0314, 0.0000, 0.0000,\n",
       "          0.0000, 0.0000, 0.0000, 0.0000],\n",
       "         [0.0000, 0.0000, 0.0000, 0.0000, 0.0000, 0.0000, 0.0000, 0.0000,\n",
       "          0.0000, 0.0000, 0.0000, 0.0000, 0.0000, 0.0000, 0.0000, 0.2353,\n",
       "          0.8941, 0.9843, 0.9843, 0.3686, 0.0000, 0.0000, 0.0000, 0.0000,\n",
       "          0.0000, 0.0000, 0.0000, 0.0000],\n",
       "         [0.0000, 0.0000, 0.0000, 0.0000, 0.0000, 0.0000, 0.0000, 0.0000,\n",
       "          0.0000, 0.0000, 0.0000, 0.0000, 0.0000, 0.0000, 0.0000, 0.6078,\n",
       "          0.9922, 0.9922, 0.7412, 0.0000, 0.0000, 0.0000, 0.0000, 0.0000,\n",
       "          0.0000, 0.0000, 0.0000, 0.0000],\n",
       "         [0.0000, 0.0000, 0.0000, 0.0000, 0.0000, 0.0000, 0.0000, 0.0000,\n",
       "          0.0000, 0.0000, 0.0000, 0.0000, 0.0000, 0.0000, 0.0784, 0.9922,\n",
       "          0.9843, 0.9216, 0.2588, 0.0000, 0.0000, 0.0000, 0.0000, 0.0000,\n",
       "          0.0000, 0.0000, 0.0000, 0.0000],\n",
       "         [0.0000, 0.0000, 0.0000, 0.0000, 0.0000, 0.0000, 0.0000, 0.0000,\n",
       "          0.0000, 0.0000, 0.0000, 0.0000, 0.0000, 0.1255, 0.8039, 0.9922,\n",
       "          0.9843, 0.4941, 0.0000, 0.0000, 0.0000, 0.0000, 0.0000, 0.0000,\n",
       "          0.0000, 0.0000, 0.0000, 0.0000],\n",
       "         [0.0000, 0.0000, 0.0000, 0.0000, 0.0000, 0.0000, 0.0000, 0.0000,\n",
       "          0.0000, 0.0000, 0.0000, 0.0000, 0.0000, 0.4078, 0.9843, 0.9922,\n",
       "          0.7216, 0.0588, 0.0000, 0.0000, 0.0000, 0.0000, 0.0000, 0.0000,\n",
       "          0.0000, 0.0000, 0.0000, 0.0000],\n",
       "         [0.0000, 0.0000, 0.0000, 0.0000, 0.0000, 0.0000, 0.0000, 0.0000,\n",
       "          0.0000, 0.0000, 0.0000, 0.0000, 0.3137, 0.9412, 0.9843, 0.7569,\n",
       "          0.0902, 0.0000, 0.0000, 0.0000, 0.0000, 0.0000, 0.0000, 0.0000,\n",
       "          0.0000, 0.0000, 0.0000, 0.0000],\n",
       "         [0.0000, 0.0000, 0.0000, 0.0000, 0.0000, 0.0000, 0.0000, 0.0000,\n",
       "          0.0000, 0.0000, 0.0000, 0.1255, 0.9922, 0.9922, 0.9922, 0.6235,\n",
       "          0.0000, 0.0000, 0.0000, 0.0000, 0.0000, 0.0000, 0.0000, 0.0000,\n",
       "          0.0000, 0.0000, 0.0000, 0.0000],\n",
       "         [0.0000, 0.0000, 0.0000, 0.0000, 0.0000, 0.0000, 0.0000, 0.0000,\n",
       "          0.0000, 0.0000, 0.0000, 0.5922, 0.9843, 0.9843, 0.9843, 0.1529,\n",
       "          0.0000, 0.0000, 0.0000, 0.0000, 0.0000, 0.0000, 0.0000, 0.0000,\n",
       "          0.0000, 0.0000, 0.0000, 0.0000],\n",
       "         [0.0000, 0.0000, 0.0000, 0.0000, 0.0000, 0.0000, 0.0000, 0.0000,\n",
       "          0.0000, 0.0000, 0.1882, 0.8667, 0.9843, 0.9843, 0.6745, 0.0000,\n",
       "          0.0000, 0.0000, 0.0000, 0.0000, 0.0000, 0.0000, 0.0000, 0.0000,\n",
       "          0.0000, 0.0000, 0.0000, 0.0000],\n",
       "         [0.0000, 0.0000, 0.0000, 0.0000, 0.0000, 0.0000, 0.0000, 0.0000,\n",
       "          0.0000, 0.0000, 0.9176, 0.9843, 0.9843, 0.7686, 0.0471, 0.0000,\n",
       "          0.0000, 0.0000, 0.0000, 0.0000, 0.0000, 0.0000, 0.0000, 0.0000,\n",
       "          0.0000, 0.0000, 0.0000, 0.0000],\n",
       "         [0.0000, 0.0000, 0.0000, 0.0000, 0.0000, 0.0000, 0.0000, 0.0000,\n",
       "          0.0000, 0.0000, 0.9922, 0.9843, 0.9843, 0.3490, 0.0000, 0.0000,\n",
       "          0.0000, 0.0000, 0.0000, 0.0000, 0.0000, 0.0000, 0.0000, 0.0000,\n",
       "          0.0000, 0.0000, 0.0000, 0.0000],\n",
       "         [0.0000, 0.0000, 0.0000, 0.0000, 0.0000, 0.0000, 0.0000, 0.0000,\n",
       "          0.0000, 0.6235, 1.0000, 0.9922, 0.9922, 0.1216, 0.0000, 0.0000,\n",
       "          0.0000, 0.0000, 0.0000, 0.0000, 0.0000, 0.0000, 0.0000, 0.0000,\n",
       "          0.0000, 0.0000, 0.0000, 0.0000],\n",
       "         [0.0000, 0.0000, 0.0000, 0.0000, 0.0000, 0.0000, 0.0000, 0.0000,\n",
       "          0.1882, 0.8941, 0.9922, 0.9686, 0.5490, 0.0314, 0.0000, 0.0000,\n",
       "          0.0000, 0.0000, 0.0000, 0.0000, 0.0000, 0.0000, 0.0000, 0.0000,\n",
       "          0.0000, 0.0000, 0.0000, 0.0000],\n",
       "         [0.0000, 0.0000, 0.0000, 0.0000, 0.0000, 0.0000, 0.0000, 0.0000,\n",
       "          0.2510, 0.9843, 0.9922, 0.8627, 0.0000, 0.0000, 0.0000, 0.0000,\n",
       "          0.0000, 0.0000, 0.0000, 0.0000, 0.0000, 0.0000, 0.0000, 0.0000,\n",
       "          0.0000, 0.0000, 0.0000, 0.0000],\n",
       "         [0.0000, 0.0000, 0.0000, 0.0000, 0.0000, 0.0000, 0.0000, 0.0000,\n",
       "          0.2510, 0.9843, 0.9922, 0.8627, 0.0000, 0.0000, 0.0000, 0.0000,\n",
       "          0.0000, 0.0000, 0.0000, 0.0000, 0.0000, 0.0000, 0.0000, 0.0000,\n",
       "          0.0000, 0.0000, 0.0000, 0.0000],\n",
       "         [0.0000, 0.0000, 0.0000, 0.0000, 0.0000, 0.0000, 0.0000, 0.0000,\n",
       "          0.0941, 0.7569, 0.9922, 0.8627, 0.0000, 0.0000, 0.0000, 0.0000,\n",
       "          0.0000, 0.0000, 0.0000, 0.0000, 0.0000, 0.0000, 0.0000, 0.0000,\n",
       "          0.0000, 0.0000, 0.0000, 0.0000],\n",
       "         [0.0000, 0.0000, 0.0000, 0.0000, 0.0000, 0.0000, 0.0000, 0.0000,\n",
       "          0.0000, 0.0000, 0.0000, 0.0000, 0.0000, 0.0000, 0.0000, 0.0000,\n",
       "          0.0000, 0.0000, 0.0000, 0.0000, 0.0000, 0.0000, 0.0000, 0.0000,\n",
       "          0.0000, 0.0000, 0.0000, 0.0000],\n",
       "         [0.0000, 0.0000, 0.0000, 0.0000, 0.0000, 0.0000, 0.0000, 0.0000,\n",
       "          0.0000, 0.0000, 0.0000, 0.0000, 0.0000, 0.0000, 0.0000, 0.0000,\n",
       "          0.0000, 0.0000, 0.0000, 0.0000, 0.0000, 0.0000, 0.0000, 0.0000,\n",
       "          0.0000, 0.0000, 0.0000, 0.0000],\n",
       "         [0.0000, 0.0000, 0.0000, 0.0000, 0.0000, 0.0000, 0.0000, 0.0000,\n",
       "          0.0000, 0.0000, 0.0000, 0.0000, 0.0000, 0.0000, 0.0000, 0.0000,\n",
       "          0.0000, 0.0000, 0.0000, 0.0000, 0.0000, 0.0000, 0.0000, 0.0000,\n",
       "          0.0000, 0.0000, 0.0000, 0.0000]]])"
      ]
     },
     "execution_count": 27,
     "metadata": {},
     "output_type": "execute_result"
    }
   ],
   "source": [
    "image"
   ]
  },
  {
   "cell_type": "code",
   "execution_count": 28,
   "metadata": {},
   "outputs": [
    {
     "data": {
      "text/plain": [
       "torch.Size([1, 28, 28])"
      ]
     },
     "execution_count": 28,
     "metadata": {},
     "output_type": "execute_result"
    }
   ],
   "source": [
    "image.shape"
   ]
  },
  {
   "cell_type": "code",
   "execution_count": 29,
   "metadata": {},
   "outputs": [
    {
     "data": {
      "text/plain": [
       "1"
      ]
     },
     "execution_count": 29,
     "metadata": {},
     "output_type": "execute_result"
    }
   ],
   "source": [
    "label"
   ]
  },
  {
   "cell_type": "code",
   "execution_count": 30,
   "metadata": {},
   "outputs": [
    {
     "data": {
      "text/plain": [
       "<matplotlib.image.AxesImage at 0x210f14d8f88>"
      ]
     },
     "execution_count": 30,
     "metadata": {},
     "output_type": "execute_result"
    },
    {
     "data": {
      "image/png": "[encoded data removed]",
      "text/plain": [
       "<Figure size 432x288 with 1 Axes>"
      ]
     },
     "metadata": {
      "needs_background": "light"
     },
     "output_type": "display_data"
    }
   ],
   "source": [
    "plt.imshow(image.reshape(28,28))"
   ]
  },
  {
   "cell_type": "code",
   "execution_count": 31,
   "metadata": {},
   "outputs": [
    {
     "data": {
      "text/plain": [
       "<matplotlib.image.AxesImage at 0x210f157ef08>"
      ]
     },
     "execution_count": 31,
     "metadata": {},
     "output_type": "execute_result"
    },
    {
     "data": {
      "image/png": "[encoded data removed]",
      "text/plain": [
       "<Figure size 432x288 with 1 Axes>"
      ]
     },
     "metadata": {
      "needs_background": "light"
     },
     "output_type": "display_data"
    }
   ],
   "source": [
    "plt.imshow(image.reshape(28,28), cmap=\"gray\")"
   ]
  },
  {
   "cell_type": "code",
   "execution_count": 32,
   "metadata": {},
   "outputs": [
    {
     "data": {
      "text/plain": [
       "<torch._C.Generator at 0x210eb2e9270>"
      ]
     },
     "execution_count": 32,
     "metadata": {},
     "output_type": "execute_result"
    }
   ],
   "source": [
    "torch.manual_seed(64)"
   ]
  },
  {
   "cell_type": "code",
   "execution_count": 33,
   "metadata": {},
   "outputs": [
    {
     "data": {
      "text/plain": [
       "600.0"
      ]
     },
     "execution_count": 33,
     "metadata": {},
     "output_type": "execute_result"
    }
   ],
   "source": [
    "60000/100"
   ]
  },
  {
   "cell_type": "code",
   "execution_count": 34,
   "metadata": {},
   "outputs": [],
   "source": [
    "train_loaded = DataLoader(train_data, batch_size = 100, shuffle = True)"
   ]
  },
  {
   "cell_type": "code",
   "execution_count": 35,
   "metadata": {},
   "outputs": [],
   "source": [
    "test_loaded = DataLoader(test_data, batch_size= 500, shuffle= False)"
   ]
  },
  {
   "cell_type": "code",
   "execution_count": 36,
   "metadata": {},
   "outputs": [
    {
     "data": {
      "text/plain": [
       "torch.Size([1, 28, 28])"
      ]
     },
     "execution_count": 36,
     "metadata": {},
     "output_type": "execute_result"
    }
   ],
   "source": [
    "image.shape"
   ]
  },
  {
   "cell_type": "code",
   "execution_count": 37,
   "metadata": {},
   "outputs": [
    {
     "data": {
      "text/plain": [
       "784"
      ]
     },
     "execution_count": 37,
     "metadata": {},
     "output_type": "execute_result"
    }
   ],
   "source": [
    "28*28*1"
   ]
  },
  {
   "cell_type": "markdown",
   "metadata": {},
   "source": [
    "# Model Architecture"
   ]
  },
  {
   "cell_type": "markdown",
   "metadata": {},
   "source": [
    "<img src = \"mnist2.jpeg\" width=350, height = 350>"
   ]
  },
  {
   "cell_type": "markdown",
   "metadata": {},
   "source": [
    "### Softmax"
   ]
  },
  {
   "cell_type": "markdown",
   "metadata": {},
   "source": [
    "<img src = \"softmax2.png\" width=350, height = 350>"
   ]
  },
  {
   "cell_type": "markdown",
   "metadata": {},
   "source": [
    "<img src = \"softmax.png\" width=500, height = 500>"
   ]
  },
  {
   "cell_type": "code",
   "execution_count": 38,
   "metadata": {},
   "outputs": [],
   "source": [
    "class Model2(nn.Module):\n",
    "    def __init__(self):\n",
    "        super().__init__()\n",
    "        \n",
    "        self.fc1 = nn.Linear(784,120)\n",
    "        self.fc2 = nn.Linear(120,80)\n",
    "        self.fc3 = nn.Linear(80,10)\n",
    "    \n",
    "    def forward(self,x):\n",
    "        x = F.relu(self.fc1(x))\n",
    "        x = F.relu(self.fc2(x))\n",
    "        x = F.softmax(self.fc3(x),dim=1)\n",
    "        return(x)\n",
    "        \n",
    "        "
   ]
  },
  {
   "cell_type": "code",
   "execution_count": 39,
   "metadata": {},
   "outputs": [],
   "source": [
    "model = Model2()"
   ]
  },
  {
   "cell_type": "code",
   "execution_count": 40,
   "metadata": {},
   "outputs": [
    {
     "data": {
      "text/plain": [
       "Model2(\n",
       "  (fc1): Linear(in_features=784, out_features=120, bias=True)\n",
       "  (fc2): Linear(in_features=120, out_features=80, bias=True)\n",
       "  (fc3): Linear(in_features=80, out_features=10, bias=True)\n",
       ")"
      ]
     },
     "execution_count": 40,
     "metadata": {},
     "output_type": "execute_result"
    }
   ],
   "source": [
    "model"
   ]
  },
  {
   "cell_type": "code",
   "execution_count": 41,
   "metadata": {},
   "outputs": [],
   "source": [
    "# SGD - Linear / Sequnetial\n",
    "# ADAM - Clasification"
   ]
  },
  {
   "cell_type": "code",
   "execution_count": 42,
   "metadata": {},
   "outputs": [],
   "source": [
    "criterion = nn.CrossEntropyLoss()\n",
    "optimizer = torch.optim.Adam(model.parameters(), lr= 0.01)"
   ]
  },
  {
   "cell_type": "code",
   "execution_count": 43,
   "metadata": {},
   "outputs": [
    {
     "name": "stdout",
     "output_type": "stream",
     "text": [
      "epoch: 0  batch: 50  loss: 1.7046  accuracy: 60.800%\n",
      "epoch: 0  batch: 100  loss: 1.7261  accuracy: 69.630%\n",
      "epoch: 0  batch: 150  loss: 1.7306  accuracy: 73.273%\n",
      "epoch: 0  batch: 200  loss: 1.6582  accuracy: 75.660%\n",
      "epoch: 0  batch: 250  loss: 1.5252  accuracy: 77.716%\n",
      "epoch: 0  batch: 300  loss: 1.5612  accuracy: 79.727%\n",
      "epoch: 0  batch: 350  loss: 1.5885  accuracy: 81.131%\n",
      "epoch: 0  batch: 400  loss: 1.6184  accuracy: 82.320%\n",
      "epoch: 0  batch: 450  loss: 1.6029  accuracy: 83.107%\n",
      "epoch: 0  batch: 500  loss: 1.5804  accuracy: 83.764%\n",
      "epoch: 0  batch: 550  loss: 1.6083  accuracy: 84.296%\n",
      "epoch: 0  batch: 600  loss: 1.5793  accuracy: 84.882%\n",
      "epoch: 1  batch: 50  loss: 1.5745  accuracy: 91.500%\n",
      "epoch: 1  batch: 100  loss: 1.5611  accuracy: 89.820%\n",
      "epoch: 1  batch: 150  loss: 1.5445  accuracy: 90.167%\n",
      "epoch: 1  batch: 200  loss: 1.5447  accuracy: 90.300%\n",
      "epoch: 1  batch: 250  loss: 1.5257  accuracy: 90.524%\n",
      "epoch: 1  batch: 300  loss: 1.5200  accuracy: 90.730%\n",
      "epoch: 1  batch: 350  loss: 1.6095  accuracy: 90.674%\n",
      "epoch: 1  batch: 400  loss: 1.5411  accuracy: 90.713%\n",
      "epoch: 1  batch: 450  loss: 1.5535  accuracy: 90.713%\n",
      "epoch: 1  batch: 500  loss: 1.5317  accuracy: 90.868%\n",
      "epoch: 1  batch: 550  loss: 1.5257  accuracy: 91.022%\n",
      "epoch: 1  batch: 600  loss: 1.5076  accuracy: 91.118%\n",
      "epoch: 2  batch: 50  loss: 1.6040  accuracy: 91.340%\n",
      "epoch: 2  batch: 100  loss: 1.5623  accuracy: 91.570%\n",
      "epoch: 2  batch: 150  loss: 1.5450  accuracy: 91.893%\n",
      "epoch: 2  batch: 200  loss: 1.5115  accuracy: 92.155%\n",
      "epoch: 2  batch: 250  loss: 1.5463  accuracy: 92.312%\n",
      "epoch: 2  batch: 300  loss: 1.5522  accuracy: 91.810%\n",
      "epoch: 2  batch: 350  loss: 1.5609  accuracy: 91.711%\n",
      "epoch: 2  batch: 400  loss: 1.5410  accuracy: 91.703%\n",
      "epoch: 2  batch: 450  loss: 1.5751  accuracy: 91.536%\n",
      "epoch: 2  batch: 500  loss: 1.5095  accuracy: 91.502%\n",
      "epoch: 2  batch: 550  loss: 1.5198  accuracy: 91.516%\n",
      "epoch: 2  batch: 600  loss: 1.5200  accuracy: 91.500%\n",
      "epoch: 3  batch: 50  loss: 1.5889  accuracy: 91.540%\n",
      "epoch: 3  batch: 100  loss: 1.5434  accuracy: 91.280%\n",
      "epoch: 3  batch: 150  loss: 1.5463  accuracy: 91.400%\n",
      "epoch: 3  batch: 200  loss: 1.5113  accuracy: 91.575%\n",
      "epoch: 3  batch: 250  loss: 1.5913  accuracy: 91.616%\n",
      "epoch: 3  batch: 300  loss: 1.5412  accuracy: 91.577%\n",
      "epoch: 3  batch: 350  loss: 1.5536  accuracy: 91.503%\n",
      "epoch: 3  batch: 400  loss: 1.5399  accuracy: 91.547%\n",
      "epoch: 3  batch: 450  loss: 1.5806  accuracy: 91.571%\n",
      "epoch: 3  batch: 500  loss: 1.5309  accuracy: 91.614%\n",
      "epoch: 3  batch: 550  loss: 1.5611  accuracy: 91.704%\n",
      "epoch: 3  batch: 600  loss: 1.5508  accuracy: 91.588%\n",
      "epoch: 4  batch: 50  loss: 1.5403  accuracy: 90.380%\n",
      "epoch: 4  batch: 100  loss: 1.5311  accuracy: 91.060%\n",
      "epoch: 4  batch: 150  loss: 1.5420  accuracy: 90.947%\n",
      "epoch: 4  batch: 200  loss: 1.5111  accuracy: 91.095%\n",
      "epoch: 4  batch: 250  loss: 1.5407  accuracy: 90.628%\n",
      "epoch: 4  batch: 300  loss: 1.5416  accuracy: 90.820%\n",
      "epoch: 4  batch: 350  loss: 1.5389  accuracy: 90.866%\n",
      "epoch: 4  batch: 400  loss: 1.5810  accuracy: 90.882%\n",
      "epoch: 4  batch: 450  loss: 1.5518  accuracy: 90.769%\n",
      "epoch: 4  batch: 500  loss: 1.5712  accuracy: 90.818%\n",
      "epoch: 4  batch: 550  loss: 1.5312  accuracy: 90.893%\n",
      "epoch: 4  batch: 600  loss: 1.5712  accuracy: 90.713%\n"
     ]
    }
   ],
   "source": [
    "\n",
    "epochs = 5\n",
    "train_losses = []\n",
    "test_losses = []\n",
    "train_correct = []\n",
    "test_correct = []\n",
    "\n",
    "for i in range(epochs):\n",
    "    trn_corr = 0\n",
    "    tst_corr = 0\n",
    "    \n",
    "    # Run the training batches\n",
    "    for b, (X_train, y_train) in enumerate(train_loaded):\n",
    "        b=b+1\n",
    "        \n",
    "        \n",
    "        # Apply the model\n",
    "        y_pred = model.forward(X_train.view(100, -1))  # Here we flatten X_train\n",
    "        loss = criterion(y_pred, y_train)\n",
    " \n",
    "        # Tally the number of correct predictions\n",
    "        predicted = torch.max(y_pred.data, 1)[1]\n",
    "        batch_corr = (predicted == y_train).sum()\n",
    "        trn_corr = trn_corr + batch_corr\n",
    "        \n",
    "        # Update parameters\n",
    "        optimizer.zero_grad()\n",
    "        loss.backward()\n",
    "        optimizer.step()\n",
    "        \n",
    "        # Print interim results\n",
    "        if b%50 == 0:\n",
    "            print(f'epoch: {i}  batch: {b}  loss: {loss.item():.4f}  \\\n",
    "accuracy: {trn_corr.item()*100/(100*b):.3f}%')\n",
    "    \n",
    "    # Update train loss & accuracy for the epoch\n",
    "    train_losses.append(loss)\n",
    "    train_correct.append(trn_corr)\n",
    "        \n",
    "    # Run the testing batches\n",
    "    with torch.no_grad():\n",
    "        for b, (X_test, y_test) in enumerate(test_loaded):\n",
    "            \n",
    "\n",
    "            # Apply the model\n",
    "            y_val = model.forward(X_test.view(500, -1))  # Here we flatten X_test\n",
    "\n",
    "            # Tally the number of correct predictions\n",
    "            predicted = torch.max(y_val.data, 1)[1] \n",
    "            tst_batch_corr = (predicted == y_test).sum()\n",
    "            tst_corr = tst_corr + tst_batch_corr\n",
    "    \n",
    "    # Update test loss & accuracy for the epoch\n",
    "    loss = criterion(y_val, y_test)\n",
    "    test_losses.append(loss)\n",
    "    test_correct.append(tst_corr)\n",
    "        \n",
    "          \n",
    "\n"
   ]
  },
  {
   "cell_type": "code",
   "execution_count": 44,
   "metadata": {},
   "outputs": [
    {
     "data": {
      "text/plain": [
       "(100, 784)"
      ]
     },
     "execution_count": 44,
     "metadata": {},
     "output_type": "execute_result"
    }
   ],
   "source": [
    "100, 28*28*1"
   ]
  },
  {
   "cell_type": "code",
   "execution_count": 45,
   "metadata": {},
   "outputs": [
    {
     "data": {
      "text/plain": [
       "torch.Size([100, 1, 28, 28])"
      ]
     },
     "execution_count": 45,
     "metadata": {},
     "output_type": "execute_result"
    }
   ],
   "source": [
    "X_train.shape"
   ]
  },
  {
   "cell_type": "code",
   "execution_count": 46,
   "metadata": {},
   "outputs": [
    {
     "data": {
      "text/plain": [
       "(100, 1, 28, 28)"
      ]
     },
     "execution_count": 46,
     "metadata": {},
     "output_type": "execute_result"
    }
   ],
   "source": [
    "100,1,28,28"
   ]
  },
  {
   "cell_type": "code",
   "execution_count": 47,
   "metadata": {},
   "outputs": [
    {
     "data": {
      "text/plain": [
       "tensor([0., 0., 0., 0., 0., 1., 0., 0., 0., 0.])"
      ]
     },
     "execution_count": 47,
     "metadata": {},
     "output_type": "execute_result"
    }
   ],
   "source": [
    "y_val[3]"
   ]
  },
  {
   "cell_type": "code",
   "execution_count": 50,
   "metadata": {},
   "outputs": [],
   "source": [
    "list1 = torch.max(y_val,1)[1]\n"
   ]
  },
  {
   "cell_type": "code",
   "execution_count": 51,
   "metadata": {},
   "outputs": [
    {
     "name": "stdout",
     "output_type": "stream",
     "text": [
      "0 tensor(7)\n",
      "1 tensor(3)\n",
      "2 tensor(4)\n",
      "3 tensor(5)\n",
      "4 tensor(6)\n",
      "5 tensor(7)\n",
      "6 tensor(8)\n",
      "7 tensor(9)\n",
      "8 tensor(7)\n",
      "9 tensor(1)\n",
      "10 tensor(2)\n",
      "11 tensor(3)\n",
      "12 tensor(4)\n",
      "13 tensor(5)\n",
      "14 tensor(6)\n",
      "15 tensor(7)\n",
      "16 tensor(8)\n",
      "17 tensor(9)\n",
      "18 tensor(1)\n",
      "19 tensor(0)\n",
      "20 tensor(1)\n",
      "21 tensor(2)\n",
      "22 tensor(7)\n",
      "23 tensor(5)\n",
      "24 tensor(3)\n",
      "25 tensor(4)\n",
      "26 tensor(4)\n",
      "27 tensor(0)\n",
      "28 tensor(0)\n",
      "29 tensor(6)\n",
      "30 tensor(9)\n",
      "31 tensor(6)\n",
      "32 tensor(6)\n",
      "33 tensor(5)\n",
      "34 tensor(7)\n",
      "35 tensor(2)\n",
      "36 tensor(3)\n",
      "37 tensor(4)\n",
      "38 tensor(4)\n",
      "39 tensor(9)\n",
      "40 tensor(1)\n",
      "41 tensor(4)\n",
      "42 tensor(0)\n",
      "43 tensor(7)\n",
      "44 tensor(7)\n",
      "45 tensor(5)\n",
      "46 tensor(7)\n",
      "47 tensor(2)\n",
      "48 tensor(3)\n",
      "49 tensor(1)\n",
      "50 tensor(4)\n",
      "51 tensor(4)\n",
      "52 tensor(0)\n",
      "53 tensor(9)\n",
      "54 tensor(7)\n",
      "55 tensor(6)\n",
      "56 tensor(1)\n",
      "57 tensor(8)\n",
      "58 tensor(3)\n",
      "59 tensor(3)\n",
      "60 tensor(7)\n",
      "61 tensor(3)\n",
      "62 tensor(9)\n",
      "63 tensor(8)\n",
      "64 tensor(8)\n",
      "65 tensor(4)\n",
      "66 tensor(7)\n",
      "67 tensor(7)\n",
      "68 tensor(6)\n",
      "69 tensor(2)\n",
      "70 tensor(1)\n",
      "71 tensor(9)\n",
      "72 tensor(8)\n",
      "73 tensor(7)\n",
      "74 tensor(8)\n",
      "75 tensor(8)\n",
      "76 tensor(7)\n",
      "77 tensor(2)\n",
      "78 tensor(2)\n",
      "79 tensor(3)\n",
      "80 tensor(9)\n",
      "81 tensor(3)\n",
      "82 tensor(3)\n",
      "83 tensor(5)\n",
      "84 tensor(5)\n",
      "85 tensor(0)\n",
      "86 tensor(7)\n",
      "87 tensor(4)\n",
      "88 tensor(5)\n",
      "89 tensor(6)\n",
      "90 tensor(5)\n",
      "91 tensor(1)\n",
      "92 tensor(4)\n",
      "93 tensor(1)\n",
      "94 tensor(8)\n",
      "95 tensor(2)\n",
      "96 tensor(8)\n",
      "97 tensor(2)\n",
      "98 tensor(6)\n",
      "99 tensor(1)\n",
      "100 tensor(5)\n",
      "101 tensor(0)\n",
      "102 tensor(1)\n",
      "103 tensor(2)\n",
      "104 tensor(3)\n",
      "105 tensor(4)\n",
      "106 tensor(5)\n",
      "107 tensor(6)\n",
      "108 tensor(7)\n",
      "109 tensor(8)\n",
      "110 tensor(9)\n",
      "111 tensor(0)\n",
      "112 tensor(1)\n",
      "113 tensor(2)\n",
      "114 tensor(3)\n",
      "115 tensor(4)\n",
      "116 tensor(5)\n",
      "117 tensor(6)\n",
      "118 tensor(7)\n",
      "119 tensor(8)\n",
      "120 tensor(9)\n",
      "121 tensor(0)\n",
      "122 tensor(1)\n",
      "123 tensor(2)\n",
      "124 tensor(8)\n",
      "125 tensor(4)\n",
      "126 tensor(5)\n",
      "127 tensor(6)\n",
      "128 tensor(7)\n",
      "129 tensor(8)\n",
      "130 tensor(8)\n",
      "131 tensor(0)\n",
      "132 tensor(6)\n",
      "133 tensor(0)\n",
      "134 tensor(7)\n",
      "135 tensor(2)\n",
      "136 tensor(3)\n",
      "137 tensor(7)\n",
      "138 tensor(9)\n",
      "139 tensor(4)\n",
      "140 tensor(7)\n",
      "141 tensor(1)\n",
      "142 tensor(7)\n",
      "143 tensor(7)\n",
      "144 tensor(7)\n",
      "145 tensor(1)\n",
      "146 tensor(4)\n",
      "147 tensor(0)\n",
      "148 tensor(0)\n",
      "149 tensor(1)\n",
      "150 tensor(7)\n",
      "151 tensor(5)\n",
      "152 tensor(7)\n",
      "153 tensor(1)\n",
      "154 tensor(3)\n",
      "155 tensor(7)\n",
      "156 tensor(3)\n",
      "157 tensor(1)\n",
      "158 tensor(6)\n",
      "159 tensor(9)\n",
      "160 tensor(7)\n",
      "161 tensor(1)\n",
      "162 tensor(3)\n",
      "163 tensor(0)\n",
      "164 tensor(7)\n",
      "165 tensor(6)\n",
      "166 tensor(0)\n",
      "167 tensor(8)\n",
      "168 tensor(9)\n",
      "169 tensor(7)\n",
      "170 tensor(3)\n",
      "171 tensor(5)\n",
      "172 tensor(4)\n",
      "173 tensor(8)\n",
      "174 tensor(1)\n",
      "175 tensor(5)\n",
      "176 tensor(9)\n",
      "177 tensor(0)\n",
      "178 tensor(6)\n",
      "179 tensor(6)\n",
      "180 tensor(3)\n",
      "181 tensor(8)\n",
      "182 tensor(1)\n",
      "183 tensor(4)\n",
      "184 tensor(7)\n",
      "185 tensor(5)\n",
      "186 tensor(2)\n",
      "187 tensor(0)\n",
      "188 tensor(0)\n",
      "189 tensor(1)\n",
      "190 tensor(7)\n",
      "191 tensor(8)\n",
      "192 tensor(9)\n",
      "193 tensor(6)\n",
      "194 tensor(8)\n",
      "195 tensor(8)\n",
      "196 tensor(2)\n",
      "197 tensor(3)\n",
      "198 tensor(6)\n",
      "199 tensor(1)\n",
      "200 tensor(8)\n",
      "201 tensor(9)\n",
      "202 tensor(5)\n",
      "203 tensor(2)\n",
      "204 tensor(0)\n",
      "205 tensor(1)\n",
      "206 tensor(2)\n",
      "207 tensor(3)\n",
      "208 tensor(4)\n",
      "209 tensor(5)\n",
      "210 tensor(6)\n",
      "211 tensor(7)\n",
      "212 tensor(8)\n",
      "213 tensor(7)\n",
      "214 tensor(0)\n",
      "215 tensor(1)\n",
      "216 tensor(0)\n",
      "217 tensor(3)\n",
      "218 tensor(4)\n",
      "219 tensor(0)\n",
      "220 tensor(6)\n",
      "221 tensor(7)\n",
      "222 tensor(8)\n",
      "223 tensor(7)\n",
      "224 tensor(0)\n",
      "225 tensor(1)\n",
      "226 tensor(0)\n",
      "227 tensor(3)\n",
      "228 tensor(4)\n",
      "229 tensor(6)\n",
      "230 tensor(6)\n",
      "231 tensor(7)\n",
      "232 tensor(8)\n",
      "233 tensor(7)\n",
      "234 tensor(7)\n",
      "235 tensor(4)\n",
      "236 tensor(6)\n",
      "237 tensor(1)\n",
      "238 tensor(6)\n",
      "239 tensor(0)\n",
      "240 tensor(7)\n",
      "241 tensor(7)\n",
      "242 tensor(3)\n",
      "243 tensor(7)\n",
      "244 tensor(8)\n",
      "245 tensor(7)\n",
      "246 tensor(7)\n",
      "247 tensor(5)\n",
      "248 tensor(8)\n",
      "249 tensor(0)\n",
      "250 tensor(3)\n",
      "251 tensor(0)\n",
      "252 tensor(0)\n",
      "253 tensor(0)\n",
      "254 tensor(5)\n",
      "255 tensor(5)\n",
      "256 tensor(6)\n",
      "257 tensor(0)\n",
      "258 tensor(3)\n",
      "259 tensor(8)\n",
      "260 tensor(1)\n",
      "261 tensor(0)\n",
      "262 tensor(3)\n",
      "263 tensor(0)\n",
      "264 tensor(8)\n",
      "265 tensor(7)\n",
      "266 tensor(4)\n",
      "267 tensor(7)\n",
      "268 tensor(0)\n",
      "269 tensor(9)\n",
      "270 tensor(0)\n",
      "271 tensor(7)\n",
      "272 tensor(1)\n",
      "273 tensor(7)\n",
      "274 tensor(1)\n",
      "275 tensor(6)\n",
      "276 tensor(6)\n",
      "277 tensor(7)\n",
      "278 tensor(6)\n",
      "279 tensor(0)\n",
      "280 tensor(7)\n",
      "281 tensor(7)\n",
      "282 tensor(6)\n",
      "283 tensor(0)\n",
      "284 tensor(7)\n",
      "285 tensor(9)\n",
      "286 tensor(5)\n",
      "287 tensor(3)\n",
      "288 tensor(7)\n",
      "289 tensor(4)\n",
      "290 tensor(3)\n",
      "291 tensor(0)\n",
      "292 tensor(7)\n",
      "293 tensor(6)\n",
      "294 tensor(6)\n",
      "295 tensor(1)\n",
      "296 tensor(1)\n",
      "297 tensor(3)\n",
      "298 tensor(7)\n",
      "299 tensor(1)\n",
      "300 tensor(0)\n",
      "301 tensor(0)\n",
      "302 tensor(1)\n",
      "303 tensor(8)\n",
      "304 tensor(3)\n",
      "305 tensor(4)\n",
      "306 tensor(7)\n",
      "307 tensor(8)\n",
      "308 tensor(4)\n",
      "309 tensor(0)\n",
      "310 tensor(1)\n",
      "311 tensor(8)\n",
      "312 tensor(3)\n",
      "313 tensor(4)\n",
      "314 tensor(5)\n",
      "315 tensor(6)\n",
      "316 tensor(7)\n",
      "317 tensor(8)\n",
      "318 tensor(0)\n",
      "319 tensor(1)\n",
      "320 tensor(8)\n",
      "321 tensor(3)\n",
      "322 tensor(4)\n",
      "323 tensor(7)\n",
      "324 tensor(8)\n",
      "325 tensor(9)\n",
      "326 tensor(0)\n",
      "327 tensor(8)\n",
      "328 tensor(3)\n",
      "329 tensor(9)\n",
      "330 tensor(5)\n",
      "331 tensor(8)\n",
      "332 tensor(8)\n",
      "333 tensor(6)\n",
      "334 tensor(8)\n",
      "335 tensor(0)\n",
      "336 tensor(1)\n",
      "337 tensor(7)\n",
      "338 tensor(1)\n",
      "339 tensor(7)\n",
      "340 tensor(0)\n",
      "341 tensor(5)\n",
      "342 tensor(6)\n",
      "343 tensor(7)\n",
      "344 tensor(1)\n",
      "345 tensor(1)\n",
      "346 tensor(1)\n",
      "347 tensor(0)\n",
      "348 tensor(1)\n",
      "349 tensor(8)\n",
      "350 tensor(0)\n",
      "351 tensor(7)\n",
      "352 tensor(7)\n",
      "353 tensor(5)\n",
      "354 tensor(8)\n",
      "355 tensor(8)\n",
      "356 tensor(5)\n",
      "357 tensor(8)\n",
      "358 tensor(8)\n",
      "359 tensor(7)\n",
      "360 tensor(3)\n",
      "361 tensor(4)\n",
      "362 tensor(6)\n",
      "363 tensor(8)\n",
      "364 tensor(7)\n",
      "365 tensor(0)\n",
      "366 tensor(4)\n",
      "367 tensor(8)\n",
      "368 tensor(7)\n",
      "369 tensor(7)\n",
      "370 tensor(5)\n",
      "371 tensor(4)\n",
      "372 tensor(3)\n",
      "373 tensor(6)\n",
      "374 tensor(8)\n",
      "375 tensor(8)\n",
      "376 tensor(1)\n",
      "377 tensor(5)\n",
      "378 tensor(1)\n",
      "379 tensor(0)\n",
      "380 tensor(8)\n",
      "381 tensor(3)\n",
      "382 tensor(3)\n",
      "383 tensor(6)\n",
      "384 tensor(7)\n",
      "385 tensor(0)\n",
      "386 tensor(6)\n",
      "387 tensor(8)\n",
      "388 tensor(0)\n",
      "389 tensor(3)\n",
      "390 tensor(7)\n",
      "391 tensor(7)\n",
      "392 tensor(8)\n",
      "393 tensor(8)\n",
      "394 tensor(7)\n",
      "395 tensor(7)\n",
      "396 tensor(1)\n",
      "397 tensor(0)\n",
      "398 tensor(1)\n",
      "399 tensor(7)\n",
      "400 tensor(8)\n",
      "401 tensor(9)\n",
      "402 tensor(0)\n",
      "403 tensor(1)\n",
      "404 tensor(7)\n",
      "405 tensor(7)\n",
      "406 tensor(4)\n",
      "407 tensor(5)\n",
      "408 tensor(6)\n",
      "409 tensor(7)\n",
      "410 tensor(8)\n",
      "411 tensor(0)\n",
      "412 tensor(1)\n",
      "413 tensor(8)\n",
      "414 tensor(3)\n",
      "415 tensor(4)\n",
      "416 tensor(7)\n",
      "417 tensor(8)\n",
      "418 tensor(9)\n",
      "419 tensor(7)\n",
      "420 tensor(8)\n",
      "421 tensor(6)\n",
      "422 tensor(4)\n",
      "423 tensor(1)\n",
      "424 tensor(7)\n",
      "425 tensor(3)\n",
      "426 tensor(8)\n",
      "427 tensor(4)\n",
      "428 tensor(4)\n",
      "429 tensor(7)\n",
      "430 tensor(0)\n",
      "431 tensor(1)\n",
      "432 tensor(9)\n",
      "433 tensor(2)\n",
      "434 tensor(8)\n",
      "435 tensor(7)\n",
      "436 tensor(8)\n",
      "437 tensor(2)\n",
      "438 tensor(6)\n",
      "439 tensor(0)\n",
      "440 tensor(6)\n",
      "441 tensor(6)\n",
      "442 tensor(3)\n",
      "443 tensor(8)\n",
      "444 tensor(0)\n",
      "445 tensor(9)\n",
      "446 tensor(1)\n",
      "447 tensor(6)\n",
      "448 tensor(0)\n",
      "449 tensor(6)\n",
      "450 tensor(1)\n",
      "451 tensor(0)\n",
      "452 tensor(0)\n",
      "453 tensor(6)\n",
      "454 tensor(3)\n",
      "455 tensor(1)\n",
      "456 tensor(1)\n",
      "457 tensor(7)\n",
      "458 tensor(7)\n",
      "459 tensor(8)\n",
      "460 tensor(4)\n",
      "461 tensor(6)\n",
      "462 tensor(0)\n",
      "463 tensor(7)\n",
      "464 tensor(0)\n",
      "465 tensor(3)\n",
      "466 tensor(6)\n",
      "467 tensor(8)\n",
      "468 tensor(7)\n",
      "469 tensor(1)\n",
      "470 tensor(3)\n",
      "471 tensor(7)\n",
      "472 tensor(4)\n",
      "473 tensor(9)\n",
      "474 tensor(4)\n",
      "475 tensor(3)\n",
      "476 tensor(6)\n",
      "477 tensor(4)\n",
      "478 tensor(1)\n",
      "479 tensor(7)\n",
      "480 tensor(3)\n",
      "481 tensor(6)\n",
      "482 tensor(6)\n",
      "483 tensor(0)\n",
      "484 tensor(1)\n",
      "485 tensor(2)\n",
      "486 tensor(8)\n",
      "487 tensor(4)\n",
      "488 tensor(5)\n",
      "489 tensor(6)\n",
      "490 tensor(7)\n",
      "491 tensor(8)\n",
      "492 tensor(9)\n",
      "493 tensor(0)\n",
      "494 tensor(1)\n",
      "495 tensor(2)\n",
      "496 tensor(3)\n",
      "497 tensor(4)\n",
      "498 tensor(5)\n",
      "499 tensor(6)\n"
     ]
    }
   ],
   "source": [
    "for b, items in enumerate(list1):\n",
    "    print(b,items)"
   ]
  },
  {
   "cell_type": "code",
   "execution_count": 52,
   "metadata": {},
   "outputs": [
    {
     "name": "stderr",
     "output_type": "stream",
     "text": [
      "..\\aten\\src\\ATen\\native\\BinaryOps.cpp:81: UserWarning: Integer division of tensors using div or / is deprecated, and in a future release div will perform true division as in Python 3. Use true_divide or floor_divide (// in Python) instead.\n"
     ]
    },
    {
     "data": {
      "image/png": "[encoded data removed]",
      "text/plain": [
       "<Figure size 432x288 with 1 Axes>"
      ]
     },
     "metadata": {
      "needs_background": "light"
     },
     "output_type": "display_data"
    }
   ],
   "source": [
    "plt.plot([t/600 for t in train_correct], label='training accuracy')\n",
    "plt.plot([t/100 for t in test_correct], label='validation accuracy')\n",
    "plt.title('Accuracy at the end of each epoch')\n",
    "plt.legend();"
   ]
  },
  {
   "cell_type": "code",
   "execution_count": 53,
   "metadata": {},
   "outputs": [],
   "source": [
    "images,lables = train_data[0]"
   ]
  },
  {
   "cell_type": "code",
   "execution_count": 54,
   "metadata": {},
   "outputs": [],
   "source": [
    "y2 =model.forward(images.view(-1,784))"
   ]
  },
  {
   "cell_type": "code",
   "execution_count": 55,
   "metadata": {},
   "outputs": [
    {
     "data": {
      "text/plain": [
       "tensor([[0., 0., 0., 0., 0., 1., 0., 0., 0., 0.]], grad_fn=<SoftmaxBackward>)"
      ]
     },
     "execution_count": 55,
     "metadata": {},
     "output_type": "execute_result"
    }
   ],
   "source": [
    "y2"
   ]
  },
  {
   "cell_type": "code",
   "execution_count": 56,
   "metadata": {},
   "outputs": [
    {
     "data": {
      "text/plain": [
       "<matplotlib.image.AxesImage at 0x210f176bb48>"
      ]
     },
     "execution_count": 56,
     "metadata": {},
     "output_type": "execute_result"
    },
    {
     "data": {
      "image/png": "[encoded data removed]",
      "text/plain": [
       "<Figure size 432x288 with 1 Axes>"
      ]
     },
     "metadata": {
      "needs_background": "light"
     },
     "output_type": "display_data"
    }
   ],
   "source": [
    "plt.imshow(images.reshape(28,28))"
   ]
  },
  {
   "cell_type": "code",
   "execution_count": 57,
   "metadata": {},
   "outputs": [
    {
     "data": {
      "text/plain": [
       "tensor([5])"
      ]
     },
     "execution_count": 57,
     "metadata": {},
     "output_type": "execute_result"
    }
   ],
   "source": [
    "torch.max(y2.data,1)[1]"
   ]
  },
  {
   "cell_type": "code",
   "execution_count": 58,
   "metadata": {},
   "outputs": [
    {
     "name": "stdout",
     "output_type": "stream",
     "text": [
      "Test accuracy: 8957/10000 =  89.570%\n"
     ]
    }
   ],
   "source": [
    "with torch.no_grad():\n",
    "    correct = 0\n",
    "    for X_test, y_test in test_loaded:\n",
    "        y_val = model(X_test.view(len(X_test), -1))  # pass in a flattened view of X_test\n",
    "        predicted = torch.max(y_val,1)[1]\n",
    "        correct += (predicted == y_test).sum()\n",
    "print(f'Test accuracy: {correct.item()}/{len(test_data)} = {correct.item()*100/(len(test_data)):7.3f}%')"
   ]
  },
  {
   "cell_type": "code",
   "execution_count": 59,
   "metadata": {},
   "outputs": [
    {
     "name": "stdout",
     "output_type": "stream",
     "text": [
      "[[   0    1    2    3    4    5    6    7    8    9]]\n",
      "\n",
      "[[  48    0    7    2    2    3    1    0    0    0]\n",
      " [   0   58    0    0    0    0    0    0    0    0]\n",
      " [   0    0   21    0    0    0    0    0    0    0]\n",
      " [   0    0    2   45    0    1    0    0    0    0]\n",
      " [   0    0    0    0   41    0    0    0    0    2]\n",
      " [   0    0    0    0    0   31    0    0    1    1]\n",
      " [   0    0    0    0    3    4   47    0    0    0]\n",
      " [   2    1    6    2    3    1    0   59    1   14]\n",
      " [   0    1   12    3    1    1    1    0   46    0]\n",
      " [   0    0    0    0    0    0    0    0    0   26]]\n"
     ]
    }
   ],
   "source": [
    "# print a row of values for reference\n",
    "import numpy as np\n",
    "from sklearn.metrics import confusion_matrix\n",
    "np.set_printoptions(formatter=dict(int=lambda x: f'{x:4}'))\n",
    "print(np.arange(10).reshape(1,10))\n",
    "print()\n",
    "\n",
    "# print the confusion matrix\n",
    "print(confusion_matrix(predicted.view(-1), y_test.view(-1)))"
   ]
  },
  {
   "cell_type": "code",
   "execution_count": 60,
   "metadata": {},
   "outputs": [],
   "source": [
    "# To Do"
   ]
  },
  {
   "cell_type": "code",
   "execution_count": 64,
   "metadata": {},
   "outputs": [
    {
     "name": "stdout",
     "output_type": "stream",
     "text": [
      "Files already downloaded and verified\n",
      "Files already downloaded and verified\n"
     ]
    }
   ],
   "source": [
    "# 1) Download CIFAR dataset\n",
    "train_data = datasets.CIFAR10(root='./Data', train=True, download=True, transform=transform)\n",
    "test_data = datasets.CIFAR10(root='./Data', train=False, download=True, transform=transform)"
   ]
  },
  {
   "cell_type": "code",
   "execution_count": 62,
   "metadata": {},
   "outputs": [],
   "source": [
    "# 2) Solve an MNIST problem for other language and share ur results in the chat - kaggle"
   ]
  },
  {
   "cell_type": "code",
   "execution_count": 63,
   "metadata": {},
   "outputs": [],
   "source": [
    "# 3) Compare the MNIST problem dataset solved with keras and compare the code to understand \n",
    "# the key differences in Pytorch and Keras"
   ]
  }
 ],
 "metadata": {
  "kernelspec": {
   "display_name": "Python 3",
   "language": "python",
   "name": "python3"
  },
  "language_info": {
   "codemirror_mode": {
    "name": "ipython",
    "version": 3
   },
   "file_extension": ".py",
   "mimetype": "text/x-python",
   "name": "python",
   "nbconvert_exporter": "python",
   "pygments_lexer": "ipython3",
   "version": "3.7.4"
  }
 },
 "nbformat": 4,
 "nbformat_minor": 2
}
