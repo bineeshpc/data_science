{
 "cells": [
  {
   "cell_type": "code",
   "execution_count": 2,
   "metadata": {},
   "outputs": [],
   "source": [
    "import torch\n",
    "import torch.nn as nn\n",
    "import numpy as np\n"
   ]
  },
  {
   "cell_type": "code",
   "execution_count": 5,
   "metadata": {},
   "outputs": [],
   "source": [
    "X = torch.linspace(1,50, 50).reshape(-1, 1)"
   ]
  },
  {
   "cell_type": "code",
   "execution_count": 7,
   "metadata": {},
   "outputs": [
    {
     "data": {
      "text/plain": [
       "tensor([[ 1.],\n",
       "        [ 2.],\n",
       "        [ 3.],\n",
       "        [ 4.],\n",
       "        [ 5.],\n",
       "        [ 6.],\n",
       "        [ 7.],\n",
       "        [ 8.],\n",
       "        [ 9.],\n",
       "        [10.],\n",
       "        [11.],\n",
       "        [12.],\n",
       "        [13.],\n",
       "        [14.],\n",
       "        [15.],\n",
       "        [16.],\n",
       "        [17.],\n",
       "        [18.],\n",
       "        [19.],\n",
       "        [20.],\n",
       "        [21.],\n",
       "        [22.],\n",
       "        [23.],\n",
       "        [24.],\n",
       "        [25.],\n",
       "        [26.],\n",
       "        [27.],\n",
       "        [28.],\n",
       "        [29.],\n",
       "        [30.],\n",
       "        [31.],\n",
       "        [32.],\n",
       "        [33.],\n",
       "        [34.],\n",
       "        [35.],\n",
       "        [36.],\n",
       "        [37.],\n",
       "        [38.],\n",
       "        [39.],\n",
       "        [40.],\n",
       "        [41.],\n",
       "        [42.],\n",
       "        [43.],\n",
       "        [44.],\n",
       "        [45.],\n",
       "        [46.],\n",
       "        [47.],\n",
       "        [48.],\n",
       "        [49.],\n",
       "        [50.]])"
      ]
     },
     "execution_count": 7,
     "metadata": {},
     "output_type": "execute_result"
    }
   ],
   "source": [
    "X"
   ]
  },
  {
   "cell_type": "code",
   "execution_count": 6,
   "metadata": {},
   "outputs": [],
   "source": [
    "bias = torch.rand_like(X)"
   ]
  },
  {
   "cell_type": "code",
   "execution_count": 8,
   "metadata": {
    "scrolled": true
   },
   "outputs": [
    {
     "data": {
      "text/plain": [
       "tensor([[4.4647e-02],\n",
       "        [4.9444e-01],\n",
       "        [7.5722e-01],\n",
       "        [6.7360e-01],\n",
       "        [3.5331e-01],\n",
       "        [9.9421e-01],\n",
       "        [8.5937e-01],\n",
       "        [7.7252e-01],\n",
       "        [7.6066e-01],\n",
       "        [9.8724e-02],\n",
       "        [9.3963e-01],\n",
       "        [4.4531e-01],\n",
       "        [2.9690e-01],\n",
       "        [6.5641e-01],\n",
       "        [9.0276e-01],\n",
       "        [7.4453e-01],\n",
       "        [4.1102e-01],\n",
       "        [5.0722e-01],\n",
       "        [5.9104e-01],\n",
       "        [8.7992e-01],\n",
       "        [6.4819e-01],\n",
       "        [1.5225e-02],\n",
       "        [7.0804e-01],\n",
       "        [7.5996e-01],\n",
       "        [6.1206e-01],\n",
       "        [5.1702e-01],\n",
       "        [4.7357e-02],\n",
       "        [1.3812e-01],\n",
       "        [6.8856e-01],\n",
       "        [7.9230e-01],\n",
       "        [1.9435e-01],\n",
       "        [9.3277e-01],\n",
       "        [7.9282e-02],\n",
       "        [8.5581e-01],\n",
       "        [9.0567e-01],\n",
       "        [3.0820e-01],\n",
       "        [3.4594e-01],\n",
       "        [6.6796e-03],\n",
       "        [1.9580e-04],\n",
       "        [7.8259e-01],\n",
       "        [9.9327e-01],\n",
       "        [3.4691e-01],\n",
       "        [6.0776e-01],\n",
       "        [1.7846e-02],\n",
       "        [9.5329e-01],\n",
       "        [5.2084e-02],\n",
       "        [8.5751e-02],\n",
       "        [7.0133e-01],\n",
       "        [1.3953e-01],\n",
       "        [3.6950e-01]])"
      ]
     },
     "execution_count": 8,
     "metadata": {},
     "output_type": "execute_result"
    }
   ],
   "source": [
    "bias"
   ]
  },
  {
   "cell_type": "code",
   "execution_count": 9,
   "metadata": {},
   "outputs": [],
   "source": [
    "y = (2*X) + bias"
   ]
  },
  {
   "cell_type": "code",
   "execution_count": 10,
   "metadata": {},
   "outputs": [
    {
     "data": {
      "text/plain": [
       "tensor([[  2.0446],\n",
       "        [  4.4944],\n",
       "        [  6.7572],\n",
       "        [  8.6736],\n",
       "        [ 10.3533],\n",
       "        [ 12.9942],\n",
       "        [ 14.8594],\n",
       "        [ 16.7725],\n",
       "        [ 18.7607],\n",
       "        [ 20.0987],\n",
       "        [ 22.9396],\n",
       "        [ 24.4453],\n",
       "        [ 26.2969],\n",
       "        [ 28.6564],\n",
       "        [ 30.9028],\n",
       "        [ 32.7445],\n",
       "        [ 34.4110],\n",
       "        [ 36.5072],\n",
       "        [ 38.5910],\n",
       "        [ 40.8799],\n",
       "        [ 42.6482],\n",
       "        [ 44.0152],\n",
       "        [ 46.7080],\n",
       "        [ 48.7600],\n",
       "        [ 50.6121],\n",
       "        [ 52.5170],\n",
       "        [ 54.0474],\n",
       "        [ 56.1381],\n",
       "        [ 58.6886],\n",
       "        [ 60.7923],\n",
       "        [ 62.1944],\n",
       "        [ 64.9328],\n",
       "        [ 66.0793],\n",
       "        [ 68.8558],\n",
       "        [ 70.9057],\n",
       "        [ 72.3082],\n",
       "        [ 74.3459],\n",
       "        [ 76.0067],\n",
       "        [ 78.0002],\n",
       "        [ 80.7826],\n",
       "        [ 82.9933],\n",
       "        [ 84.3469],\n",
       "        [ 86.6078],\n",
       "        [ 88.0178],\n",
       "        [ 90.9533],\n",
       "        [ 92.0521],\n",
       "        [ 94.0858],\n",
       "        [ 96.7013],\n",
       "        [ 98.1395],\n",
       "        [100.3695]])"
      ]
     },
     "execution_count": 10,
     "metadata": {},
     "output_type": "execute_result"
    }
   ],
   "source": [
    "y"
   ]
  },
  {
   "cell_type": "code",
   "execution_count": 11,
   "metadata": {},
   "outputs": [],
   "source": [
    "import matplotlib.pyplot as plt"
   ]
  },
  {
   "cell_type": "code",
   "execution_count": 12,
   "metadata": {
    "scrolled": true
   },
   "outputs": [
    {
     "data": {
      "text/plain": [
       "<matplotlib.collections.PathCollection at 0x29856f49188>"
      ]
     },
     "execution_count": 12,
     "metadata": {},
     "output_type": "execute_result"
    },
    {
     "data": {
      "image/png": "[encoded data removed]",
      "text/plain": [
       "<Figure size 432x288 with 1 Axes>"
      ]
     },
     "metadata": {
      "needs_background": "light"
     },
     "output_type": "display_data"
    }
   ],
   "source": [
    "plt.scatter(X, y)"
   ]
  },
  {
   "cell_type": "code",
   "execution_count": 13,
   "metadata": {
    "scrolled": true
   },
   "outputs": [
    {
     "data": {
      "text/plain": [
       "<matplotlib.collections.PathCollection at 0x29857d72208>"
      ]
     },
     "execution_count": 13,
     "metadata": {},
     "output_type": "execute_result"
    },
    {
     "data": {
      "image/png": "[encoded data removed]",
      "text/plain": [
       "<Figure size 432x288 with 1 Axes>"
      ]
     },
     "metadata": {
      "needs_background": "light"
     },
     "output_type": "display_data"
    }
   ],
   "source": [
    "y = (2*X) + 20 * bias\n",
    "plt.scatter(X, y)"
   ]
  },
  {
   "cell_type": "code",
   "execution_count": 19,
   "metadata": {},
   "outputs": [],
   "source": [
    "class Model(nn.Module):\n",
    "    def __init__(self):\n",
    "        super().__init__()\n",
    "        self.linear = nn.Linear(1, 1) # 1d going in 1d going out\n",
    "        \n",
    "    def forward(serlf, x):\n",
    "        output = self.linear()\n",
    "        return output"
   ]
  },
  {
   "cell_type": "code",
   "execution_count": 20,
   "metadata": {},
   "outputs": [],
   "source": [
    "model = Model()"
   ]
  },
  {
   "cell_type": "code",
   "execution_count": 22,
   "metadata": {},
   "outputs": [
    {
     "data": {
      "text/plain": [
       "<bound method Module.parameters of Model(\n",
       "  (linear): Linear(in_features=1, out_features=1, bias=True)\n",
       ")>"
      ]
     },
     "execution_count": 22,
     "metadata": {},
     "output_type": "execute_result"
    }
   ],
   "source": [
    "model.parameters"
   ]
  },
  {
   "cell_type": "code",
   "execution_count": 23,
   "metadata": {},
   "outputs": [
    {
     "data": {
      "text/plain": [
       "Parameter containing:\n",
       "tensor([[0.0254]], requires_grad=True)"
      ]
     },
     "execution_count": 23,
     "metadata": {},
     "output_type": "execute_result"
    }
   ],
   "source": [
    "model.linear.weight"
   ]
  },
  {
   "cell_type": "code",
   "execution_count": 24,
   "metadata": {},
   "outputs": [
    {
     "data": {
      "text/plain": [
       "Parameter containing:\n",
       "tensor([0.2206], requires_grad=True)"
      ]
     },
     "execution_count": 24,
     "metadata": {},
     "output_type": "execute_result"
    }
   ],
   "source": [
    "model.linear.bias"
   ]
  },
  {
   "cell_type": "code",
   "execution_count": 25,
   "metadata": {},
   "outputs": [],
   "source": [
    "bias = 0.3199\n",
    "weight = -0.2982\n",
    "\n",
    "ypred = weight*X + bias"
   ]
  },
  {
   "cell_type": "code",
   "execution_count": 31,
   "metadata": {},
   "outputs": [
    {
     "data": {
      "text/plain": [
       "<matplotlib.collections.PathCollection at 0x29858fb3dc8>"
      ]
     },
     "execution_count": 31,
     "metadata": {},
     "output_type": "execute_result"
    },
    {
     "data": {
      "image/png": "[encoded data removed]",
      "text/plain": [
       "<Figure size 432x288 with 1 Axes>"
      ]
     },
     "metadata": {
      "needs_background": "light"
     },
     "output_type": "display_data"
    }
   ],
   "source": [
    "plt.scatter(X, ypred)"
   ]
  },
  {
   "cell_type": "code",
   "execution_count": null,
   "metadata": {},
   "outputs": [],
   "source": [
    "def "
   ]
  }
 ],
 "metadata": {
  "kernelspec": {
   "display_name": "Python 3",
   "language": "python",
   "name": "python3"
  },
  "language_info": {
   "codemirror_mode": {
    "name": "ipython",
    "version": 3
   },
   "file_extension": ".py",
   "mimetype": "text/x-python",
   "name": "python",
   "nbconvert_exporter": "python",
   "pygments_lexer": "ipython3",
   "version": "3.7.4"
  }
 },
 "nbformat": 4,
 "nbformat_minor": 2
}
