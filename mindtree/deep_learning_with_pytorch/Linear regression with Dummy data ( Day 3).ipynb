{
 "cells": [
  {
   "cell_type": "code",
   "execution_count": 2,
   "metadata": {},
   "outputs": [],
   "source": [
    "import torch\n",
    "import torch.nn as nn\n",
    "import numpy as np"
   ]
  },
  {
   "cell_type": "code",
   "execution_count": 3,
   "metadata": {},
   "outputs": [],
   "source": [
    "X = torch.linspace(1,50,50).reshape(-1,1)"
   ]
  },
  {
   "cell_type": "code",
   "execution_count": 5,
   "metadata": {},
   "outputs": [],
   "source": [
    "bias = torch.rand_like(X)"
   ]
  },
  {
   "cell_type": "code",
   "execution_count": 11,
   "metadata": {},
   "outputs": [],
   "source": [
    "y = (2*X)+20*bias"
   ]
  },
  {
   "cell_type": "code",
   "execution_count": 9,
   "metadata": {},
   "outputs": [],
   "source": [
    "import matplotlib.pyplot as plt"
   ]
  },
  {
   "cell_type": "code",
   "execution_count": 12,
   "metadata": {},
   "outputs": [
    {
     "data": {
      "text/plain": [
       "<matplotlib.collections.PathCollection at 0x21882364a90>"
      ]
     },
     "execution_count": 12,
     "metadata": {},
     "output_type": "execute_result"
    },
    {
     "data": {
      "image/png": "[encoded data removed]",
      "text/plain": [
       "<Figure size 432x288 with 1 Axes>"
      ]
     },
     "metadata": {
      "needs_background": "light"
     },
     "output_type": "display_data"
    }
   ],
   "source": [
    "plt.scatter(X,y)"
   ]
  },
  {
   "cell_type": "code",
   "execution_count": null,
   "metadata": {},
   "outputs": [],
   "source": [
    "# Syntax for writing the model in pytorch\n",
    "\n",
    "# class Linear(nn.Module):\n",
    "#     def __init__(self):\n",
    "#         super().__init__()\n",
    "#         # Define model architecture/layout \n",
    "#         layers(i/p dim,o/p dim)\n",
    "    \n",
    "#     def forward (self,x):\n",
    "        \n",
    "#         return  Output\n",
    "    "
   ]
  },
  {
   "cell_type": "code",
   "execution_count": 13,
   "metadata": {},
   "outputs": [],
   "source": [
    "class Model(nn.Module):\n",
    "    def __init__(self):\n",
    "        super().__init__()\n",
    "        \n",
    "        self.linear = nn.Linear(1,1)\n",
    "    \n",
    "    def forward (self,x):\n",
    "                \n",
    "        output = self.linear(x)\n",
    "        return output   "
   ]
  },
  {
   "cell_type": "code",
   "execution_count": 14,
   "metadata": {},
   "outputs": [],
   "source": [
    "model = Model()"
   ]
  },
  {
   "cell_type": "code",
   "execution_count": 15,
   "metadata": {},
   "outputs": [
    {
     "data": {
      "text/plain": [
       "<bound method Module.parameters of Model(\n",
       "  (linear): Linear(in_features=1, out_features=1, bias=True)\n",
       ")>"
      ]
     },
     "execution_count": 15,
     "metadata": {},
     "output_type": "execute_result"
    }
   ],
   "source": [
    "model.parameters"
   ]
  },
  {
   "cell_type": "code",
   "execution_count": 16,
   "metadata": {},
   "outputs": [
    {
     "data": {
      "text/plain": [
       "Parameter containing:\n",
       "tensor([[-0.2982]], requires_grad=True)"
      ]
     },
     "execution_count": 16,
     "metadata": {},
     "output_type": "execute_result"
    }
   ],
   "source": [
    "model.linear.weight"
   ]
  },
  {
   "cell_type": "code",
   "execution_count": 17,
   "metadata": {},
   "outputs": [
    {
     "data": {
      "text/plain": [
       "Parameter containing:\n",
       "tensor([0.3199], requires_grad=True)"
      ]
     },
     "execution_count": 17,
     "metadata": {},
     "output_type": "execute_result"
    }
   ],
   "source": [
    "model.linear.bias"
   ]
  },
  {
   "cell_type": "code",
   "execution_count": 18,
   "metadata": {},
   "outputs": [],
   "source": [
    "bias = 0.3199\n",
    "weight = -0.2982\n",
    "\n",
    "ypred = (weight*X+bias)"
   ]
  },
  {
   "cell_type": "code",
   "execution_count": 19,
   "metadata": {},
   "outputs": [
    {
     "data": {
      "text/plain": [
       "[<matplotlib.lines.Line2D at 0x2188237db38>]"
      ]
     },
     "execution_count": 19,
     "metadata": {},
     "output_type": "execute_result"
    },
    {
     "data": {
      "image/png": "[encoded data removed]",
      "text/plain": [
       "<Figure size 432x288 with 1 Axes>"
      ]
     },
     "metadata": {
      "needs_background": "light"
     },
     "output_type": "display_data"
    }
   ],
   "source": [
    "plt.scatter(X,y)\n",
    "plt.plot(X.numpy(),ypred.numpy(),'r')"
   ]
  },
  {
   "cell_type": "code",
   "execution_count": null,
   "metadata": {},
   "outputs": [],
   "source": [
    "# Define loss function and optimizer"
   ]
  },
  {
   "cell_type": "markdown",
   "metadata": {},
   "source": [
    "<img src=\"Linear regression.png\" width=350, height=350>"
   ]
  },
  {
   "cell_type": "code",
   "execution_count": 20,
   "metadata": {},
   "outputs": [],
   "source": [
    "def mse(actual,predicted):\n",
    "    error = actual - predicted\n",
    "    Sq_error = error*error\n",
    "    meanse = np.mean(Sq_error)\n",
    "    return meanse"
   ]
  },
  {
   "cell_type": "code",
   "execution_count": 21,
   "metadata": {},
   "outputs": [
    {
     "data": {
      "text/plain": [
       "9.0"
      ]
     },
     "execution_count": 21,
     "metadata": {},
     "output_type": "execute_result"
    }
   ],
   "source": [
    "mse(10,7)"
   ]
  },
  {
   "cell_type": "code",
   "execution_count": 22,
   "metadata": {},
   "outputs": [],
   "source": [
    "def rmse(actual,predicted):\n",
    "    error = actual - predicted\n",
    "    Sq_error = error*error\n",
    "    meanse = np.mean(Sq_error)\n",
    "    rmse = np.sqrt(meanse)\n",
    "    return rmse"
   ]
  },
  {
   "cell_type": "code",
   "execution_count": 23,
   "metadata": {},
   "outputs": [
    {
     "data": {
      "text/plain": [
       "3.0"
      ]
     },
     "execution_count": 23,
     "metadata": {},
     "output_type": "execute_result"
    }
   ],
   "source": [
    "rmse(10,7)"
   ]
  },
  {
   "cell_type": "code",
   "execution_count": 24,
   "metadata": {},
   "outputs": [],
   "source": [
    "criterion = nn.MSELoss()"
   ]
  },
  {
   "cell_type": "markdown",
   "metadata": {},
   "source": [
    "\n",
    "<img src=\"gradient_descent_demystified.png\" >"
   ]
  },
  {
   "cell_type": "markdown",
   "metadata": {},
   "source": [
    "<img src=\"Covergance.png\" >"
   ]
  },
  {
   "cell_type": "markdown",
   "metadata": {},
   "source": [
    "\n",
    "<img src=\"learnning rate.png\" >\n"
   ]
  },
  {
   "cell_type": "code",
   "execution_count": 25,
   "metadata": {},
   "outputs": [],
   "source": [
    "optimizer = torch.optim.SGD(model.parameters(), lr = 0.001)"
   ]
  },
  {
   "cell_type": "code",
   "execution_count": null,
   "metadata": {},
   "outputs": [],
   "source": [
    "# syntax for forward and backward propogation is:\n",
    "\n",
    "# epochs = n\n",
    "# placeholder_for_loss = []\n",
    "\n",
    "# for i in range(n):\n",
    "#     # FORWARD pass\n",
    "#     predicted_y = model.forward(i/p)\n",
    "#     loss = criterion(y_predicted,y_actuals)\n",
    "#     placeholder_for_loss.append(loss)\n",
    "    \n",
    "#     # BACKWARD pass\n",
    "#     optimizer.zero_grad()\n",
    "#     loss.backward()\n",
    "#     optimizer.step()\n"
   ]
  },
  {
   "cell_type": "code",
   "execution_count": 26,
   "metadata": {},
   "outputs": [
    {
     "name": "stdout",
     "output_type": "stream",
     "text": [
      "epoch0 Loss 5470.07568359375  Bias 0.3199232816696167  Weight -0.29818296432495117 \n",
      "epoch1 Loss 2855.9619140625  Bias 0.4538939595222473  Weight 4.009437561035156 \n",
      "epoch2 Loss 1506.3699951171875  Bias 0.3679080605506897  Weight 0.9140410423278809 \n",
      "epoch3 Loss 809.6072998046875  Bias 0.4399593770503998  Weight 3.1378254890441895 \n",
      "epoch4 Loss 449.8762512207031  Bias 0.39845359325408936  Weight 1.5396974086761475 \n",
      "epoch5 Loss 264.142822265625  Bias 0.43853533267974854  Weight 2.6876718997955322 \n",
      "epoch6 Loss 168.2380828857422  Bias 0.419990211725235  Weight 1.862529993057251 \n",
      "epoch7 Loss 118.70865631103516  Bias 0.44356441497802734  Weight 2.4551024436950684 \n",
      "epoch8 Loss 93.12128448486328  Bias 0.436870276927948  Weight 2.0290257930755615 \n",
      "epoch9 Loss 79.89427947998047  Bias 0.45191943645477295  Weight 2.334864377975464 \n",
      "epoch10 Loss 73.0484848022461  Bias 0.4513407349586487  Weight 2.1148104667663574 \n",
      "epoch11 Loss 69.4970932006836  Bias 0.4619859457015991  Weight 2.272618532180786 \n",
      "epoch12 Loss 67.64655303955078  Bias 0.4645616412162781  Weight 2.1589274406433105 \n",
      "epoch13 Loss 66.6740951538086  Bias 0.4729304313659668  Weight 2.2403125762939453 \n",
      "epoch14 Loss 66.15497589111328  Bias 0.47713184356689453  Weight 2.181532621383667 \n",
      "epoch15 Loss 65.86990356445312  Bias 0.4843226373195648  Weight 2.223463296890259 \n",
      "epoch16 Loss 65.70568084716797  Bias 0.4893605709075928  Weight 2.1930325031280518 \n",
      "epoch17 Loss 65.60388946533203  Bias 0.4959404170513153  Weight 2.214594602584839 \n",
      "epoch18 Loss 65.53430938720703  Bias 0.5014074444770813  Weight 2.198798894882202 \n",
      "epoch19 Loss 65.48141479492188  Bias 0.5076690912246704  Weight 2.209845542907715 \n",
      "epoch20 Loss 65.43711853027344  Bias 0.5133548378944397  Weight 2.201605796813965 \n",
      "epoch21 Loss 65.39728546142578  Bias 0.5194494724273682  Weight 2.207223653793335 \n",
      "epoch22 Loss 65.35978698730469  Bias 0.5252453684806824  Weight 2.2028849124908447 \n",
      "epoch23 Loss 65.32350158691406  Bias 0.5312509536743164  Weight 2.205700159072876 \n",
      "epoch24 Loss 65.28784942626953  Bias 0.5371009707450867  Weight 2.2033753395080566 \n",
      "epoch25 Loss 65.2525634765625  Bias 0.5430578589439392  Weight 2.2047438621520996 \n",
      "epoch26 Loss 65.21745300292969  Bias 0.5489330291748047  Weight 2.203458786010742 \n",
      "epoch27 Loss 65.1824722290039  Bias 0.5548619627952576  Weight 2.204080581665039 \n",
      "epoch28 Loss 65.1475601196289  Bias 0.5607473254203796  Weight 2.2033324241638184 \n",
      "epoch29 Loss 65.11270904541016  Bias 0.5666590929031372  Weight 2.203568696975708 \n"
     ]
    }
   ],
   "source": [
    "epochs = 30\n",
    "losses = []\n",
    "\n",
    "for i in range(epochs):\n",
    "    y_pred2 = model.forward(X)\n",
    "    loss = criterion(y_pred2,y)\n",
    "    losses.append(loss)\n",
    "    \n",
    "    print(f\"epoch{i} Loss {loss.item()}  Bias {model.linear.bias.item()}  Weight {model.linear.weight.item()} \"  )\n",
    "    \n",
    "    optimizer.zero_grad()\n",
    "    loss.backward()\n",
    "    optimizer.step()"
   ]
  },
  {
   "cell_type": "code",
   "execution_count": 27,
   "metadata": {},
   "outputs": [],
   "source": [
    "w1 =2.2035\n",
    "b1 = 0.5666\n",
    "\n",
    "ypred_new = w1*X+b1"
   ]
  },
  {
   "cell_type": "code",
   "execution_count": 28,
   "metadata": {},
   "outputs": [
    {
     "data": {
      "text/plain": [
       "[<matplotlib.lines.Line2D at 0x218823ea358>]"
      ]
     },
     "execution_count": 28,
     "metadata": {},
     "output_type": "execute_result"
    },
    {
     "data": {
      "image/png": "[encoded data removed]",
      "text/plain": [
       "<Figure size 432x288 with 1 Axes>"
      ]
     },
     "metadata": {
      "needs_background": "light"
     },
     "output_type": "display_data"
    }
   ],
   "source": [
    "plt.scatter(X,y)\n",
    "plt.plot(X.numpy(),ypred_new.numpy(),'r')"
   ]
  },
  {
   "cell_type": "code",
   "execution_count": 1,
   "metadata": {},
   "outputs": [],
   "source": [
    "# Data download for day 4"
   ]
  },
  {
   "cell_type": "code",
   "execution_count": null,
   "metadata": {},
   "outputs": [],
   "source": [
    "from torch.utils.data import DataLoader \n",
    "from torchvision import datasets, transforms"
   ]
  },
  {
   "cell_type": "code",
   "execution_count": null,
   "metadata": {},
   "outputs": [],
   "source": [
    "transform = transforms.ToTensor()\n",
    "\n",
    "train_data = datasets.MNIST(root='../Data', train=True, download=True, transform=transform)\n",
    "test_data = datasets.MNIST(root='../Data', train=False, download=True, transform=transform)"
   ]
  }
 ],
 "metadata": {
  "kernelspec": {
   "display_name": "Python 3",
   "language": "python",
   "name": "python3"
  },
  "language_info": {
   "codemirror_mode": {
    "name": "ipython",
    "version": 3
   },
   "file_extension": ".py",
   "mimetype": "text/x-python",
   "name": "python",
   "nbconvert_exporter": "python",
   "pygments_lexer": "ipython3",
   "version": "3.7.0"
  }
 },
 "nbformat": 4,
 "nbformat_minor": 2
}
