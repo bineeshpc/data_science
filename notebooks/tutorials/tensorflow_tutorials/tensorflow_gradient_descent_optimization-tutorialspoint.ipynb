{
 "cells": [
  {
   "cell_type": "markdown",
   "metadata": {},
   "source": [
    "https://www.tutorialspoint.com/tensorflow/tensorflow_gradient_descent_optimization.htm\n",
    "\n"
   ]
  },
  {
   "cell_type": "code",
   "execution_count": 14,
   "metadata": {},
   "outputs": [],
   "source": [
    "\n",
    "import warnings\n",
    "warnings.filterwarnings(\"ignore\")\n",
    "\n",
    "import tensorflow as tf\n",
    "\n",
    "x = tf.Variable(1000, name = 'x', dtype = tf.float32)\n",
    "log_x = tf.log(x)\n",
    "log_x_squared = tf.square(log_x)\n",
    "\n",
    "optimizer = tf.train.GradientDescentOptimizer(0.5)\n",
    "train = optimizer.minimize(log_x_squared)\n"
   ]
  },
  {
   "cell_type": "code",
   "execution_count": 15,
   "metadata": {
    "scrolled": true
   },
   "outputs": [
    {
     "name": "stdout",
     "output_type": "stream",
     "text": [
      "1000.0\n"
     ]
    }
   ],
   "source": [
    "init = tf.global_variables_initializer()\n",
    "\n",
    "with tf.Session() as ses:\n",
    "    ses.run(init)\n",
    "    result = ses.run(x)\n",
    "    print(result)"
   ]
  },
  {
   "cell_type": "code",
   "execution_count": 51,
   "metadata": {
    "scrolled": true
   },
   "outputs": [
    {
     "name": "stdout",
     "output_type": "stream",
     "text": [
      "starting at x: 1000.0 log(x)^2: 47.717083\n",
      "step 0 x: 999.9931 log(x)^2: 47.716984\n",
      "step 10000 x: 928.74506 log(x)^2: 46.70129\n",
      "step 20000 x: 852.478 log(x)^2: 45.537495\n",
      "step 30000 x: 769.9007 log(x)^2: 44.172794\n",
      "step 40000 x: 678.9904 log(x)^2: 42.518314\n",
      "step 50000 x: 576.34436 log(x)^2: 40.4077\n",
      "step 60000 x: 455.22507 log(x)^2: 37.464092\n",
      "step 70000 x: 297.5271 log(x)^2: 32.438778\n",
      "step 80000 x: 1.0 log(x)^2: 0.0\n",
      "step 90000 x: 1.0 log(x)^2: 0.0\n"
     ]
    }
   ],
   "source": [
    "x = tf.Variable(1000, name = 'x', dtype = tf.float32)\n",
    "log_x = tf.log(x)\n",
    "log_x_squared = tf.square(log_x)\n",
    "\n",
    "optimizer = tf.train.GradientDescentOptimizer(0.5)\n",
    "train = optimizer.minimize(log_x_squared)\n",
    "\n",
    "def optimize():\n",
    "    init = tf.global_variables_initializer()\n",
    "    with tf.Session() as session:\n",
    "        session.run(init)\n",
    "        print(\"starting at\", \"x:\", session.run(x), \"log(x)^2:\", session.run(log_x_squared))\n",
    "\n",
    "        for step in range(100000):\n",
    "            session.run(train)\n",
    "            if step % 10000 == 0:\n",
    "                print(\"step\", step, \"x:\", session.run(x), \"log(x)^2:\", session.run(log_x_squared))\n",
    "\n",
    "optimize()"
   ]
  },
  {
   "cell_type": "code",
   "execution_count": 55,
   "metadata": {},
   "outputs": [
    {
     "name": "stdout",
     "output_type": "stream",
     "text": [
      "starting at x: 1000.0 x^2: 1000000.0\n",
      "step 0 x: 0.0 x^2: 0.0\n",
      "step 1 x: 0.0 x^2: 0.0\n",
      "step 2 x: 0.0 x^2: 0.0\n",
      "step 3 x: 0.0 x^2: 0.0\n",
      "step 4 x: 0.0 x^2: 0.0\n",
      "step 5 x: 0.0 x^2: 0.0\n",
      "step 6 x: 0.0 x^2: 0.0\n",
      "step 7 x: 0.0 x^2: 0.0\n",
      "step 8 x: 0.0 x^2: 0.0\n",
      "step 9 x: 0.0 x^2: 0.0\n"
     ]
    }
   ],
   "source": [
    "x = tf.Variable(1000, name = 'x', dtype = tf.float32)\n",
    "log_x = tf.log(x)\n",
    "log_x_squared = tf.square(log_x)\n",
    "\n",
    "optimizer = tf.train.GradientDescentOptimizer(0.5)\n",
    "\n",
    "x_square = tf.square(x)\n",
    "train = optimizer.minimize(x_square)\n",
    "\n",
    "def optimize():\n",
    "    init = tf.global_variables_initializer()\n",
    "    with tf.Session() as session:\n",
    "      session.run(init)\n",
    "      print(\"starting at\", \"x:\", session.run(x), \"x^2:\", session.run(x_square))\n",
    "\n",
    "      for step in range(10):\n",
    "         session.run(train)\n",
    "         print(\"step\", step, \"x:\", session.run(x), \"x^2:\", session.run(x_square))\n",
    "\n",
    "optimize()"
   ]
  }
 ],
 "metadata": {
  "kernelspec": {
   "display_name": "Python 3",
   "language": "python",
   "name": "python3"
  },
  "language_info": {
   "codemirror_mode": {
    "name": "ipython",
    "version": 3
   },
   "file_extension": ".py",
   "mimetype": "text/x-python",
   "name": "python",
   "nbconvert_exporter": "python",
   "pygments_lexer": "ipython3",
   "version": "3.7.3"
  }
 },
 "nbformat": 4,
 "nbformat_minor": 2
}
