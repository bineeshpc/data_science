{
 "cells": [
  {
   "cell_type": "markdown",
   "metadata": {},
   "source": [
    "https://www.guru99.com/tensor-tensorflow.html"
   ]
  },
  {
   "cell_type": "markdown",
   "metadata": {},
   "source": [
    "# What is a Tensor?\n",
    "A tensor is a vector or matrix of n-dimensions that represents all types of data. All values in a tensor hold identical data type with a known (or partially known) shape. The shape of the data is the dimensionality of the matrix or array.\n",
    "\n",
    "\n",
    "In TensorFlow, all the operations are conducted inside a graph. The graph is a set of computation that takes place successively. Each operation is called an **op node** and are connected to each other.\n",
    "\n",
    "In Machine Learning, models are feed with a list of objects called **feature vectors*\\*.\n",
    "\n",
    " These values will flow into an op node through the tensor and the result of this operation/computation will create a new tensor which in turn will be used in a new operation. All these operations can be viewed in the graph.\n",
    " \n",
    " "
   ]
  },
  {
   "cell_type": "markdown",
   "metadata": {},
   "source": [
    "Representation of a Tensor\n",
    "In TensorFlow, a tensor is a collection of feature vectors (i.e., array) of n-dimensions. For instance, if we have a 2x3 matrix with values from 1 to 6, we write:\n",
    "\n",
    "\n",
    "\n",
    "TensorFlow represents this matrix as:"
   ]
  },
  {
   "cell_type": "code",
   "execution_count": 22,
   "metadata": {},
   "outputs": [
    {
     "data": {
      "text/plain": [
       "[[1, 2, 3], [4, 5, 6]]"
      ]
     },
     "execution_count": 22,
     "metadata": {},
     "output_type": "execute_result"
    }
   ],
   "source": [
    "[[1, 2, 3],\n",
    " [4, 5, 6]\n",
    "]"
   ]
  },
  {
   "cell_type": "markdown",
   "metadata": {},
   "source": [
    "## Types of Tensor\n",
    "In TensorFlow, all the computations pass through one or more tensors. A tensor is an object with three properties:\n",
    "\n",
    "A unique label (name)\n",
    "A dimension (shape)\n",
    "A data type (dtype)\n",
    "Each operation you will do with TensorFlow involves the manipulation of a tensor. There are four main tensors you can create:\n",
    "\n",
    "1. tf.Variable\n",
    "2. tf.constant\n",
    "3. tf.placeholder\n",
    "4. tf.SparseTensor"
   ]
  },
  {
   "cell_type": "markdown",
   "metadata": {},
   "source": [
    "## Create a tensor of n-dimension"
   ]
  },
  {
   "cell_type": "code",
   "execution_count": 23,
   "metadata": {},
   "outputs": [],
   "source": [
    "import tensorflow as tf"
   ]
  },
  {
   "cell_type": "markdown",
   "metadata": {},
   "source": [
    "To create a tensor of dimension 0, run the following code"
   ]
  },
  {
   "cell_type": "code",
   "execution_count": 24,
   "metadata": {},
   "outputs": [
    {
     "name": "stdout",
     "output_type": "stream",
     "text": [
      "Tensor(\"Const_19:0\", shape=(), dtype=int16)\n"
     ]
    }
   ],
   "source": [
    "## rank 0\n",
    "# Default name\n",
    "r1 = tf.constant(1, tf.int16) \n",
    "print(r1)"
   ]
  },
  {
   "cell_type": "code",
   "execution_count": 25,
   "metadata": {},
   "outputs": [
    {
     "name": "stdout",
     "output_type": "stream",
     "text": [
      "Tensor(\"Const_20:0\", shape=(), dtype=float32)\n",
      "Tensor(\"Const_21:0\", shape=(), dtype=string)\n"
     ]
    }
   ],
   "source": [
    "# Decimal\n",
    "r1_decimal = tf.constant(1.12345, tf.float32)\n",
    "print(r1_decimal)\n",
    "# String\n",
    "r1_string = tf.constant(\"Guru99\", tf.string)\n",
    "print(r1_string)"
   ]
  },
  {
   "cell_type": "markdown",
   "metadata": {},
   "source": [
    "A tensor of dimension 1 can be created as follow:"
   ]
  },
  {
   "cell_type": "code",
   "execution_count": 26,
   "metadata": {},
   "outputs": [
    {
     "name": "stdout",
     "output_type": "stream",
     "text": [
      "Tensor(\"Const_22:0\", shape=(3,), dtype=int16)\n",
      "Tensor(\"Const_23:0\", shape=(3,), dtype=bool)\n"
     ]
    }
   ],
   "source": [
    "## Rank 1\n",
    "r1_vector = tf.constant([1,3,5], tf.int16)\n",
    "print(r1_vector)\n",
    "r2_boolean = tf.constant([True, True, False], tf.bool)\n",
    "print(r2_boolean)"
   ]
  },
  {
   "cell_type": "markdown",
   "metadata": {},
   "source": [
    "To create an array of 2 dimensions, you need to close the brackets after each row. Check the examples below"
   ]
  },
  {
   "cell_type": "code",
   "execution_count": 27,
   "metadata": {},
   "outputs": [
    {
     "name": "stdout",
     "output_type": "stream",
     "text": [
      "Tensor(\"Const_24:0\", shape=(2, 2), dtype=int16)\n"
     ]
    }
   ],
   "source": [
    "## Rank 2\n",
    "r2_matrix = tf.constant([ [1, 2],\n",
    "                          [3, 4] ],tf.int16)\n",
    "print(r2_matrix)"
   ]
  },
  {
   "cell_type": "markdown",
   "metadata": {},
   "source": [
    "A matrix with 3 dimensions is constructed by adding another level with the brackets."
   ]
  },
  {
   "cell_type": "code",
   "execution_count": 28,
   "metadata": {},
   "outputs": [
    {
     "name": "stdout",
     "output_type": "stream",
     "text": [
      "Tensor(\"Const_25:0\", shape=(1, 3, 2), dtype=int16)\n"
     ]
    }
   ],
   "source": [
    "## Rank 3\n",
    "r3_matrix = tf.constant([ [[1, 2],\n",
    "                           [3, 4], \n",
    "                           [5, 6]] ], tf.int16)\n",
    "print(r3_matrix)"
   ]
  },
  {
   "cell_type": "markdown",
   "metadata": {},
   "source": [
    "Shape of tensor\n",
    "When you print the tensor, TensorFlow guesses the shape. However, you can get the shape of the tensor with the shape property.\n",
    "\n",
    "Below, you construct a matrix filled with a number from 10 to 15 and you check the shape of m_shape"
   ]
  },
  {
   "cell_type": "code",
   "execution_count": 29,
   "metadata": {},
   "outputs": [
    {
     "data": {
      "text/plain": [
       "TensorShape([Dimension(3), Dimension(2)])"
      ]
     },
     "execution_count": 29,
     "metadata": {},
     "output_type": "execute_result"
    }
   ],
   "source": [
    "# Shape of tensor\n",
    "m_shape = tf.constant([ [10, 11],\n",
    "                        [12, 13],\n",
    "                        [14, 15] ]                      \n",
    "                     ) \n",
    "m_shape.shape"
   ]
  },
  {
   "cell_type": "code",
   "execution_count": 30,
   "metadata": {},
   "outputs": [
    {
     "name": "stdout",
     "output_type": "stream",
     "text": [
      "Tensor(\"zeros_1:0\", shape=(10,), dtype=float32)\n"
     ]
    }
   ],
   "source": [
    "# Create a vector of 0\n",
    "print(tf.zeros(10))"
   ]
  },
  {
   "cell_type": "code",
   "execution_count": 31,
   "metadata": {},
   "outputs": [
    {
     "name": "stdout",
     "output_type": "stream",
     "text": [
      "Tensor(\"ones_1:0\", shape=(10, 10), dtype=float32)\n"
     ]
    }
   ],
   "source": [
    "# Create a vector of 1\n",
    "print(tf.ones([10, 10]))"
   ]
  },
  {
   "cell_type": "markdown",
   "metadata": {},
   "source": [
    "tf.add(a, b)\n",
    "tf.substract(a, b)\n",
    "tf.multiply(a, b)\n",
    "tf.div(a, b)\n",
    "tf.pow(a, b)\n",
    "tf.exp(a)\n",
    "tf.sqrt(a)"
   ]
  },
  {
   "cell_type": "code",
   "execution_count": 32,
   "metadata": {},
   "outputs": [
    {
     "name": "stdout",
     "output_type": "stream",
     "text": [
      "Tensor(\"Mul_1:0\", shape=(1, 2), dtype=int32)\n"
     ]
    }
   ],
   "source": [
    "# Add\n",
    "tensor_a = tf.constant([[1,2]], dtype = tf.int32)\n",
    "tensor_b = tf.constant([[3, 4]], dtype = tf.int32)\n",
    "\n",
    "# Multiply\n",
    "tensor_multiply = tf.multiply(tensor_a, tensor_b)\n",
    "print(tensor_multiply)\t"
   ]
  },
  {
   "cell_type": "markdown",
   "metadata": {},
   "source": [
    "## Placeholder\n",
    "A placeholder has the purpose of feeding the tensor. Placeholder is used to initialize the data to flow inside the tensors. To supply a placeholder, you need to use the method feed_dict. The placeholder will be fed only within a session."
   ]
  },
  {
   "cell_type": "markdown",
   "metadata": {},
   "source": [
    "Session\n",
    "TensorFlow works around 3 main components:\n",
    "\n",
    "Graph\n",
    "Tensor\n",
    "Session"
   ]
  },
  {
   "cell_type": "markdown",
   "metadata": {},
   "source": [
    "## Graph\n",
    "\n",
    "The graph is fundamental in TensorFlow. All of the mathematical operations (ops) are performed inside a graph. You can imagine a graph as a project where every operations are done. The nodes represent these ops, they can absorb or create new tensors.\n",
    "\n",
    "## Tensor\n",
    "\n",
    "A tensor represents the data that progress between operations. You saw previously how to initialize a tensor. The difference between a constant and variable is the initial values of a variable will change over time.\n",
    "\n",
    "## Session\n",
    "\n",
    "A session will execute the operation from the graph. To feed the graph with the values of a tensor, you need to open a session. Inside a session, you must run an operator to create an output.\n",
    "\n",
    "Graphs and sessions are independent. You can run a session and get the values to use later for further computations.\n",
    "\n",
    "In the example below, you will:\n",
    "\n",
    "Create two tensors\n",
    "Create an operation\n",
    "Open a session\n",
    "Print the result\n",
    "Step 1) You create two tensors x and y\n",
    "\n",
    "## Create, run  and evaluate a session"
   ]
  },
  {
   "cell_type": "code",
   "execution_count": 33,
   "metadata": {},
   "outputs": [],
   "source": [
    "x = tf.constant([2])\n",
    "y = tf.constant([4])"
   ]
  },
  {
   "cell_type": "markdown",
   "metadata": {},
   "source": [
    "\t\t\n",
    "Step 2) You create the operator by multiplying x and y\n",
    "\n",
    "## Create operator"
   ]
  },
  {
   "cell_type": "code",
   "execution_count": 34,
   "metadata": {},
   "outputs": [],
   "source": [
    "multiply = tf.multiply(x, y)\t\t"
   ]
  },
  {
   "cell_type": "markdown",
   "metadata": {},
   "source": [
    "\t\n",
    "Step 3) You open a session. All the computations will happen within the session. When you are done, you need to close the session.\n",
    "\n",
    "## Create a session to run the code"
   ]
  },
  {
   "cell_type": "code",
   "execution_count": 36,
   "metadata": {},
   "outputs": [
    {
     "name": "stdout",
     "output_type": "stream",
     "text": [
      "[8]\n"
     ]
    }
   ],
   "source": [
    "sess = tf.Session()\n",
    "result_1 = sess.run(multiply)\n",
    "print(result_1)\n",
    "sess.close()"
   ]
  },
  {
   "cell_type": "markdown",
   "metadata": {},
   "source": [
    "Output\n",
    "\n",
    "[8]\t\t\t\n",
    "Code explanation\n",
    "\n",
    "tf.Session(): Open a session. All the operations will flow within the sessions\n",
    "run(multiply): execute the operation created in step 2.\n",
    "print(result_1): Finally, you can print the result\n",
    "close(): Close the session\n",
    "The result shows 8, which is the multiplication of x and y.\n",
    "\n",
    "Another way to create a session is inside a block. The advantage is it automatically closes the session."
   ]
  },
  {
   "cell_type": "code",
   "execution_count": 38,
   "metadata": {},
   "outputs": [
    {
     "name": "stdout",
     "output_type": "stream",
     "text": [
      "[8]\n"
     ]
    }
   ],
   "source": [
    "with tf.Session() as sess:    \n",
    "    result_2 = multiply.eval()\n",
    "print(result_2) \t\t\t"
   ]
  },
  {
   "cell_type": "markdown",
   "metadata": {},
   "source": [
    "Output\n",
    "\n",
    "[8]\t\t\t\n",
    "In a context of the session, you can use the eval() method to execute the operation. It is equivalent to run(). It makes the code more readable.\n",
    "\n",
    "You can create a session and see the values inside the tensors you created so far.\n",
    "\n",
    "## Check the tensors created before"
   ]
  },
  {
   "cell_type": "code",
   "execution_count": 39,
   "metadata": {},
   "outputs": [
    {
     "name": "stdout",
     "output_type": "stream",
     "text": [
      "1\n",
      "[[1 2]\n",
      " [3 4]]\n",
      "[[[1 2]\n",
      "  [3 4]\n",
      "  [5 6]]]\n"
     ]
    }
   ],
   "source": [
    "sess = tf.Session()\n",
    "print(sess.run(r1))\n",
    "print(sess.run(r2_matrix))\n",
    "print(sess.run(r3_matrix))\t\t\t"
   ]
  },
  {
   "cell_type": "markdown",
   "metadata": {},
   "source": [
    "Output\n",
    "\n",
    "1\n",
    "[[1 2] \n",
    " [3 4]]\n",
    "[[[1 2]  \n",
    "  [3 4]  \n",
    "  [5 6]]]\t\t\t\n",
    "Variables are empty by default, even after you create a tensor. You need to initialize the variable if you want to use the variable. The object tf.global_variables_initializer() needs to be called to initialize the values of a variable. This object will explicitly initialize all the variables. This is helpful before you train a model.\n",
    "\n",
    "You can check the values of the variables you created before. Note that you need to use run to evaluate the tensor"
   ]
  },
  {
   "cell_type": "code",
   "execution_count": 42,
   "metadata": {},
   "outputs": [
    {
     "ename": "NameError",
     "evalue": "name 'var_init_1' is not defined",
     "output_type": "error",
     "traceback": [
      "\u001b[1;31m---------------------------------------------------------------------------\u001b[0m",
      "\u001b[1;31mNameError\u001b[0m                                 Traceback (most recent call last)",
      "\u001b[1;32m<ipython-input-42-0194752fae13>\u001b[0m in \u001b[0;36m<module>\u001b[1;34m\u001b[0m\n\u001b[0;32m      1\u001b[0m \u001b[0msess\u001b[0m\u001b[1;33m.\u001b[0m\u001b[0mrun\u001b[0m\u001b[1;33m(\u001b[0m\u001b[0mtf\u001b[0m\u001b[1;33m.\u001b[0m\u001b[0mglobal_variables_initializer\u001b[0m\u001b[1;33m(\u001b[0m\u001b[1;33m)\u001b[0m\u001b[1;33m)\u001b[0m\u001b[1;33m\u001b[0m\u001b[1;33m\u001b[0m\u001b[0m\n\u001b[0;32m      2\u001b[0m \u001b[1;31m#print(sess.run(var))\u001b[0m\u001b[1;33m\u001b[0m\u001b[1;33m\u001b[0m\u001b[1;33m\u001b[0m\u001b[0m\n\u001b[1;32m----> 3\u001b[1;33m \u001b[0mprint\u001b[0m\u001b[1;33m(\u001b[0m\u001b[0msess\u001b[0m\u001b[1;33m.\u001b[0m\u001b[0mrun\u001b[0m\u001b[1;33m(\u001b[0m\u001b[0mvar_init_1\u001b[0m\u001b[1;33m)\u001b[0m\u001b[1;33m)\u001b[0m\u001b[1;33m\u001b[0m\u001b[1;33m\u001b[0m\u001b[0m\n\u001b[0m\u001b[0;32m      4\u001b[0m \u001b[0mprint\u001b[0m\u001b[1;33m(\u001b[0m\u001b[0msess\u001b[0m\u001b[1;33m.\u001b[0m\u001b[0mrun\u001b[0m\u001b[1;33m(\u001b[0m\u001b[0mvar_init_2\u001b[0m\u001b[1;33m)\u001b[0m\u001b[1;33m)\u001b[0m\u001b[1;33m\u001b[0m\u001b[1;33m\u001b[0m\u001b[0m\n",
      "\u001b[1;31mNameError\u001b[0m: name 'var_init_1' is not defined"
     ]
    }
   ],
   "source": [
    "sess.run(tf.global_variables_initializer())\n",
    "#print(sess.run(var))\n",
    "print(sess.run(var_init_1))\n",
    "print(sess.run(var_init_2))"
   ]
  },
  {
   "cell_type": "markdown",
   "metadata": {},
   "source": [
    "Output\n",
    "\n",
    "[[-0.05356491  0.75867283]]\n",
    "[[0 0]]\n",
    "[[10 20] \n",
    " [30 40]]\t\t\t\n",
    "You can use the placeholder you created before and feed it with actual value. You need to pass the data into the method feed_dict.\n",
    "\n",
    "For example, you will take the power of 2 of the placeholder data_placeholder_a.\n",
    "\n",
    "import numpy as np\n",
    "power_a = tf.pow(data_placeholder_a, 2)\n",
    "with tf.Session() as sess:  \n",
    "data = np.random.rand(1, 10)  \n",
    "print(sess.run(power_a, feed_dict={data_placeholder_a: data}))  # Will succeed.\t\t\t\n",
    "Code Explanation\n",
    "\n",
    "import numpy as np: Import numpy library to create the data\n",
    "tf.pow(data_placeholder_a, 2): Create the ops\n",
    "np.random.rand(1, 10): Create a random array of data\n",
    "feed_dict={data_placeholder_a: data}: Feed the placeholder with data\n",
    "Output\n",
    "\n",
    "[[0.05478134 0.27213147 0.8803037  0.0398424  0.21172127 0.01444725  0.02584014 0.3763949  0.66022706 0.7565559 ]]\t\t\t\n",
    "Graph\n",
    "TensorFlow depends on a genius approach to render the operation. All the computations are represented with a dataflow scheme. The dataflow graph has been developed to see to data dependencies between individual operation. Mathematical formula or algorithm are made of a number of successive operations. A graph is a convenient way to visualize how the computations are coordinated.\n",
    "\n",
    "The graph shows a node and an edge. The node is the representation of a operation, i.e. the unit of computation. The edge is the tensor, it can produce a new tensor or consume the input data. It depends on the dependencies between individual operation.\n",
    "\n",
    "The structure of the graph connects together the operations (i.e. the nodes) and how those are operation are feed. Note that the graph does not display the output of the operations, it only helps to visualize the connection between individual operations.\n",
    "\n",
    "Let's see an example.\n",
    "\n",
    "Imagine you want to evaluate the following function:\n",
    "\n",
    "\n",
    "\n",
    "TensorFlow will create a graph to execute the function. The graph looks like this:\n",
    "\n",
    "\n",
    "\n",
    "You can easily see the path that the tensors will take to reach the final destination.\n",
    "\n",
    "For instance, you can see the operation add cannot be done before and . The graph explains that it will:\n",
    "\n",
    "compute and :\n",
    "add 1) together\n",
    "add to 2)\n",
    "add 3) to\n",
    "x = tf.get_variable(\"x\", dtype=tf.int32,  initializer=tf.constant([5]))\n",
    "z = tf.get_variable(\"z\", dtype=tf.int32,  initializer=tf.constant([6]))\n",
    "c = tf.constant([5], name =\t\"constant\")square = tf.constant([2], name =\t\"square\")\n",
    "f = tf.multiply(x, z) + tf.pow(x, square) + z + c\t\t\t\n",
    "Code Explanation\n",
    "\n",
    "x: Initialize a variable called x with a constant value of 5\n",
    "z: Initialize a variable called z with a constant value of 6\n",
    "c: Initialize a constant tensor called c with a constant value of 5\n",
    "square: Initialize a constant tensor called square with a constant value of 2\n",
    "f: Construct the operator\n",
    "In this example, we choose to keep the values of the variables fixed. We also created a constant tensor called c which is the constant parameter in the function f. It takes a fixed value of 5. In the graph, you can see this parameter in the tensor called constant.\n",
    "\n",
    "We also constructed a constant tensor for the power in the operator tf.pow(). It is not necessary. We did it so that you can see the name of the tensor in the graph. It is the circle called square.\n",
    "\n",
    "From the graph, you can understand what will happen of the tensors and how it can return an output of 66.\n",
    "\n",
    "The code below evaluate the function in a session.\n",
    "\n",
    "init = tf.global_variables_initializer() # prepare to initialize all variables\n",
    "with tf.Session() as sess:    \n",
    "\tinit.run() # Initialize x and y    \n",
    "    function_result = f.eval()\n",
    "print(function_result)    \t\t\t\n",
    "Output\n",
    "\n",
    "[66]\t\t\t\n",
    "Summary\n",
    "TensorFlow works around:\n",
    "\n",
    "Graph: Computational environment containing the operations and tensors\n",
    "Tensors: Represents the data (or value) that will flow in the graph. It is the edge in the graph\n",
    "Sessions: Allow the execution of the operations\n",
    "Create a constant tensor\n",
    "\n",
    "constant\n",
    "\n",
    "object\n",
    "\n",
    "D0\n",
    "\n",
    "tf.constant(1, tf.int16)\n",
    "\n",
    "D1\n",
    "\n",
    "tf.constant([1,3,5], tf.int16)\n",
    "\n",
    "D2\n",
    "\n",
    "tf.constant([ [1, 2], [3, 4] ],tf.int16)\n",
    "\n",
    "D3\n",
    "\n",
    "tf.constant([ [[1, 2],[3, 4], [5, 6]] ], tf.int16)\n",
    "\n",
    "Create an operator\n",
    "\n",
    "Create an operator\n",
    "\n",
    "Object\n",
    "\n",
    "a+b\n",
    "\n",
    "tf.add(a, b)\n",
    "\n",
    "a*b\n",
    "\n",
    "tf.multiply(a, b)\n",
    "\n",
    "Create a variable tensor\n",
    "\n",
    "Create a variable\n",
    "\n",
    "object\n",
    "\n",
    "randomized value\n",
    "\n",
    "tf.get_variable(\"var\", [1, 2])\n",
    "\n",
    "initialized first value\n",
    "\n",
    "tf.get_variable(\"var_init_2\", dtype=tf.int32, initializer=[ [1, 2], [3, 4] ])\n",
    "\n",
    "Open a session\n",
    "\n",
    "Session\n",
    "\n",
    "object\n",
    "\n",
    "Create a session\n",
    "\n",
    "tf.Session()\n",
    "\n",
    "Run a session\n",
    "\n",
    "tf.Session.run()\n",
    "\n",
    "Evaluate a tensor\n",
    "\n",
    "variable_name.eval()\n",
    "\n",
    "Close a session\n",
    "\n",
    "sess.close()\n",
    "\n",
    "Session by block\n",
    "\n",
    "with tf.Session() as sess:\n",
    "\n",
    " "
   ]
  }
 ],
 "metadata": {
  "kernelspec": {
   "display_name": "Python 3",
   "language": "python",
   "name": "python3"
  },
  "language_info": {
   "codemirror_mode": {
    "name": "ipython",
    "version": 3
   },
   "file_extension": ".py",
   "mimetype": "text/x-python",
   "name": "python",
   "nbconvert_exporter": "python",
   "pygments_lexer": "ipython3",
   "version": "3.7.4"
  }
 },
 "nbformat": 4,
 "nbformat_minor": 2
}
