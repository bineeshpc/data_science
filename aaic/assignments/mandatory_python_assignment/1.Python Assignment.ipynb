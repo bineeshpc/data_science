{
 "cells": [
  {
   "cell_type": "markdown",
   "metadata": {
    "colab_type": "text",
    "id": "l0ZzOlyxB-kf"
   },
   "source": [
    "<h1>Python: without numpy or sklearn </h1>"
   ]
  },
  {
   "cell_type": "markdown",
   "metadata": {
    "colab_type": "text",
    "id": "C0xO8JV9B-ki"
   },
   "source": [
    "<h3> Q1: Given two matrices please print the product of those two matrices </h3>\n",
    "<pre>\n",
    "\n",
    "Ex 1: A   = [[1 3 4]\n",
    "             [2 5 7]\n",
    "             [5 9 6]]\n",
    "      B   = [[1 0 0]\n",
    "             [0 1 0]\n",
    "             [0 0 1]]\n",
    "      A*B = [[1 3 4]\n",
    "             [2 5 7]\n",
    "             [5 9 6]]\n",
    "\n",
    "     \n",
    "Ex 2: A   = [[1 2]\n",
    "             [3 4]]\n",
    "      B   = [[1 2 3 4 5]\n",
    "             [5 6 7 8 9]]\n",
    "      A*B = [[11 14 17 20 23]\n",
    "             [18 24 30 36 42]]\n",
    "             \n",
    "Ex 3: A   = [[1 2]\n",
    "             [3 4]]\n",
    "      B   = [[1 4]\n",
    "             [5 6]\n",
    "             [7 8]\n",
    "             [9 6]]\n",
    "      A*B =Not possible\n",
    "</pre>"
   ]
  },
  {
   "cell_type": "code",
   "execution_count": 1,
   "metadata": {
    "colab": {},
    "colab_type": "code",
    "id": "rnssAfpgB-kj"
   },
   "outputs": [],
   "source": [
    "# write your python code here\n",
    "# you can take the above example as sample input for your program to test\n",
    "# it should work for any general input try not to hard code for only given input examples\n",
    "\n",
    "A1 = [[1, 3, 4],\n",
    "             [2, 5, 7],\n",
    "             [5, 9, 6]]\n",
    "B1   = [[1, 0, 0],\n",
    "             [0, 1, 0],\n",
    "             [0, 0, 1]]\n",
    "A1B1 = [[1, 3, 4],\n",
    "             [2, 5, 7],\n",
    "             [5, 9, 6]]\n",
    "\n",
    "     \n",
    "A2   = [[1, 2],\n",
    "             [3, 3]]\n",
    "B2   = [[1, 2, 3, 4, 5],\n",
    "             [5, 6, 7, 8, 9]]\n",
    "A2B2 = [[11, 14, 17, 20, 23],\n",
    "             [18, 24, 30, 36, 42]]\n",
    "             \n",
    "A3   = [[1, 2],\n",
    "             [3, 4]]\n",
    "B3   = [[1, 4],\n",
    "             [5, 6],\n",
    "             [7, 8],\n",
    "             [9, 6]]\n",
    "A3B3 = \"Not possible\"\n",
    "\n",
    "# you can free to change all these codes/structure\n",
    "# here A and B are list of lists\n",
    "def matrix_mul(A, B):\n",
    "    \"\"\" Assuming that bad matrices will not be given as input \n",
    "    m x n\n",
    "        n x p\n",
    "    m x p matrix is the result\n",
    "    \"\"\"\n",
    "    \n",
    "    m = len(A)\n",
    "    n = len(A[0])\n",
    "    columns_A = n\n",
    "    rows_B = len(B)\n",
    "    p = len(B[0])\n",
    "    \n",
    "    if columns_A != rows_B:\n",
    "        return \"Not possible\"\n",
    "    \n",
    "    \n",
    "    C = []\n",
    "    \n",
    "    for i in range(m):\n",
    "        C.append([0] * p)\n",
    "        for j in range(p):\n",
    "            s = 0\n",
    "            for k in range(n):\n",
    "                s += A[i][k] * B[k][j]\n",
    "            C[i][j] = s\n",
    "            \n",
    "    return C\n"
   ]
  },
  {
   "cell_type": "code",
   "execution_count": 2,
   "metadata": {},
   "outputs": [],
   "source": [
    "matrix_mul(A1, B1)"
   ]
  },
  {
   "cell_type": "code",
   "execution_count": 3,
   "metadata": {},
   "outputs": [],
   "source": [
    "matrix_mul(A2, B2)\n"
   ]
  },
  {
   "cell_type": "code",
   "execution_count": 4,
   "metadata": {},
   "outputs": [],
   "source": [
    "matrix_mul(A3, B3)"
   ]
  },
  {
   "cell_type": "markdown",
   "metadata": {
    "colab_type": "text",
    "id": "at4VwLggB-kn"
   },
   "source": [
    "<h3> Q2: Select a number randomly with probability proportional to its magnitude from the given array of n elements</h3>\n",
    "\n",
    "consider an experiment, selecting an element from the list A randomly with probability proportional to its magnitude.\n",
    "assume we are doing the same experiment for 100 times with replacement, in each experiment you will print a number that is selected randomly from A.\n",
    "\n",
    "<pre>\n",
    "Ex 1: A = [0 5 27 6 13 28 100 45 10 79]\n",
    "let f(x) denote the number of times x getting selected in 100 experiments.\n",
    "f(100) > f(79) > f(45) > f(28) > f(27) > f(13) > f(10) > f(6) > f(5) > f(0)\n",
    "</pre>"
   ]
  },
  {
   "cell_type": "markdown",
   "metadata": {
    "colab": {},
    "colab_type": "code",
    "id": "B6S2dpBhB-kn",
    "scrolled": true
   },
   "source": [
    "https://stackoverflow.com/questions/16489449/select-element-from-array-with-probability-proportional-to-its-value\n",
    "\n",
    "Idea is taken from this link"
   ]
  },
  {
   "cell_type": "code",
   "execution_count": 5,
   "metadata": {
    "colab": {},
    "colab_type": "code",
    "id": "B6S2dpBhB-kn",
    "scrolled": true
   },
   "outputs": [],
   "source": [
    "from random import uniform\n",
    "# write your python code here\n",
    "# you can take the above example as sample input for your program to test\n",
    "# it should work for any general input try not to hard code for only given input examples\n",
    "\n",
    "\n",
    "# you can free to change all these codes/structure\n",
    "def pick_a_number_from_list(A):\n",
    "    # your code here for picking an element from with the probability propotional to its magnitude\n",
    "    cumsum = 0\n",
    "    cum_sum_array = []\n",
    "    for i in A:\n",
    "        cumsum += i\n",
    "        cum_sum_array.append(cumsum)\n",
    "    \n",
    "    random_number = uniform(cum_sum_array[0], cum_sum_array[-1])\n",
    "\n",
    "    if len(A) == 1:\n",
    "        return A[0]\n",
    "    if len(A) == 0:\n",
    "        raise Exception(\"Empty list\")\n",
    "        \n",
    "    index = None\n",
    "    for i in range(0, len(A)):\n",
    "        if random_number <= cum_sum_array[i]:\n",
    "            index = i\n",
    "            break\n",
    "    \n",
    "    return A[index]#selected_random_number\n",
    "\n",
    "A = [0, 5, 27, 6, 13, 28, 100, 45, 10, 79]\n",
    "values = []\n",
    "\n",
    "def sampling_based_on_magnitude():\n",
    "    for i in range(1,int(1e6)):\n",
    "        number = pick_a_number_from_list(A)\n",
    "        values.append(number)\n",
    "\n",
    "sampling_based_on_magnitude()"
   ]
  },
  {
   "cell_type": "code",
   "execution_count": 6,
   "metadata": {},
   "outputs": [
    {
     "data": {
      "text/plain": [
       "100    319750\n",
       "79     252251\n",
       "45     143848\n",
       "28      89260\n",
       "27      86351\n",
       "13      41626\n",
       "10      31875\n",
       "6       19192\n",
       "5       15846\n",
       "dtype: int64"
      ]
     },
     "execution_count": 6,
     "metadata": {},
     "output_type": "execute_result"
    }
   ],
   "source": [
    "import pandas as pd\n",
    "\n",
    "pd.Series(values).value_counts()"
   ]
  },
  {
   "cell_type": "markdown",
   "metadata": {
    "colab_type": "text",
    "id": "D1xQy2WWB-kq"
   },
   "source": [
    "<h3> Q3: Replace the digits in the string with #</h3>\n",
    "\n",
    "consider a string that will have digits in that, we need to remove all the not digits and replace the digits with #\n",
    "<pre>\n",
    "Ex 1: A = 234                Output: ###\n",
    "Ex 2: A = a2b3c4             Output: ###\n",
    "Ex 3: A = abc                Output:   (empty string)\n",
    "Ex 5: A = #2a$#b%c%561#      Output: ####\n",
    "</pre>"
   ]
  },
  {
   "cell_type": "code",
   "execution_count": 7,
   "metadata": {
    "colab": {},
    "colab_type": "code",
    "id": "fxczi2jzB-kr"
   },
   "outputs": [],
   "source": [
    "import re\n",
    "# write your python code here\n",
    "# you can take the above example as sample input for your program to test\n",
    "# it should work for any general input try not to hard code for only given input examples\n",
    "\n",
    "# you can free to change all these codes/structure\n",
    "# String: it will be the input to your program\n",
    "\n",
    "digit = re.compile(r\"[0-9]\")\n",
    "non_digit = re.compile(r\"[^0-9]\")\n",
    "\n",
    "def replace_digits(s):\n",
    "    # write your code\n",
    "    s = non_digit.sub(\"\", s)\n",
    "    s = digit.sub(\"#\", s)\n",
    "    return s # modified string which is after replacing the # with digits"
   ]
  },
  {
   "cell_type": "code",
   "execution_count": 8,
   "metadata": {
    "colab": {},
    "colab_type": "code",
    "id": "fxczi2jzB-kr"
   },
   "outputs": [],
   "source": [
    "test_strings = [(\"234\", \"###\"),\n",
    "(\"a2b3c4\", \"###\"),\n",
    "(\"abc\", \"\"),\n",
    "(\"#2a$#b%c%561#\", \"####\")\n",
    "]\n",
    "for test_string, expected_output in test_strings:\n",
    "    assert replace_digits(test_string) == expected_output"
   ]
  },
  {
   "cell_type": "markdown",
   "metadata": {
    "colab_type": "text",
    "id": "j7h0Ywg7B-kw"
   },
   "source": [
    "<h3> Q4: Students marks dashboard</h3>\n",
    "\n",
    "consider the marks list of class students given two lists <br>\n",
    "Students = ['student1','student2','student3','student4','student5','student6','student7','student8','student9','student10'] <br>\n",
    "Marks = [45, 78, 12, 14, 48, 43, 45, 98, 35, 80] <br>\n",
    "from the above two lists the Student[0] got Marks[0],  Student[1] got Marks[1] and so on <br><br>\n",
    "your task is to print the name of students\n",
    "<strong>a. Who got top 5 ranks, in the descending order of marks</strong> <br>\n",
    "<strong>b. Who got least 5 ranks, in the increasing order of marks</strong><br>\n",
    "<strong>d. Who got marks between  &gt;25th percentile &lt;75th percentile, in the increasing order of marks</strong>\n",
    "\n",
    "<pre>\n",
    "Ex 1: \n",
    "Students=['student1','student2','student3','student4','student5','student6','student7','student8','student9','student10'] \n",
    "Marks = [45, 78, 12, 14, 48, 43, 47, 98, 35, 80]\n",
    "a. \n",
    "student8  98\n",
    "student10 80\n",
    "student2  78\n",
    "student5  48\n",
    "student7  47\n",
    "b.\n",
    "student3 12\n",
    "student4 14\n",
    "student9 35\n",
    "student6 43\n",
    "student1 45\n",
    "c.\n",
    "student9 35\n",
    "student6 43\n",
    "student1 45\n",
    "student7 47\n",
    "student5 48\n",
    "</pre>"
   ]
  },
  {
   "cell_type": "code",
   "execution_count": 9,
   "metadata": {
    "colab": {},
    "colab_type": "code",
    "id": "cxPJgItsB-kx"
   },
   "outputs": [
    {
     "name": "stdout",
     "output_type": "stream",
     "text": [
      "top 5 students\n",
      "student8 98\n",
      "student10 80\n",
      "student2 78\n",
      "student5 48\n",
      "student7 47\n",
      "least 5 students\n",
      "student3 12\n",
      "student4 14\n",
      "student9 35\n",
      "student6 43\n",
      "student1 45\n",
      "students within 25 and 75\n",
      "student9 35 0.30000000000000004\n",
      "student6 43 0.4\n",
      "student1 45 0.5\n",
      "student7 47 0.6\n",
      "student5 48 0.7\n"
     ]
    }
   ],
   "source": [
    "# write your python code here\n",
    "# you can take the above example as sample input for your program to test\n",
    "# it should work for any general input try not to hard code for only given input examples\n",
    "Students=['student1','student2','student3','student4','student5','student6','student7','student8','student9','student10'] \n",
    "Marks = [45, 78, 12, 14, 48, 43, 47, 98, 35, 80]\n",
    "\n",
    "def get_top_5_students(Students, Marks):\n",
    "    student_marks = list(zip(Students, Marks))\n",
    "    student_marks.sort(key=lambda x: x[1], reverse=True)\n",
    "    return student_marks[:5]\n",
    "\n",
    "def get_least_5_students(Students, Marks):\n",
    "    student_marks = list(zip(Students, Marks))\n",
    "    student_marks.sort(key=lambda x: x[1])\n",
    "    return student_marks[:5]\n",
    "\n",
    "\n",
    "def get_students_within_25_and_75(Students, Marks):\n",
    "    student_marks = list(zip(Students, Marks))\n",
    "    student_marks.sort(key=lambda x: x[1])\n",
    "    cumsum = 0\n",
    "    n = len(Students)\n",
    "    cumsum_values = []\n",
    "    for student, mark in student_marks:\n",
    "        cumsum += 1 / n\n",
    "        cumsum_values.append((student, mark, cumsum))\n",
    "    return [(student, mark, cumsum) \n",
    "            for student, mark, cumsum in cumsum_values\n",
    "            if cumsum >= .25 and cumsum < .75]\n",
    "\n",
    "# you can free to change all these codes/structure\n",
    "def display_dash_board(students, marks):\n",
    "    # write code for computing top top 5 students\n",
    "    top_5_students = get_top_5_students(Students, Marks)# compute this\n",
    "    # write code for computing top least 5 students\n",
    "    least_5_students = get_least_5_students(Students, Marks) # compute this\n",
    "    # write code for computing top least 5 students\n",
    "    students_within_25_and_75 = get_students_within_25_and_75(Students, Marks) # compute this\n",
    "    \n",
    "    return top_5_students, least_5_students, students_within_25_and_75\n",
    "\n",
    "top_5_students, least_5_students, students_within_25_and_75 = display_dash_board(Students, Marks)\n",
    "\n",
    "def print_tuple(student_marks):\n",
    "    if len(student_marks[0]) == 2:\n",
    "        for student, mark in student_marks:\n",
    "            print(student, mark)\n",
    "    else:\n",
    "        for student, mark, cumsum in student_marks:\n",
    "            print(student, mark, cumsum)\n",
    "            \n",
    "print(\"top 5 students\")\n",
    "print_tuple(top_5_students)\n",
    "print(\"least 5 students\")\n",
    "print_tuple(least_5_students)\n",
    "print(\"students within 25 and 75\")\n",
    "print_tuple(students_within_25_and_75)"
   ]
  },
  {
   "cell_type": "markdown",
   "metadata": {
    "colab_type": "text",
    "id": "qha0OhQHB-k1"
   },
   "source": [
    "<h3> Q5: Find the closest points</h3>\n",
    "\n",
    "consider you have given n data points in the form of list of tuples like S=[(x1,y1),(x2,y2),(x3,y3),(x4,y4),(x5,y5),..,(xn,yn)] and a point P=(p,q) <br> your task is to find 5 closest points(based on cosine distance) in S from P\n",
    "<br>cosine distance between two points (x,y) and (p,q) is defind as $cos^{-1}(\\frac{(x\\cdot p+y\\cdot q)}{\\sqrt(x^2+y^2)\\cdot\\sqrt(p^2+q^2)})$\n",
    "<pre>\n",
    "Ex:\n",
    "\n",
    "S= [(1,2),(3,4),(-1,1),(6,-7),(0, 6),(-5,-8),(-1,-1)(6,0),(1,-1)]\n",
    "P= (3,-4)\n",
    "<img src='https://i.imgur.com/vIFPOcG.jpg', width=300>\n",
    "Output:\n",
    "(6,-7)\n",
    "(1,-1)\n",
    "(6,0)\n",
    "(-5,-8)\n",
    "(-1,-1)\n",
    "</pre>"
   ]
  },
  {
   "cell_type": "code",
   "execution_count": 10,
   "metadata": {
    "colab": {},
    "colab_type": "code",
    "id": "wA5I1g-2B-k2"
   },
   "outputs": [
    {
     "name": "stdout",
     "output_type": "stream",
     "text": [
      "[((6, -7), 0.06512516333438509), ((1, -1), 0.14189705460416438), ((6, 0), 0.9272952180016123), ((-5, -8), 1.2021004241368467), ((-1, -1), 1.4288992721907328)]\n"
     ]
    }
   ],
   "source": [
    "import math\n",
    "\n",
    "# write your python code here\n",
    "# you can take the above example as sample input for your program to test\n",
    "# it should work for any general input try not to hard code for only given input examples\n",
    "# you can free to change all these codes/structure\n",
    "\n",
    "def cosine_distance(X, P):\n",
    "    x, y = X\n",
    "    p, q = P\n",
    "    return math.acos((x * p + y * q)/ (math.sqrt(x**2 + y**2) * math.sqrt(p**2 + q**2)))\n",
    "\n",
    "# here S is list of tuples and P is a tuple ot len=2\n",
    "def closest_points_to_p(S, P):\n",
    "    # write your code here\n",
    "    distances = [(s, cosine_distance(s, P)) for s in S]\n",
    "    distances.sort(key=lambda x: x[1])\n",
    "    return distances[:5]  # its list of tuples\n",
    "\n",
    "S = [(1,2),(3,4),(-1,1),(6,-7),(0, 6),(-5,-8),(-1,-1),(6,0),(1,-1)]\n",
    "P= (3,-4)\n",
    "points = closest_points_to_p(S, P)\n",
    "print(points) #print the returned values"
   ]
  },
  {
   "cell_type": "code",
   "execution_count": 11,
   "metadata": {},
   "outputs": [
    {
     "name": "stdout",
     "output_type": "stream",
     "text": [
      "(6, -7)\n",
      "(1, -1)\n",
      "(6, 0)\n",
      "(-5, -8)\n",
      "(-1, -1)\n"
     ]
    }
   ],
   "source": [
    "for p, _ in points:\n",
    "    print(p)"
   ]
  },
  {
   "cell_type": "markdown",
   "metadata": {
    "colab_type": "text",
    "id": "-g11jeAiB-k5"
   },
   "source": [
    "<h3> Q6: Find Which line separates oranges and apples</h3>\n",
    "consider you have given two set of data points in the form of list of tuples like \n",
    "<pre>\n",
    "Red =[(R11,R12),(R21,R22),(R31,R32),(R41,R42),(R51,R52),..,(Rn1,Rn2)]\n",
    "Blue=[(B11,B12),(B21,B22),(B31,B32),(B41,B42),(B51,B52),..,(Bm1,Bm2)]\n",
    "</pre>\n",
    "and set of line equations(in the string formate, i.e list of strings)\n",
    "<pre>\n",
    "Lines = [a1x+b1y+c1,a2x+b2y+c2,a3x+b3y+c3,a4x+b4y+c4,..,K lines]\n",
    "Note: you need to string parsing here and get the coefficients of x,y and intercept\n",
    "</pre>\n",
    "your task is to for each line that is given print \"YES\"/\"NO\", you will print yes, if all the red points are one side of the line and blue points are other side of the line, otherwise no\n",
    "<pre>\n",
    "Ex:\n",
    "Red= [(1,1),(2,1),(4,2),(2,4), (-1,4)]\n",
    "Blue= [(-2,-1),(-1,-2),(-3,-2),(-3,-1),(1,-3)]\n",
    "Lines=[\"1x+1y+0\",\"1x-1y+0\",\"1x+0y-3\",\"0x+1y-0.5\"]\n",
    "<img src='https://i.imgur.com/DoQf7mE.jpg' width=400>\n",
    "Output:\n",
    "YES\n",
    "NO\n",
    "NO\n",
    "YES\n",
    "</pre>"
   ]
  },
  {
   "cell_type": "code",
   "execution_count": 12,
   "metadata": {},
   "outputs": [
    {
     "data": {
      "text/plain": [
       "(14.0, -13.0, -3.5)"
      ]
     },
     "execution_count": 12,
     "metadata": {},
     "output_type": "execute_result"
    }
   ],
   "source": [
    "class Stack:\n",
    "    def __init__(self):\n",
    "        self.stack = []\n",
    "        \n",
    "    def empty(self):\n",
    "        if len(self.stack) == 0:\n",
    "            return True\n",
    "        else:\n",
    "            return False\n",
    "        \n",
    "    def push(self, i):\n",
    "        self.stack.append(i)\n",
    "        \n",
    "    def pop(self):\n",
    "        if not self.empty():\n",
    "            return self.stack.pop()\n",
    "        else:\n",
    "            return None\n",
    "        \n",
    "    def get_list(self):\n",
    "        return self.stack\n",
    "    \n",
    "\"1x-1y-3\"\n",
    "def get_line_equation(s):\n",
    "    sign = Stack()\n",
    "    variable = Stack()\n",
    "    value = Stack()\n",
    "    \n",
    "    for i in s:\n",
    "        if i == 'x' or i == 'y':\n",
    "            variable.push(i)\n",
    "        elif i == '+':\n",
    "            sign.push(1)\n",
    "        elif i == '-':\n",
    "            sign.push(-1)\n",
    "        else:\n",
    "            if i == '.':\n",
    "                value.push('.')\n",
    "            else:\n",
    "                value.push(int(i))\n",
    "                \n",
    "        while not variable.empty():\n",
    "            variable_ = variable.pop()\n",
    "            \n",
    "            if not value.empty():\n",
    "                value_ = float(\"\".join(str(i) for i in value.get_list()))\n",
    "                while not value.empty():\n",
    "                    value.pop()\n",
    "                    \n",
    "            sign_value = sign.pop()\n",
    "            if sign_value is not None:\n",
    "                value_ = value_ * sign_value\n",
    "            if variable_ == 'x':\n",
    "                a = value_\n",
    "            if variable_ == 'y':\n",
    "                b = value_\n",
    "            \n",
    "    if not value.empty():\n",
    "        value_ = float(\"\".join(str(i) for i in value.get_list()))\n",
    "        while not value.empty():\n",
    "            value.pop()\n",
    "                \n",
    "        sign_value = sign.pop()\n",
    "        if sign_value is not None:\n",
    "            value_ = value_ * sign_value\n",
    "        c = value_\n",
    "                    \n",
    "    return a, b, c\n",
    "\n",
    "\n",
    "get_line_equation(\"14x-13y-3.5\")"
   ]
  },
  {
   "cell_type": "markdown",
   "metadata": {},
   "source": [
    "https://math.stackexchange.com/questions/274712/calculate-on-which-side-of-a-straight-line-is-a-given-point-located\n",
    "\n",
    "Idea is taken from this link.\n",
    "I take 2 points from the line and used the formula given in this link.\n"
   ]
  },
  {
   "cell_type": "code",
   "execution_count": 14,
   "metadata": {
    "colab": {},
    "colab_type": "code",
    "id": "eRxExaTRB-k6",
    "scrolled": false
   },
   "outputs": [
    {
     "name": "stdout",
     "output_type": "stream",
     "text": [
      "YES\n",
      "NO\n",
      "NO\n",
      "YES\n"
     ]
    }
   ],
   "source": [
    "import math\n",
    "# write your python code here\n",
    "# you can take the above example as sample input for your program to test\n",
    "# it should work for any general input try not to hard code for only given input strings\n",
    "\n",
    "\n",
    "\n",
    "\n",
    "def get_two_points(a, b, c):\n",
    "    try:\n",
    "        points = (0.0, -c/b), (1.0, (c-a)/b)\n",
    "    except ZeroDivisionError:\n",
    "        points = (-c/a, 0.0), (-c/a, 0.0)\n",
    "    return points\n",
    "\n",
    "def get_d_value(a, b, p):\n",
    "    x, y = p\n",
    "    x1, y1 = a\n",
    "    x2, y2 = b\n",
    "    d = (x-x1)*(y2-y1)-(y-y1)*(x2-x1)\n",
    "    return d\n",
    "\n",
    "def is_less_than_zero(x):\n",
    "    return x < 0\n",
    "\n",
    "def is_greater_than_zero(x):\n",
    "    return x > 0\n",
    "    \n",
    "\n",
    "def get_sign(values):\n",
    "    if len(values) < 0:\n",
    "        raise Exception(\"Empty values\")\n",
    "    if values[0] < 0:\n",
    "        if all(map(is_less_than_zero, values)):\n",
    "            return -1\n",
    "        else:\n",
    "            return 0\n",
    "    if values[0] > 0:\n",
    "        if all(map(is_greater_than_zero, values)):\n",
    "            return 1\n",
    "        else:\n",
    "            return 0\n",
    "    if values[0] == 0:\n",
    "        return 0\n",
    "        \n",
    "    \n",
    "# you can free to change all these codes/structure\n",
    "def i_am_the_one(reds,blues,line):\n",
    "    \n",
    "    a, b, c = get_line_equation(line)\n",
    "    \n",
    "    p1, p2 = get_two_points(a, b, c)\n",
    "    red_d_values = []\n",
    "    blue_d_values = []\n",
    "    for red, blue in zip(reds, blues):\n",
    "        red_d_values.append(get_d_value(p1, p2, red))\n",
    "        blue_d_values.append(get_d_value(p1, p2, blue))\n",
    "    \n",
    "    return get_sign(blue_d_values) * get_sign(red_d_values)\n",
    "\n",
    "Red= [(1,1),(2,1),(4,2),(2,4), (-1,4)]\n",
    "Blue= [(-2,-1),(-1,-2),(-3,-2),(-3,-1),(1,-3)]\n",
    "Lines=[\"1x+1y+0\",\"1x-1y+0\",\"1x+0y-3\",\"0x+1y-0.5\"]\n",
    "\n",
    "for i in Lines:\n",
    "    yes_or_no = i_am_the_one(Red, Blue, i)\n",
    "    if yes_or_no < 0:\n",
    "        print(\"YES\")\n",
    "    else:\n",
    "        print(\"NO\")\n",
    "    "
   ]
  },
  {
   "cell_type": "markdown",
   "metadata": {
    "colab_type": "text",
    "id": "9OBpURbNB-k9"
   },
   "source": [
    "<h3> Q7: Filling the missing values in the specified formate</h3>\n",
    "You will be given a string with digits and '\\_'(missing value) symbols you have to replace the '\\_' symbols as explained \n",
    "<pre>\n",
    "Ex 1: _, _, _, 24 ==> 24/4, 24/4, 24/4, 24/4 i.e we. have distributed the 24 equally to all 4 places <br>\n",
    "Ex 2: 40, _, _, _, 60 ==> (60+40)/5,(60+40)/5,(60+40)/5,(60+40)/5,(60+40)/5 ==> 20, 20, 20, 20, 20 i.e. the sum of (60+40) is distributed qually to all 5 places<br>\n",
    "Ex 3: 80, _, _, _, _  ==> 80/5,80/5,80/5,80/5,80/5 ==> 16, 16, 16, 16, 16 i.e. the 80 is distributed qually to all 5 missing values that are right to it<br>\n",
    "Ex 4: _, _, 30, _, _, _, 50, _, _  \n",
    "==> we will fill the missing values from left to right \n",
    "    a. first we will distribute the 30 to left two missing values (10, 10, 10, _, _, _, 50, _, _)\n",
    "    b. now distribute the sum (10+50) missing values in between (10, 10, 12, 12, 12, 12, 12, _, _) \n",
    "    c. now we will distribute 12 to right side missing values (10, 10, 12, 12, 12, 12, 4, 4, 4)\n",
    "</pre>\n",
    "for a given string with comma seprate values, which will have both missing values numbers like ex: \"_, _, x, _, _, _\"\n",
    "you need fill the missing values\n",
    "\n",
    "Q: your program reads a string like ex: \"_, _, x, _, _, _\" and returns the filled sequence\n",
    "\n",
    "Ex: \n",
    "<pre>\n",
    "Input1: \"_,_,_,24\"\n",
    "Output1: 6,6,6,6\n",
    "\n",
    "Input2: \"40,_,_,_,60\"\n",
    "Output2: 20,20,20,20,20\n",
    "\n",
    "Input3: \"80,_,_,_,_\"\n",
    "Output3: 16,16,16,16,16\n",
    "\n",
    "Input4: \"_,_,30,_,_,_,50,_,_\"\n",
    "Output4: 10,10,12,12,12,12,4,4,4\n",
    "</pre>\n",
    "\n"
   ]
  },
  {
   "cell_type": "code",
   "execution_count": 15,
   "metadata": {
    "colab": {},
    "colab_type": "code",
    "id": "nZmpzHs_B-k-"
   },
   "outputs": [
    {
     "name": "stdout",
     "output_type": "stream",
     "text": [
      "[6, 6, 6, 6]\n",
      "[20, 20, 20, 20, 20]\n",
      "[16, 16, 16, 16, 16]\n",
      "[10, 10, 12, 12, 12, 12, 4, 4, 4]\n"
     ]
    }
   ],
   "source": [
    "# write your python code here\n",
    "# you can take the above example as sample input for your program to test\n",
    "# it should work for any general input try not to hard code for only given input strings\n",
    "\n",
    "\n",
    "# you can free to change all these codes/structure\n",
    "def curve_smoothing(s):\n",
    "    values = s.split(\",\")\n",
    "    for i in range(len(values)):\n",
    "        if values[i] != \"_\":\n",
    "            values[i] = int(values[i])\n",
    "            \n",
    "    begin = 0\n",
    "    last = len(values) - 1\n",
    "\n",
    "    new_begin = 0\n",
    "    while begin < last:\n",
    "        if values[begin] == \"_\":\n",
    "            i = begin\n",
    "            while i < last and values[i] == \"_\":\n",
    "                i += 1\n",
    "            count = i - begin + 1\n",
    "            number = values[i] // count\n",
    "            new_begin = i\n",
    "            while i >= begin:\n",
    "                values[i] = number\n",
    "                i -= 1\n",
    "            begin = new_begin\n",
    "                \n",
    "        else: # number string\n",
    "            i = begin\n",
    "            \n",
    "            i += 1\n",
    "            while i < last and values[i] == \"_\":\n",
    "                i += 1\n",
    "            count = i - begin + 1\n",
    "            \n",
    "            if i <= last:\n",
    "                if values[i] == \"_\":\n",
    "                    number = values[begin] // count\n",
    "                else:\n",
    "                    number = (values[begin] + values[i]) // count\n",
    "                \n",
    "            else:\n",
    "                number = values[begin] // (count - 1)\n",
    "                i -= 1\n",
    "                \n",
    "            new_begin = i    \n",
    "            while i >= begin:\n",
    "                values[i] = number\n",
    "                i -= 1\n",
    "            begin = new_begin\n",
    "            \n",
    "    return values\n",
    "\n",
    "input_data = [\"_,_,_,24\",\n",
    "# 6,6,6,6\n",
    "\"40,_,_,_,60\",\n",
    "# 20,20,20,20,20\n",
    "\"80,_,_,_,_\",\n",
    "# 16,16,16,16,16\n",
    "\"_,_,30,_,_,_,50,_,_\"\n",
    "# 10,10,12,12,12,12,4,4,4\n",
    "]\n",
    "\n",
    "for inp in input_data:\n",
    "    smoothed_values= curve_smoothing(inp)\n",
    "    print(smoothed_values)"
   ]
  },
  {
   "cell_type": "markdown",
   "metadata": {
    "colab_type": "text",
    "id": "RBz4pzlfB-lB"
   },
   "source": [
    "<h3> Q8: Filling the missing values in the specified formate</h3>\n",
    "You will be given a list of lists, each sublist will be of length 2 i.e. [[x,y],[p,q],[l,m]..[r,s]]\n",
    "consider its like a martrix of n rows and two columns\n",
    "1. the first column F will contain only 5 uniques values (F1, F2, F3, F4, F5)\n",
    "2. the second column S will contain only 3 uniques values (S1, S2, S3)\n",
    "<pre>\n",
    "your task is to find\n",
    "a. Probability of P(F=F1|S==S1), P(F=F1|S==S2), P(F=F1|S==S3)\n",
    "b. Probability of P(F=F2|S==S1), P(F=F2|S==S2), P(F=F2|S==S3)\n",
    "c. Probability of P(F=F3|S==S1), P(F=F3|S==S2), P(F=F3|S==S3)\n",
    "d. Probability of P(F=F4|S==S1), P(F=F4|S==S2), P(F=F4|S==S3)\n",
    "e. Probability of P(F=F5|S==S1), P(F=F5|S==S2), P(F=F5|S==S3)\n",
    "</pre>\n",
    "Ex:\n",
    "\n",
    "<pre>\n",
    "[[F1,S1],[F2,S2],[F3,S3],[F1,S2],[F2,S3],[F3,S2],[F2,S1],[F4,S1],[F4,S3],[F5,S1]]\n",
    "\n",
    "a. P(F=F1|S==S1)=1/4, P(F=F1|S==S2)=1/3, P(F=F1|S==S3)=0/3\n",
    "b. P(F=F2|S==S1)=1/4, P(F=F2|S==S2)=1/3, P(F=F2|S==S3)=1/3\n",
    "c. P(F=F3|S==S1)=0/4, P(F=F3|S==S2)=1/3, P(F=F3|S==S3)=1/3\n",
    "d. P(F=F4|S==S1)=1/4, P(F=F4|S==S2)=0/3, P(F=F4|S==S3)=1/3\n",
    "e. P(F=F5|S==S1)=1/4, P(F=F5|S==S2)=0/3, P(F=F5|S==S3)=0/3\n",
    "</pre>\n",
    "\n",
    "\n"
   ]
  },
  {
   "cell_type": "code",
   "execution_count": 16,
   "metadata": {
    "colab": {},
    "colab_type": "code",
    "id": "e-1giz1MB-lC"
   },
   "outputs": [
    {
     "name": "stdout",
     "output_type": "stream",
     "text": [
      "P(F=F1|S==S1)=1/4, P(F=F1|S==S2)=1/3, P(F=F1|S==S3)=0/3, \n",
      "P(F=F2|S==S1)=1/4, P(F=F2|S==S2)=1/3, P(F=F2|S==S3)=1/3, \n",
      "P(F=F3|S==S1)=0/4, P(F=F3|S==S2)=1/3, P(F=F3|S==S3)=1/3, \n",
      "P(F=F4|S==S1)=1/4, P(F=F4|S==S2)=0/3, P(F=F4|S==S3)=1/3, \n",
      "P(F=F5|S==S1)=1/4, P(F=F5|S==S2)=0/3, P(F=F5|S==S3)=0/3, \n"
     ]
    }
   ],
   "source": [
    "# write your python code here\n",
    "# you can take the above example as sample input for your program to test\n",
    "# it should work for any general input try not to hard code for only given input strings\n",
    "\n",
    "\n",
    "\n",
    "# you can free to change all these codes/structure\n",
    "def compute_conditional_probabilites(A):\n",
    "    # your code\n",
    "    # print the output as per the instructions\n",
    "    m = 5\n",
    "    n = 3\n",
    "    count = []\n",
    "    for i in range(m):\n",
    "        count.append([])\n",
    "        for _ in range(n):\n",
    "            count[i].append(0)\n",
    "    s_count = [0, 0, 0]\n",
    "    for i in range(len(A)):\n",
    "        p = int(A[i][0].replace(\"F\", \"\"))\n",
    "        q = int(A[i][1].replace(\"S\", \"\"))\n",
    "        \n",
    "        count[p-1][q-1] += 1\n",
    "        s_count[q-1] += 1\n",
    "        \n",
    "    \n",
    "    for i in range(m):\n",
    "        for j in range(n):\n",
    "            \n",
    "            print(f\"P(F=F{i+1}|S==S{j+1})={count[i][j]}/{s_count[j]}, \", end=\"\")\n",
    "        print()\n",
    "\n",
    "A = [['F1','S1'],['F2','S2'],['F3','S3'],['F1','S2'],['F2','S3'],['F3','S2'],['F2','S1'],['F4','S1'],['F4','S3'],['F5','S1']]\n",
    "\n",
    "compute_conditional_probabilites(A)\n",
    "\n"
   ]
  },
  {
   "cell_type": "markdown",
   "metadata": {
    "colab_type": "text",
    "id": "n4HS87QmB-lF"
   },
   "source": [
    "<h3> Q9: Given two sentances S1, S2</h3>\n",
    "You will be given two sentances S1, S2 your task is to find \n",
    "<pre>\n",
    "a. Number of common words between S1, S2\n",
    "b. Words in S1 but not in S2\n",
    "c. Words in S2 but not in S1\n",
    "</pre>\n",
    "\n",
    "Ex: \n",
    "<pre>\n",
    "S1= \"the first column F will contain only 5 uniques values\"\n",
    "S2= \"the second column S will contain only 3 uniques values\"\n",
    "Output:\n",
    "a. 7\n",
    "b. ['first','F','5']\n",
    "c. ['second','S','3']\n",
    "</pre>"
   ]
  },
  {
   "cell_type": "code",
   "execution_count": 17,
   "metadata": {
    "colab": {},
    "colab_type": "code",
    "id": "Ez7hlHK0B-lG"
   },
   "outputs": [
    {
     "name": "stdout",
     "output_type": "stream",
     "text": [
      "7\n",
      "['F', '5', 'first']\n",
      "['S', 'second', '3']\n"
     ]
    }
   ],
   "source": [
    "# write your python code here\n",
    "# you can take the above example as sample input for your program to test\n",
    "# it should work for any general input try not to hard code for only given input strings\n",
    "\n",
    "# you can free to change all these codes/structure\n",
    "def string_features(S1, S2):\n",
    "    # your code\n",
    "    s1 = set(S1.split())\n",
    "    s2 = set(S2.split())\n",
    "    a = len(s1.intersection(s2))\n",
    "    b = s1.difference(s2)\n",
    "    c = s2.difference(s1)\n",
    "    return a, b, c\n",
    "\n",
    "S1= \"the first column F will contain only 5 uniques values\"\n",
    "S2= \"the second column S will contain only 3 uniques values\"\n",
    "a,b,c = string_features(S1, S2)\n",
    "print(a)\n",
    "print(list(b))\n",
    "print(list(c))"
   ]
  },
  {
   "cell_type": "markdown",
   "metadata": {
    "colab_type": "text",
    "id": "XefXVEjCB-lI"
   },
   "source": [
    "<h3> Q10: Given two sentances S1, S2</h3>\n",
    "You will be given a list of lists, each sublist will be of length 2 i.e. [[x,y],[p,q],[l,m]..[r,s]]\n",
    "consider its like a martrix of n rows and two columns\n",
    "\n",
    "a. the first column Y will contain interger values <br>\n",
    "b. the second column $Y_{score}$ will be having float values <br>\n",
    "Your task is to find the value of $f(Y,Y_{score}) = -1*\\frac{1}{n}\\Sigma_{for each Y,Y_{score} pair}(Ylog10(Y_{score})+(1-Y)log10(1-Y_{score}))$ here n is the number of rows in the matrix\n",
    "<pre>\n",
    "Ex:\n",
    "[[1, 0.4], [0, 0.5], [0, 0.9], [0, 0.3], [0, 0.6], [1, 0.1], [1, 0.9], [1, 0.8]]\n",
    "output:\n",
    "0.4243099\n",
    "</pre>\n",
    "$\\frac{-1}{8}\\cdot((1\\cdot log_{10}(0.4)+0\\cdot log_{10}(0.6))+(0\\cdot log_{10}(0.5)+1\\cdot log_{10}(0.5)) + ... + (1\\cdot log_{10}(0.8)+0\\cdot log_{10}(0.2)) )$"
   ]
  },
  {
   "cell_type": "code",
   "execution_count": 18,
   "metadata": {
    "colab": {},
    "colab_type": "code",
    "id": "N9zkagyNB-lJ"
   },
   "outputs": [
    {
     "name": "stdout",
     "output_type": "stream",
     "text": [
      "0.42430993457031635\n"
     ]
    }
   ],
   "source": [
    "# write your python code here\n",
    "# you can take the above example as sample input for your program to test\n",
    "# it should work for any general input try not to hard code for only given input strings\n",
    "\n",
    "\n",
    "# you can free to change all these codes/structure\n",
    "def compute_log_loss(A):\n",
    "    # your code\n",
    "    n = len(A)\n",
    "    loss = (-1 * 1 /n * \n",
    "            sum([y * math.log10(y_score) + (1 - y) * math.log10(1 - y_score)\n",
    "            for y, y_score in A]))\n",
    "    return loss\n",
    "\n",
    "A = [[1, 0.4], [0, 0.5], [0, 0.9], [0, 0.3], [0, 0.6], [1, 0.1], [1, 0.9], [1, 0.8]]\n",
    "loss = compute_log_loss(A)\n",
    "print(loss)"
   ]
  }
 ],
 "metadata": {
  "colab": {
   "collapsed_sections": [],
   "name": "1.Python Assignment.ipynb",
   "provenance": []
  },
  "kernelspec": {
   "display_name": "Python 3",
   "language": "python",
   "name": "python3"
  },
  "language_info": {
   "codemirror_mode": {
    "name": "ipython",
    "version": 3
   },
   "file_extension": ".py",
   "mimetype": "text/x-python",
   "name": "python",
   "nbconvert_exporter": "python",
   "pygments_lexer": "ipython3",
   "version": "3.7.3"
  }
 },
 "nbformat": 4,
 "nbformat_minor": 1
}
